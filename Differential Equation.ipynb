{
 "cells": [
  {
   "cell_type": "code",
   "execution_count": 1,
   "metadata": {
    "scrolled": true
   },
   "outputs": [],
   "source": [
    "import tensorflow as tf"
   ]
  },
  {
   "cell_type": "code",
   "execution_count": 2,
   "metadata": {},
   "outputs": [],
   "source": [
    "def sqr(var1):\n",
    "    return tf.math.square(var1)"
   ]
  },
  {
   "cell_type": "code",
   "execution_count": 3,
   "metadata": {
    "scrolled": true
   },
   "outputs": [],
   "source": [
    "alpha = tf.Variable(1.0)\n",
    "beta = tf.Variable(1.0)\n",
    "phi = tf.Variable(1.0)\n",
    "theta = tf.Variable(1.0)\n",
    "gamma = tf.Variable(1.0)\n",
    "r = tf.Variable(1)\n",
    "t = tf.Variable(1)\n",
    "rl = tf.Variable(1)"
   ]
  },
  {
   "cell_type": "code",
   "execution_count": 4,
   "metadata": {},
   "outputs": [],
   "source": [
    "c1 = tf.Variable(1/3)\n",
    "c2 = tf.Variable(2/3)"
   ]
  },
  {
   "cell_type": "code",
   "execution_count": 5,
   "metadata": {},
   "outputs": [],
   "source": [
    "sin_alpha = tf.math.sin(alpha)\n",
    "sin_two_alpha = tf.math.sin(2*alpha)\n",
    "sin_beta = tf.math.sin(beta)\n",
    "sin_two_beta = tf.math.sin(2*beta)\n",
    "sin_phi = tf.math.sin(phi)\n",
    "sin_two_phi = tf.math.sin(2*phi)\n",
    "sin_theta = tf.math.sin(theta)\n",
    "sin_two_theta = tf.math.sin(2*theta)\n",
    "sin_gamma = tf.math.sin(gamma)\n",
    "sin_phi_beta_subt = tf.math.sin(phi - beta)\n",
    "\n",
    "\n",
    "cos_alpha = tf.math.cos(alpha)\n",
    "cos_beta = tf.math.cos(beta)\n",
    "cos_two_beta = tf.math.cos(2*beta)\n",
    "cos_phi = tf.math.cos(phi)\n",
    "cos_two_phi = tf.math.cos(2*phi)\n",
    "cos_theta = tf.math.cos(theta)\n",
    "cos_gamma = tf.math.cos(gamma)\n",
    "cos_beta_phi_subt = tf.math.cos(beta - phi)\n",
    "cos_beta_theta_add = tf.math.cos(beta + theta)\n",
    "\n",
    "cosec_theta = tf.math.acos(theta)\n",
    "cot_theta = tf.math.atan(theta)\n",
    "cot_alpha = tf.math.atan(alpha)\n"
   ]
  },
  {
   "cell_type": "code",
   "execution_count": 6,
   "metadata": {},
   "outputs": [],
   "source": [
    "Z1 = sqr(sin_alpha)*sqr(sin_theta)*sqr(cos_beta_phi_subt) + sin_two_theta*sin_alpha*cos_beta_phi_subt - c1"
   ]
  },
  {
   "cell_type": "code",
   "execution_count": 7,
   "metadata": {},
   "outputs": [],
   "source": [
    "Z2 = sqr(sin_alpha)*sqr(cos_theta)*sqr(cos_beta_phi_subt) - sin_alpha*cos_alpha*sin_two_theta*cos_beta_phi_subt + sqr(cos_alpha)*sqr(sin_theta) - c1"
   ]
  },
  {
   "cell_type": "code",
   "execution_count": 9,
   "metadata": {},
   "outputs": [],
   "source": [
    "Z3 = sqr(sin_alpha)*sqr(cosec_theta)*sqr(sin_phi_beta_subt) - c1"
   ]
  },
  {
   "cell_type": "code",
   "execution_count": 10,
   "metadata": {},
   "outputs": [],
   "source": [
    "Z4 = sin_two_theta"
   ]
  },
  {
   "cell_type": "code",
   "execution_count": 11,
   "metadata": {},
   "outputs": [],
   "source": [
    "Z5 = sqr(sin_alpha)*sin_two_phi + sqr(cos_alpha)*sin_two_theta + sin_two_beta*sqr(sin_alpha)*cos_two_phi + sin_two_alpha*cot_theta*(cos_beta*sin_phi + sin_beta*cos_phi)"
   ]
  },
  {
   "cell_type": "code",
   "execution_count": 12,
   "metadata": {},
   "outputs": [],
   "source": [
    "Z6 = sqr(sin_alpha)*cot_theta*(cos_beta*sin_beta*cos_two_phi - sqr(cos_beta)*sin_two_phi) + sqr(sin_alpha)*sin_phi_beta_subt"
   ]
  },
  {
   "cell_type": "code",
   "execution_count": 13,
   "metadata": {},
   "outputs": [],
   "source": [
    "Z7 = sqr(sin_alpha)*(sqr(cos_theta)*sqr(cos_beta_theta_add) + sqr(cos_beta*sin_phi + sin_beta) -sqr(sin_beta)*sqr(sin_phi)  + sqr(cos_alpha)*sqr(sin_theta) - c2  )"
   ]
  },
  {
   "cell_type": "code",
   "execution_count": 14,
   "metadata": {},
   "outputs": [],
   "source": [
    "Z8 = sqr(cos_beta)*sqr(sin_alpha)"
   ]
  },
  {
   "cell_type": "code",
   "execution_count": 15,
   "metadata": {},
   "outputs": [],
   "source": [
    "Z9 = sqr(sin_alpha) * ( sin_beta*cos_beta*(sqr(cosec_theta)*cos_two_phi + cosec_theta*cot_theta + cos_two_phi) + sin_beta*cot_alpha*cot_theta*cos_phi - sin_phi*cos_phi*cos_two_beta*cot_theta*(cot_theta - cosec_theta))"
   ]
  },
  {
   "cell_type": "code",
   "execution_count": 16,
   "metadata": {},
   "outputs": [],
   "source": [
    "def u(t, r, alpha, beta, theta, phi, gamma, rl):\n",
    "    u = neural_net(tf.concat([t, r, alpha, beta, theta, phi, gamma, rl],1), weights, biases)\n",
    "    return u    \n"
   ]
  },
  {
   "cell_type": "code",
   "execution_count": 17,
   "metadata": {},
   "outputs": [],
   "source": [
    "def f(t, x):\n",
    "    u = u(t, r, alpha, beta, theta, phi, gamma, rl)\n",
    "    u_t = tf.gradients(u, t)[0]\n",
    "    u_r = tf.gradients(u, r)[0]\n",
    "    u_rr = tf.gradients(u_r, r)[0]\n",
    "    u_sq_rr = tf.gradients(sqr(r)*u_r, r)[0]\n",
    "    \n",
    "    u_th = tf.gradients(u, theta)[0]\n",
    "    u_th = tf.gradients(u_th, theta)[0]\n",
    "    u_th_sin = tf.gradients(tf.math.sin(theta)*u_th, theta)[0]\n",
    "    u_th_r = tf.gradients(u_th, r)[0]\n",
    "    u_th_ph = tf.gradients(u_th, phi)[0]\n",
    "    \n",
    "    u_ph = tf.gradients(u, phi)[0]\n",
    "    u_phph = tf.gradients(u_ph, phi)[0]\n",
    "    u_ph_r = tf.gradients(u_ph, r)[0]\n",
    "    \n",
    "    term1 = (1/sqr(r))*(u_sq_rr)\n",
    "    term2 = (1/sqr(r*sin_theta))*u_th_sin\n",
    "    term3 = (1/sqr(r*sin_theta))*u_phph\n",
    "    del_sqr_spherical = term1 + term2 + term3\n",
    "    \n",
    "    Z = Z1*u_rr + (1/sqr(r))*(Z2*u_thth + Z3*u_phph + Z4*u_th_r - Z5*u_ph_r - Z6*u_th_ph + Z8*u_th + Z9*u_phi)+(1/r)*Z7*u_r\n",
    "    f = u_t - del_sqr_spherical - Z               \n",
    "    return f               "
   ]
  },
  {
   "cell_type": "code",
   "execution_count": 18,
   "metadata": {},
   "outputs": [
    {
     "ename": "NameError",
     "evalue": "name 'neural_net' is not defined",
     "output_type": "error",
     "traceback": [
      "\u001b[0;31m---------------------------------------------------------------------------\u001b[0m",
      "\u001b[0;31mNameError\u001b[0m                                 Traceback (most recent call last)",
      "\u001b[0;32m<ipython-input-18-61df9e11c551>\u001b[0m in \u001b[0;36m<module>\u001b[0;34m\u001b[0m\n\u001b[0;32m----> 1\u001b[0;31m \u001b[0mu\u001b[0m \u001b[0;34m=\u001b[0m \u001b[0mu\u001b[0m\u001b[0;34m(\u001b[0m\u001b[0mt\u001b[0m\u001b[0;34m,\u001b[0m \u001b[0mr\u001b[0m\u001b[0;34m,\u001b[0m \u001b[0malpha\u001b[0m\u001b[0;34m,\u001b[0m \u001b[0mbeta\u001b[0m\u001b[0;34m,\u001b[0m \u001b[0mtheta\u001b[0m\u001b[0;34m,\u001b[0m \u001b[0mphi\u001b[0m\u001b[0;34m,\u001b[0m \u001b[0mgamma\u001b[0m\u001b[0;34m,\u001b[0m \u001b[0mrl\u001b[0m\u001b[0;34m)\u001b[0m\u001b[0;34m\u001b[0m\u001b[0;34m\u001b[0m\u001b[0m\n\u001b[0m",
      "\u001b[0;32m<ipython-input-16-211328512d46>\u001b[0m in \u001b[0;36mu\u001b[0;34m(t, r, alpha, beta, theta, phi, gamma, rl)\u001b[0m\n\u001b[1;32m      1\u001b[0m \u001b[0;32mdef\u001b[0m \u001b[0mu\u001b[0m\u001b[0;34m(\u001b[0m\u001b[0mt\u001b[0m\u001b[0;34m,\u001b[0m \u001b[0mr\u001b[0m\u001b[0;34m,\u001b[0m \u001b[0malpha\u001b[0m\u001b[0;34m,\u001b[0m \u001b[0mbeta\u001b[0m\u001b[0;34m,\u001b[0m \u001b[0mtheta\u001b[0m\u001b[0;34m,\u001b[0m \u001b[0mphi\u001b[0m\u001b[0;34m,\u001b[0m \u001b[0mgamma\u001b[0m\u001b[0;34m,\u001b[0m \u001b[0mrl\u001b[0m\u001b[0;34m)\u001b[0m\u001b[0;34m:\u001b[0m\u001b[0;34m\u001b[0m\u001b[0;34m\u001b[0m\u001b[0m\n\u001b[0;32m----> 2\u001b[0;31m     \u001b[0mu\u001b[0m \u001b[0;34m=\u001b[0m \u001b[0mneural_net\u001b[0m\u001b[0;34m(\u001b[0m\u001b[0mtf\u001b[0m\u001b[0;34m.\u001b[0m\u001b[0mconcat\u001b[0m\u001b[0;34m(\u001b[0m\u001b[0;34m[\u001b[0m\u001b[0mt\u001b[0m\u001b[0;34m,\u001b[0m \u001b[0mr\u001b[0m\u001b[0;34m,\u001b[0m \u001b[0malpha\u001b[0m\u001b[0;34m,\u001b[0m \u001b[0mbeta\u001b[0m\u001b[0;34m,\u001b[0m \u001b[0mtheta\u001b[0m\u001b[0;34m,\u001b[0m \u001b[0mphi\u001b[0m\u001b[0;34m,\u001b[0m \u001b[0mgamma\u001b[0m\u001b[0;34m,\u001b[0m \u001b[0mrl\u001b[0m\u001b[0;34m]\u001b[0m\u001b[0;34m,\u001b[0m\u001b[0;36m1\u001b[0m\u001b[0;34m)\u001b[0m\u001b[0;34m,\u001b[0m \u001b[0mweights\u001b[0m\u001b[0;34m,\u001b[0m \u001b[0mbiases\u001b[0m\u001b[0;34m)\u001b[0m\u001b[0;34m\u001b[0m\u001b[0;34m\u001b[0m\u001b[0m\n\u001b[0m\u001b[1;32m      3\u001b[0m     \u001b[0;32mreturn\u001b[0m \u001b[0mu\u001b[0m\u001b[0;34m\u001b[0m\u001b[0;34m\u001b[0m\u001b[0m\n",
      "\u001b[0;31mNameError\u001b[0m: name 'neural_net' is not defined"
     ]
    }
   ],
   "source": [
    "u = u(t, r, alpha, beta, theta, phi, gamma, rl)"
   ]
  },
  {
   "cell_type": "code",
   "execution_count": null,
   "metadata": {},
   "outputs": [],
   "source": []
  },
  {
   "cell_type": "code",
   "execution_count": null,
   "metadata": {},
   "outputs": [],
   "source": []
  },
  {
   "cell_type": "code",
   "execution_count": null,
   "metadata": {},
   "outputs": [],
   "source": []
  },
  {
   "cell_type": "code",
   "execution_count": null,
   "metadata": {},
   "outputs": [],
   "source": []
  }
 ],
 "metadata": {
  "kernelspec": {
   "display_name": "Python 3",
   "language": "python",
   "name": "python3"
  },
  "language_info": {
   "codemirror_mode": {
    "name": "ipython",
    "version": 3
   },
   "file_extension": ".py",
   "mimetype": "text/x-python",
   "name": "python",
   "nbconvert_exporter": "python",
   "pygments_lexer": "ipython3",
   "version": "3.7.4"
  }
 },
 "nbformat": 4,
 "nbformat_minor": 2
}
