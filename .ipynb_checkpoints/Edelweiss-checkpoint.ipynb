{
 "cells": [
  {
   "cell_type": "code",
   "execution_count": 59,
   "metadata": {},
   "outputs": [],
   "source": [
    "import pandas as pd\n",
    "from sklearn import svm\n",
    "import numpy as np\n",
    "from sklearn.preprocessing import OneHotEncoder\n",
    "from sklearn.model_selection import train_test_split\n",
    "from sklearn import preprocessing\n",
    "from sklearn.impute import SimpleImputer\n",
    "from sklearn.metrics import accuracy_score\n",
    "from sklearn.ensemble import RandomForestClassifier\n",
    "from sklearn.decomposition import PCA\n",
    "from sklearn.feature_extraction.text import TfidfVectorizer\n",
    "from nltk import sent_tokenize\n",
    "from sklearn.pipeline import FeatureUnion\n",
    "from sklearn.pipeline import Pipeline"
   ]
  },
  {
   "cell_type": "code",
   "execution_count": 2,
   "metadata": {},
   "outputs": [],
   "source": [
    "LMS = pd.ExcelFile('/home/aniket/Music/data/LMS_31JAN2019.xlsx')"
   ]
  },
  {
   "cell_type": "code",
   "execution_count": 3,
   "metadata": {},
   "outputs": [],
   "source": [
    "RF_Final_Data = pd.ExcelFile('/home/aniket/Music/data/RF_Final_Data.xlsx')"
   ]
  },
  {
   "cell_type": "code",
   "execution_count": 4,
   "metadata": {},
   "outputs": [],
   "source": [
    "Customers_31JAN2019 = pd.ExcelFile('/home/aniket/Music/data/Customers_31JAN2019.xlsx')"
   ]
  },
  {
   "cell_type": "code",
   "execution_count": 5,
   "metadata": {},
   "outputs": [],
   "source": [
    "dataFile1 = LMS.parse()"
   ]
  },
  {
   "cell_type": "code",
   "execution_count": 6,
   "metadata": {},
   "outputs": [
    {
     "data": {
      "text/plain": [
       "33354"
      ]
     },
     "execution_count": 6,
     "metadata": {},
     "output_type": "execute_result"
    }
   ],
   "source": [
    "dataFile1.drop_duplicates(subset='AGREEMENTID')\n",
    "dataFile1.AGREEMENTID.nunique()"
   ]
  },
  {
   "cell_type": "code",
   "execution_count": 7,
   "metadata": {},
   "outputs": [
    {
     "data": {
      "text/html": [
       "<div>\n",
       "<style scoped>\n",
       "    .dataframe tbody tr th:only-of-type {\n",
       "        vertical-align: middle;\n",
       "    }\n",
       "\n",
       "    .dataframe tbody tr th {\n",
       "        vertical-align: top;\n",
       "    }\n",
       "\n",
       "    .dataframe thead th {\n",
       "        text-align: right;\n",
       "    }\n",
       "</style>\n",
       "<table border=\"1\" class=\"dataframe\">\n",
       "  <thead>\n",
       "    <tr style=\"text-align: right;\">\n",
       "      <th></th>\n",
       "      <th>TicketId</th>\n",
       "      <th>Type</th>\n",
       "      <th>SubType</th>\n",
       "      <th>Status</th>\n",
       "      <th>Date</th>\n",
       "      <th>Preprocessed_EmailBody</th>\n",
       "      <th>Preprocessed_Subject</th>\n",
       "      <th>Masked_CustomerID</th>\n",
       "      <th>Masked_AgreementID</th>\n",
       "    </tr>\n",
       "  </thead>\n",
       "  <tbody>\n",
       "    <tr>\n",
       "      <th>0</th>\n",
       "      <td>571910</td>\n",
       "      <td>REQUEST</td>\n",
       "      <td>PROVISIONAL IT CERTIFICATE</td>\n",
       "      <td>Close</td>\n",
       "      <td>2019-01-23 16:34:00</td>\n",
       "      <td>hi team, can you please provide me itcertifica...</td>\n",
       "      <td>loan account number - loannumber</td>\n",
       "      <td>12020736</td>\n",
       "      <td>0</td>\n",
       "    </tr>\n",
       "    <tr>\n",
       "      <th>1</th>\n",
       "      <td>572747</td>\n",
       "      <td>REQUEST</td>\n",
       "      <td>SOA</td>\n",
       "      <td>Close</td>\n",
       "      <td>2019-01-24 16:05:00</td>\n",
       "      <td>hi team can you please arrange the certificate...</td>\n",
       "      <td>certificate of interest and principal for home...</td>\n",
       "      <td>12019080</td>\n",
       "      <td>0</td>\n",
       "    </tr>\n",
       "    <tr>\n",
       "      <th>2</th>\n",
       "      <td>4622</td>\n",
       "      <td>General</td>\n",
       "      <td>Others</td>\n",
       "      <td>Close</td>\n",
       "      <td>2016-02-12 13:40:00</td>\n",
       "      <td>NaN</td>\n",
       "      <td>re: repaysch : loan number loannumber</td>\n",
       "      <td>12004815</td>\n",
       "      <td>0</td>\n",
       "    </tr>\n",
       "    <tr>\n",
       "      <th>3</th>\n",
       "      <td>4674</td>\n",
       "      <td>REQUEST</td>\n",
       "      <td>SOA</td>\n",
       "      <td>Close</td>\n",
       "      <td>2016-02-12 15:41:00</td>\n",
       "      <td>dear sir, you for your promptreply, please not...</td>\n",
       "      <td>re: finalit : loan number loannumber</td>\n",
       "      <td>12005158</td>\n",
       "      <td>11230237</td>\n",
       "    </tr>\n",
       "    <tr>\n",
       "      <th>4</th>\n",
       "      <td>4681</td>\n",
       "      <td>QUERY</td>\n",
       "      <td>CHANGEOFROI</td>\n",
       "      <td>Close</td>\n",
       "      <td>2016-02-12 15:55:00</td>\n",
       "      <td>dear sachin, for your mail. this seems a great...</td>\n",
       "      <td>re: fw: repaysch : loan number loannumber</td>\n",
       "      <td>12001022</td>\n",
       "      <td>0</td>\n",
       "    </tr>\n",
       "  </tbody>\n",
       "</table>\n",
       "</div>"
      ],
      "text/plain": [
       "   TicketId     Type                     SubType Status                 Date  \\\n",
       "0    571910  REQUEST  PROVISIONAL IT CERTIFICATE  Close  2019-01-23 16:34:00   \n",
       "1    572747  REQUEST                         SOA  Close  2019-01-24 16:05:00   \n",
       "2      4622  General                      Others  Close  2016-02-12 13:40:00   \n",
       "3      4674  REQUEST                         SOA  Close  2016-02-12 15:41:00   \n",
       "4      4681    QUERY                 CHANGEOFROI  Close  2016-02-12 15:55:00   \n",
       "\n",
       "                              Preprocessed_EmailBody  \\\n",
       "0  hi team, can you please provide me itcertifica...   \n",
       "1  hi team can you please arrange the certificate...   \n",
       "2                                                NaN   \n",
       "3  dear sir, you for your promptreply, please not...   \n",
       "4  dear sachin, for your mail. this seems a great...   \n",
       "\n",
       "                                Preprocessed_Subject  Masked_CustomerID  \\\n",
       "0                   loan account number - loannumber           12020736   \n",
       "1  certificate of interest and principal for home...           12019080   \n",
       "2              re: repaysch : loan number loannumber           12004815   \n",
       "3               re: finalit : loan number loannumber           12005158   \n",
       "4          re: fw: repaysch : loan number loannumber           12001022   \n",
       "\n",
       "   Masked_AgreementID  \n",
       "0                   0  \n",
       "1                   0  \n",
       "2                   0  \n",
       "3            11230237  \n",
       "4                   0  "
      ]
     },
     "execution_count": 7,
     "metadata": {},
     "output_type": "execute_result"
    }
   ],
   "source": [
    "dataFile2 = RF_Final_Data.parse()\n",
    "dataFile2.head()"
   ]
  },
  {
   "cell_type": "code",
   "execution_count": 8,
   "metadata": {},
   "outputs": [
    {
     "data": {
      "text/html": [
       "<div>\n",
       "<style scoped>\n",
       "    .dataframe tbody tr th:only-of-type {\n",
       "        vertical-align: middle;\n",
       "    }\n",
       "\n",
       "    .dataframe tbody tr th {\n",
       "        vertical-align: top;\n",
       "    }\n",
       "\n",
       "    .dataframe thead th {\n",
       "        text-align: right;\n",
       "    }\n",
       "</style>\n",
       "<table border=\"1\" class=\"dataframe\">\n",
       "  <thead>\n",
       "    <tr style=\"text-align: right;\">\n",
       "      <th></th>\n",
       "      <th>CUSTOMERID</th>\n",
       "      <th>CUST_CONSTTYPE_ID</th>\n",
       "      <th>CUST_CATEGORYID</th>\n",
       "      <th>PROFESSION</th>\n",
       "      <th>AGE</th>\n",
       "      <th>SEX</th>\n",
       "      <th>MARITAL_STATUS</th>\n",
       "      <th>QUALIFICATION</th>\n",
       "      <th>NO_OF_DEPENDENT</th>\n",
       "      <th>OCCUPATION</th>\n",
       "      <th>POSITION</th>\n",
       "      <th>GROSS_INCOME</th>\n",
       "      <th>PRE_JOBYEARS</th>\n",
       "      <th>NETTAKEHOMEINCOME</th>\n",
       "      <th>BRANCH_PINCODE</th>\n",
       "    </tr>\n",
       "  </thead>\n",
       "  <tbody>\n",
       "    <tr>\n",
       "      <th>0</th>\n",
       "      <td>12001000</td>\n",
       "      <td>1</td>\n",
       "      <td>5</td>\n",
       "      <td>NaN</td>\n",
       "      <td>33.0</td>\n",
       "      <td>M</td>\n",
       "      <td>M</td>\n",
       "      <td>POSTGRAD</td>\n",
       "      <td>0.0</td>\n",
       "      <td>NaN</td>\n",
       "      <td>NaN</td>\n",
       "      <td>198375.221829</td>\n",
       "      <td>8.0</td>\n",
       "      <td>198375.221829</td>\n",
       "      <td>400070.0</td>\n",
       "    </tr>\n",
       "    <tr>\n",
       "      <th>1</th>\n",
       "      <td>12001001</td>\n",
       "      <td>1</td>\n",
       "      <td>5</td>\n",
       "      <td>NaN</td>\n",
       "      <td>44.0</td>\n",
       "      <td>M</td>\n",
       "      <td>M</td>\n",
       "      <td>POSTGRAD</td>\n",
       "      <td>0.0</td>\n",
       "      <td>NaN</td>\n",
       "      <td>NaN</td>\n",
       "      <td>242703.982915</td>\n",
       "      <td>10.0</td>\n",
       "      <td>242703.982915</td>\n",
       "      <td>400070.0</td>\n",
       "    </tr>\n",
       "    <tr>\n",
       "      <th>2</th>\n",
       "      <td>12001002</td>\n",
       "      <td>1</td>\n",
       "      <td>7</td>\n",
       "      <td>NaN</td>\n",
       "      <td>50.0</td>\n",
       "      <td>M</td>\n",
       "      <td>M</td>\n",
       "      <td>GRAD</td>\n",
       "      <td>0.0</td>\n",
       "      <td>NaN</td>\n",
       "      <td>NaN</td>\n",
       "      <td>0.000000</td>\n",
       "      <td>NaN</td>\n",
       "      <td>0.000000</td>\n",
       "      <td>400070.0</td>\n",
       "    </tr>\n",
       "    <tr>\n",
       "      <th>3</th>\n",
       "      <td>12001003</td>\n",
       "      <td>3</td>\n",
       "      <td>4</td>\n",
       "      <td>NaN</td>\n",
       "      <td>40.0</td>\n",
       "      <td>M</td>\n",
       "      <td>M</td>\n",
       "      <td>GRAD</td>\n",
       "      <td>0.0</td>\n",
       "      <td>NaN</td>\n",
       "      <td>NaN</td>\n",
       "      <td>365263.511624</td>\n",
       "      <td>NaN</td>\n",
       "      <td>365263.516128</td>\n",
       "      <td>400070.0</td>\n",
       "    </tr>\n",
       "    <tr>\n",
       "      <th>4</th>\n",
       "      <td>12001004</td>\n",
       "      <td>3</td>\n",
       "      <td>4</td>\n",
       "      <td>NaN</td>\n",
       "      <td>27.0</td>\n",
       "      <td>M</td>\n",
       "      <td>M</td>\n",
       "      <td>GRAD</td>\n",
       "      <td>0.0</td>\n",
       "      <td>NaN</td>\n",
       "      <td>NaN</td>\n",
       "      <td>187342.198995</td>\n",
       "      <td>NaN</td>\n",
       "      <td>187342.198995</td>\n",
       "      <td>400070.0</td>\n",
       "    </tr>\n",
       "  </tbody>\n",
       "</table>\n",
       "</div>"
      ],
      "text/plain": [
       "   CUSTOMERID  CUST_CONSTTYPE_ID  CUST_CATEGORYID  PROFESSION   AGE SEX  \\\n",
       "0    12001000                  1                5         NaN  33.0   M   \n",
       "1    12001001                  1                5         NaN  44.0   M   \n",
       "2    12001002                  1                7         NaN  50.0   M   \n",
       "3    12001003                  3                4         NaN  40.0   M   \n",
       "4    12001004                  3                4         NaN  27.0   M   \n",
       "\n",
       "  MARITAL_STATUS QUALIFICATION  NO_OF_DEPENDENT  OCCUPATION POSITION  \\\n",
       "0              M      POSTGRAD              0.0         NaN      NaN   \n",
       "1              M      POSTGRAD              0.0         NaN      NaN   \n",
       "2              M          GRAD              0.0         NaN      NaN   \n",
       "3              M          GRAD              0.0         NaN      NaN   \n",
       "4              M          GRAD              0.0         NaN      NaN   \n",
       "\n",
       "    GROSS_INCOME  PRE_JOBYEARS  NETTAKEHOMEINCOME  BRANCH_PINCODE  \n",
       "0  198375.221829           8.0      198375.221829        400070.0  \n",
       "1  242703.982915          10.0      242703.982915        400070.0  \n",
       "2       0.000000           NaN           0.000000        400070.0  \n",
       "3  365263.511624           NaN      365263.516128        400070.0  \n",
       "4  187342.198995           NaN      187342.198995        400070.0  "
      ]
     },
     "execution_count": 8,
     "metadata": {},
     "output_type": "execute_result"
    }
   ],
   "source": [
    "dataFile3 = Customers_31JAN2019.parse()\n",
    "dataFile3.head()"
   ]
  },
  {
   "cell_type": "code",
   "execution_count": 9,
   "metadata": {},
   "outputs": [],
   "source": [
    "min_max_scaler = preprocessing.MinMaxScaler()\n",
    "imp = SimpleImputer(missing_values=np.nan, strategy='mean')"
   ]
  },
  {
   "cell_type": "code",
   "execution_count": null,
   "metadata": {},
   "outputs": [],
   "source": []
  },
  {
   "cell_type": "code",
   "execution_count": 10,
   "metadata": {},
   "outputs": [
    {
     "data": {
      "text/html": [
       "<div>\n",
       "<style scoped>\n",
       "    .dataframe tbody tr th:only-of-type {\n",
       "        vertical-align: middle;\n",
       "    }\n",
       "\n",
       "    .dataframe tbody tr th {\n",
       "        vertical-align: top;\n",
       "    }\n",
       "\n",
       "    .dataframe thead th {\n",
       "        text-align: right;\n",
       "    }\n",
       "</style>\n",
       "<table border=\"1\" class=\"dataframe\">\n",
       "  <thead>\n",
       "    <tr style=\"text-align: right;\">\n",
       "      <th></th>\n",
       "      <th>AGREEMENTID</th>\n",
       "      <th>FORECLOSURE</th>\n",
       "    </tr>\n",
       "  </thead>\n",
       "  <tbody>\n",
       "    <tr>\n",
       "      <th>0</th>\n",
       "      <td>11220001</td>\n",
       "      <td>1</td>\n",
       "    </tr>\n",
       "    <tr>\n",
       "      <th>1</th>\n",
       "      <td>11220002</td>\n",
       "      <td>1</td>\n",
       "    </tr>\n",
       "    <tr>\n",
       "      <th>2</th>\n",
       "      <td>11220006</td>\n",
       "      <td>1</td>\n",
       "    </tr>\n",
       "    <tr>\n",
       "      <th>3</th>\n",
       "      <td>11220008</td>\n",
       "      <td>1</td>\n",
       "    </tr>\n",
       "    <tr>\n",
       "      <th>4</th>\n",
       "      <td>11220010</td>\n",
       "      <td>1</td>\n",
       "    </tr>\n",
       "    <tr>\n",
       "      <th>5</th>\n",
       "      <td>11220011</td>\n",
       "      <td>0</td>\n",
       "    </tr>\n",
       "    <tr>\n",
       "      <th>6</th>\n",
       "      <td>11220012</td>\n",
       "      <td>0</td>\n",
       "    </tr>\n",
       "    <tr>\n",
       "      <th>7</th>\n",
       "      <td>11220014</td>\n",
       "      <td>1</td>\n",
       "    </tr>\n",
       "    <tr>\n",
       "      <th>8</th>\n",
       "      <td>11220016</td>\n",
       "      <td>1</td>\n",
       "    </tr>\n",
       "    <tr>\n",
       "      <th>9</th>\n",
       "      <td>11220017</td>\n",
       "      <td>0</td>\n",
       "    </tr>\n",
       "    <tr>\n",
       "      <th>10</th>\n",
       "      <td>11220020</td>\n",
       "      <td>1</td>\n",
       "    </tr>\n",
       "    <tr>\n",
       "      <th>11</th>\n",
       "      <td>11220021</td>\n",
       "      <td>1</td>\n",
       "    </tr>\n",
       "    <tr>\n",
       "      <th>12</th>\n",
       "      <td>11220022</td>\n",
       "      <td>1</td>\n",
       "    </tr>\n",
       "    <tr>\n",
       "      <th>13</th>\n",
       "      <td>11220025</td>\n",
       "      <td>1</td>\n",
       "    </tr>\n",
       "    <tr>\n",
       "      <th>14</th>\n",
       "      <td>11220026</td>\n",
       "      <td>0</td>\n",
       "    </tr>\n",
       "    <tr>\n",
       "      <th>15</th>\n",
       "      <td>11220029</td>\n",
       "      <td>1</td>\n",
       "    </tr>\n",
       "    <tr>\n",
       "      <th>16</th>\n",
       "      <td>11220030</td>\n",
       "      <td>1</td>\n",
       "    </tr>\n",
       "    <tr>\n",
       "      <th>17</th>\n",
       "      <td>11220032</td>\n",
       "      <td>0</td>\n",
       "    </tr>\n",
       "    <tr>\n",
       "      <th>18</th>\n",
       "      <td>11220034</td>\n",
       "      <td>0</td>\n",
       "    </tr>\n",
       "    <tr>\n",
       "      <th>19</th>\n",
       "      <td>11220036</td>\n",
       "      <td>1</td>\n",
       "    </tr>\n",
       "    <tr>\n",
       "      <th>20</th>\n",
       "      <td>11220037</td>\n",
       "      <td>1</td>\n",
       "    </tr>\n",
       "    <tr>\n",
       "      <th>21</th>\n",
       "      <td>11220039</td>\n",
       "      <td>1</td>\n",
       "    </tr>\n",
       "    <tr>\n",
       "      <th>22</th>\n",
       "      <td>11220040</td>\n",
       "      <td>0</td>\n",
       "    </tr>\n",
       "    <tr>\n",
       "      <th>23</th>\n",
       "      <td>11220041</td>\n",
       "      <td>0</td>\n",
       "    </tr>\n",
       "    <tr>\n",
       "      <th>24</th>\n",
       "      <td>11220042</td>\n",
       "      <td>0</td>\n",
       "    </tr>\n",
       "    <tr>\n",
       "      <th>25</th>\n",
       "      <td>11220043</td>\n",
       "      <td>0</td>\n",
       "    </tr>\n",
       "    <tr>\n",
       "      <th>26</th>\n",
       "      <td>11220044</td>\n",
       "      <td>0</td>\n",
       "    </tr>\n",
       "    <tr>\n",
       "      <th>27</th>\n",
       "      <td>11220046</td>\n",
       "      <td>0</td>\n",
       "    </tr>\n",
       "    <tr>\n",
       "      <th>28</th>\n",
       "      <td>11220048</td>\n",
       "      <td>1</td>\n",
       "    </tr>\n",
       "    <tr>\n",
       "      <th>29</th>\n",
       "      <td>11220050</td>\n",
       "      <td>0</td>\n",
       "    </tr>\n",
       "    <tr>\n",
       "      <th>...</th>\n",
       "      <td>...</td>\n",
       "      <td>...</td>\n",
       "    </tr>\n",
       "    <tr>\n",
       "      <th>19982</th>\n",
       "      <td>11253310</td>\n",
       "      <td>0</td>\n",
       "    </tr>\n",
       "    <tr>\n",
       "      <th>19983</th>\n",
       "      <td>11253314</td>\n",
       "      <td>0</td>\n",
       "    </tr>\n",
       "    <tr>\n",
       "      <th>19984</th>\n",
       "      <td>11253316</td>\n",
       "      <td>0</td>\n",
       "    </tr>\n",
       "    <tr>\n",
       "      <th>19985</th>\n",
       "      <td>11253318</td>\n",
       "      <td>0</td>\n",
       "    </tr>\n",
       "    <tr>\n",
       "      <th>19986</th>\n",
       "      <td>11253319</td>\n",
       "      <td>0</td>\n",
       "    </tr>\n",
       "    <tr>\n",
       "      <th>19987</th>\n",
       "      <td>11253321</td>\n",
       "      <td>0</td>\n",
       "    </tr>\n",
       "    <tr>\n",
       "      <th>19988</th>\n",
       "      <td>11253322</td>\n",
       "      <td>0</td>\n",
       "    </tr>\n",
       "    <tr>\n",
       "      <th>19989</th>\n",
       "      <td>11253323</td>\n",
       "      <td>0</td>\n",
       "    </tr>\n",
       "    <tr>\n",
       "      <th>19990</th>\n",
       "      <td>11253324</td>\n",
       "      <td>0</td>\n",
       "    </tr>\n",
       "    <tr>\n",
       "      <th>19991</th>\n",
       "      <td>11253325</td>\n",
       "      <td>0</td>\n",
       "    </tr>\n",
       "    <tr>\n",
       "      <th>19992</th>\n",
       "      <td>11253328</td>\n",
       "      <td>0</td>\n",
       "    </tr>\n",
       "    <tr>\n",
       "      <th>19993</th>\n",
       "      <td>11253329</td>\n",
       "      <td>0</td>\n",
       "    </tr>\n",
       "    <tr>\n",
       "      <th>19994</th>\n",
       "      <td>11253330</td>\n",
       "      <td>0</td>\n",
       "    </tr>\n",
       "    <tr>\n",
       "      <th>19995</th>\n",
       "      <td>11253333</td>\n",
       "      <td>0</td>\n",
       "    </tr>\n",
       "    <tr>\n",
       "      <th>19996</th>\n",
       "      <td>11253335</td>\n",
       "      <td>0</td>\n",
       "    </tr>\n",
       "    <tr>\n",
       "      <th>19997</th>\n",
       "      <td>11253337</td>\n",
       "      <td>0</td>\n",
       "    </tr>\n",
       "    <tr>\n",
       "      <th>19998</th>\n",
       "      <td>11253338</td>\n",
       "      <td>0</td>\n",
       "    </tr>\n",
       "    <tr>\n",
       "      <th>19999</th>\n",
       "      <td>11253339</td>\n",
       "      <td>0</td>\n",
       "    </tr>\n",
       "    <tr>\n",
       "      <th>20000</th>\n",
       "      <td>11253340</td>\n",
       "      <td>0</td>\n",
       "    </tr>\n",
       "    <tr>\n",
       "      <th>20001</th>\n",
       "      <td>11253341</td>\n",
       "      <td>0</td>\n",
       "    </tr>\n",
       "    <tr>\n",
       "      <th>20002</th>\n",
       "      <td>11253344</td>\n",
       "      <td>0</td>\n",
       "    </tr>\n",
       "    <tr>\n",
       "      <th>20003</th>\n",
       "      <td>11253345</td>\n",
       "      <td>0</td>\n",
       "    </tr>\n",
       "    <tr>\n",
       "      <th>20004</th>\n",
       "      <td>11253346</td>\n",
       "      <td>0</td>\n",
       "    </tr>\n",
       "    <tr>\n",
       "      <th>20005</th>\n",
       "      <td>11253347</td>\n",
       "      <td>0</td>\n",
       "    </tr>\n",
       "    <tr>\n",
       "      <th>20006</th>\n",
       "      <td>11253348</td>\n",
       "      <td>0</td>\n",
       "    </tr>\n",
       "    <tr>\n",
       "      <th>20007</th>\n",
       "      <td>11253349</td>\n",
       "      <td>0</td>\n",
       "    </tr>\n",
       "    <tr>\n",
       "      <th>20008</th>\n",
       "      <td>11253350</td>\n",
       "      <td>0</td>\n",
       "    </tr>\n",
       "    <tr>\n",
       "      <th>20009</th>\n",
       "      <td>11253351</td>\n",
       "      <td>0</td>\n",
       "    </tr>\n",
       "    <tr>\n",
       "      <th>20010</th>\n",
       "      <td>11253353</td>\n",
       "      <td>0</td>\n",
       "    </tr>\n",
       "    <tr>\n",
       "      <th>20011</th>\n",
       "      <td>11253354</td>\n",
       "      <td>0</td>\n",
       "    </tr>\n",
       "  </tbody>\n",
       "</table>\n",
       "<p>20012 rows × 2 columns</p>\n",
       "</div>"
      ],
      "text/plain": [
       "       AGREEMENTID  FORECLOSURE\n",
       "0         11220001            1\n",
       "1         11220002            1\n",
       "2         11220006            1\n",
       "3         11220008            1\n",
       "4         11220010            1\n",
       "5         11220011            0\n",
       "6         11220012            0\n",
       "7         11220014            1\n",
       "8         11220016            1\n",
       "9         11220017            0\n",
       "10        11220020            1\n",
       "11        11220021            1\n",
       "12        11220022            1\n",
       "13        11220025            1\n",
       "14        11220026            0\n",
       "15        11220029            1\n",
       "16        11220030            1\n",
       "17        11220032            0\n",
       "18        11220034            0\n",
       "19        11220036            1\n",
       "20        11220037            1\n",
       "21        11220039            1\n",
       "22        11220040            0\n",
       "23        11220041            0\n",
       "24        11220042            0\n",
       "25        11220043            0\n",
       "26        11220044            0\n",
       "27        11220046            0\n",
       "28        11220048            1\n",
       "29        11220050            0\n",
       "...            ...          ...\n",
       "19982     11253310            0\n",
       "19983     11253314            0\n",
       "19984     11253316            0\n",
       "19985     11253318            0\n",
       "19986     11253319            0\n",
       "19987     11253321            0\n",
       "19988     11253322            0\n",
       "19989     11253323            0\n",
       "19990     11253324            0\n",
       "19991     11253325            0\n",
       "19992     11253328            0\n",
       "19993     11253329            0\n",
       "19994     11253330            0\n",
       "19995     11253333            0\n",
       "19996     11253335            0\n",
       "19997     11253337            0\n",
       "19998     11253338            0\n",
       "19999     11253339            0\n",
       "20000     11253340            0\n",
       "20001     11253341            0\n",
       "20002     11253344            0\n",
       "20003     11253345            0\n",
       "20004     11253346            0\n",
       "20005     11253347            0\n",
       "20006     11253348            0\n",
       "20007     11253349            0\n",
       "20008     11253350            0\n",
       "20009     11253351            0\n",
       "20010     11253353            0\n",
       "20011     11253354            0\n",
       "\n",
       "[20012 rows x 2 columns]"
      ]
     },
     "execution_count": 10,
     "metadata": {},
     "output_type": "execute_result"
    }
   ],
   "source": [
    "train = pd.read_csv('/home/aniket/Music/data/train_foreclosure.csv') \n",
    "train.reset_index(drop=True)\n",
    "train.sort_values(by='AGREEMENTID');\n",
    "train.drop_duplicates(subset=['AGREEMENTID'])"
   ]
  },
  {
   "cell_type": "code",
   "execution_count": 11,
   "metadata": {},
   "outputs": [],
   "source": [
    "result = pd.merge(dataFile1, dataFile3, how='left',on='CUSTOMERID')\n",
    "result.drop_duplicates(subset=['AGREEMENTID'])\n",
    "result=result.dropna(axis=1,how='all')\n",
    "\n",
    "result['LAST_RECEIPT_DATE'] = result['LAST_RECEIPT_DATE'].astype(np.int64)//10**9\n",
    "result['INTEREST_START_DATE'] = result['INTEREST_START_DATE'].astype(np.int64)//10**9\n",
    "result['AUTHORIZATIONDATE'] = result['AUTHORIZATIONDATE'].astype(np.int64)//10**9"
   ]
  },
  {
   "cell_type": "code",
   "execution_count": 12,
   "metadata": {},
   "outputs": [],
   "source": [
    "result['CITY'].fillna(\"NOT AVAILABLE\",inplace = True)\n",
    "\n",
    "result['PRODUCT'].fillna(\"NOT AVAILABLE\",inplace = True)\n",
    "\n",
    "result['NPA_IN_LAST_MONTH'].fillna(\"NOT AVAILABLE\",inplace = True)\n",
    "\n",
    "result['NPA_IN_CURRENT_MONTH'].fillna(\"NOT AVAILABLE\",inplace = True)\n",
    "\n",
    "result['SEX'].fillna(\"NOT AVAILABLE\",inplace = True)\n",
    "\n",
    "result['MARITAL_STATUS'].fillna(\"NOT AVAILABLE\",inplace = True)\n",
    "\n",
    "result['QUALIFICATION'].fillna(\"NOT AVAILABLE\",inplace = True)\n",
    "\n",
    "result['POSITION'].fillna(\"NOT AVAILABLE\",inplace = True)"
   ]
  },
  {
   "cell_type": "code",
   "execution_count": 13,
   "metadata": {},
   "outputs": [
    {
     "data": {
      "text/plain": [
       "(624250, 413)"
      ]
     },
     "execution_count": 13,
     "metadata": {},
     "output_type": "execute_result"
    }
   ],
   "source": [
    "result = pd.get_dummies(result,columns=['CITY','PRODUCT','NPA_IN_LAST_MONTH','NPA_IN_CURRENT_MONTH','SEX','MARITAL_STATUS','QUALIFICATION','POSITION'],drop_first=True);\n",
    "columnNames = list(result)\n",
    "result.shape"
   ]
  },
  {
   "cell_type": "code",
   "execution_count": 14,
   "metadata": {},
   "outputs": [
    {
     "data": {
      "text/plain": [
       "(624250, 413)"
      ]
     },
     "execution_count": 14,
     "metadata": {},
     "output_type": "execute_result"
    }
   ],
   "source": [
    "result = imp.fit_transform(result)\n",
    "result.shape"
   ]
  },
  {
   "cell_type": "code",
   "execution_count": 15,
   "metadata": {},
   "outputs": [],
   "source": [
    "result = pd.DataFrame(data=result,columns=columnNames)"
   ]
  },
  {
   "cell_type": "code",
   "execution_count": 16,
   "metadata": {},
   "outputs": [
    {
     "data": {
      "text/html": [
       "<div>\n",
       "<style scoped>\n",
       "    .dataframe tbody tr th:only-of-type {\n",
       "        vertical-align: middle;\n",
       "    }\n",
       "\n",
       "    .dataframe tbody tr th {\n",
       "        vertical-align: top;\n",
       "    }\n",
       "\n",
       "    .dataframe thead th {\n",
       "        text-align: right;\n",
       "    }\n",
       "</style>\n",
       "<table border=\"1\" class=\"dataframe\">\n",
       "  <thead>\n",
       "    <tr style=\"text-align: right;\">\n",
       "      <th></th>\n",
       "      <th>AGREEMENTID</th>\n",
       "      <th>CUSTOMERID</th>\n",
       "      <th>LOAN_AMT</th>\n",
       "      <th>NET_DISBURSED_AMT</th>\n",
       "      <th>INTEREST_START_DATE</th>\n",
       "      <th>CURRENT_ROI</th>\n",
       "      <th>ORIGNAL_ROI</th>\n",
       "      <th>CURRENT_TENOR</th>\n",
       "      <th>ORIGNAL_TENOR</th>\n",
       "      <th>DUEDAY</th>\n",
       "      <th>...</th>\n",
       "      <th>POSITION_POSITION</th>\n",
       "      <th>POSITION_PROP</th>\n",
       "      <th>POSITION_PRSD</th>\n",
       "      <th>POSITION_SGM</th>\n",
       "      <th>POSITION_SM</th>\n",
       "      <th>POSITION_SRMGMT</th>\n",
       "      <th>POSITION_SROF</th>\n",
       "      <th>POSITION_TL</th>\n",
       "      <th>POSITION_TRST1</th>\n",
       "      <th>POSITION_VP</th>\n",
       "    </tr>\n",
       "  </thead>\n",
       "  <tbody>\n",
       "    <tr>\n",
       "      <th>0</th>\n",
       "      <td>11220001.0</td>\n",
       "      <td>12001000.0</td>\n",
       "      <td>1.171011e+07</td>\n",
       "      <td>1.171011e+07</td>\n",
       "      <td>1.283126e+09</td>\n",
       "      <td>13.734072</td>\n",
       "      <td>10.612692</td>\n",
       "      <td>58.0</td>\n",
       "      <td>120.0</td>\n",
       "      <td>1.0</td>\n",
       "      <td>...</td>\n",
       "      <td>0.0</td>\n",
       "      <td>0.0</td>\n",
       "      <td>0.0</td>\n",
       "      <td>0.0</td>\n",
       "      <td>0.0</td>\n",
       "      <td>0.0</td>\n",
       "      <td>0.0</td>\n",
       "      <td>0.0</td>\n",
       "      <td>0.0</td>\n",
       "      <td>0.0</td>\n",
       "    </tr>\n",
       "    <tr>\n",
       "      <th>1</th>\n",
       "      <td>11220002.0</td>\n",
       "      <td>12001001.0</td>\n",
       "      <td>1.929025e+07</td>\n",
       "      <td>1.929025e+07</td>\n",
       "      <td>1.284509e+09</td>\n",
       "      <td>13.734072</td>\n",
       "      <td>10.612692</td>\n",
       "      <td>137.0</td>\n",
       "      <td>180.0</td>\n",
       "      <td>1.0</td>\n",
       "      <td>...</td>\n",
       "      <td>0.0</td>\n",
       "      <td>0.0</td>\n",
       "      <td>0.0</td>\n",
       "      <td>0.0</td>\n",
       "      <td>0.0</td>\n",
       "      <td>0.0</td>\n",
       "      <td>0.0</td>\n",
       "      <td>0.0</td>\n",
       "      <td>0.0</td>\n",
       "      <td>0.0</td>\n",
       "    </tr>\n",
       "    <tr>\n",
       "      <th>2</th>\n",
       "      <td>11220003.0</td>\n",
       "      <td>12001002.0</td>\n",
       "      <td>4.053499e+06</td>\n",
       "      <td>4.053499e+06</td>\n",
       "      <td>1.283731e+09</td>\n",
       "      <td>17.167590</td>\n",
       "      <td>12.485520</td>\n",
       "      <td>360.0</td>\n",
       "      <td>180.0</td>\n",
       "      <td>5.0</td>\n",
       "      <td>...</td>\n",
       "      <td>0.0</td>\n",
       "      <td>0.0</td>\n",
       "      <td>0.0</td>\n",
       "      <td>0.0</td>\n",
       "      <td>0.0</td>\n",
       "      <td>0.0</td>\n",
       "      <td>0.0</td>\n",
       "      <td>0.0</td>\n",
       "      <td>0.0</td>\n",
       "      <td>0.0</td>\n",
       "    </tr>\n",
       "    <tr>\n",
       "      <th>3</th>\n",
       "      <td>11220004.0</td>\n",
       "      <td>12001003.0</td>\n",
       "      <td>1.325703e+07</td>\n",
       "      <td>1.325703e+07</td>\n",
       "      <td>1.285718e+09</td>\n",
       "      <td>15.606900</td>\n",
       "      <td>10.924830</td>\n",
       "      <td>198.0</td>\n",
       "      <td>180.0</td>\n",
       "      <td>5.0</td>\n",
       "      <td>...</td>\n",
       "      <td>0.0</td>\n",
       "      <td>0.0</td>\n",
       "      <td>0.0</td>\n",
       "      <td>0.0</td>\n",
       "      <td>0.0</td>\n",
       "      <td>0.0</td>\n",
       "      <td>0.0</td>\n",
       "      <td>0.0</td>\n",
       "      <td>0.0</td>\n",
       "      <td>0.0</td>\n",
       "    </tr>\n",
       "    <tr>\n",
       "      <th>4</th>\n",
       "      <td>11220005.0</td>\n",
       "      <td>12001004.0</td>\n",
       "      <td>1.321140e+07</td>\n",
       "      <td>1.321140e+07</td>\n",
       "      <td>1.283731e+09</td>\n",
       "      <td>16.543314</td>\n",
       "      <td>11.861244</td>\n",
       "      <td>142.0</td>\n",
       "      <td>180.0</td>\n",
       "      <td>5.0</td>\n",
       "      <td>...</td>\n",
       "      <td>0.0</td>\n",
       "      <td>0.0</td>\n",
       "      <td>0.0</td>\n",
       "      <td>0.0</td>\n",
       "      <td>0.0</td>\n",
       "      <td>0.0</td>\n",
       "      <td>0.0</td>\n",
       "      <td>0.0</td>\n",
       "      <td>0.0</td>\n",
       "      <td>0.0</td>\n",
       "    </tr>\n",
       "  </tbody>\n",
       "</table>\n",
       "<p>5 rows × 413 columns</p>\n",
       "</div>"
      ],
      "text/plain": [
       "   AGREEMENTID  CUSTOMERID      LOAN_AMT  NET_DISBURSED_AMT  \\\n",
       "0   11220001.0  12001000.0  1.171011e+07       1.171011e+07   \n",
       "1   11220002.0  12001001.0  1.929025e+07       1.929025e+07   \n",
       "2   11220003.0  12001002.0  4.053499e+06       4.053499e+06   \n",
       "3   11220004.0  12001003.0  1.325703e+07       1.325703e+07   \n",
       "4   11220005.0  12001004.0  1.321140e+07       1.321140e+07   \n",
       "\n",
       "   INTEREST_START_DATE  CURRENT_ROI  ORIGNAL_ROI  CURRENT_TENOR  \\\n",
       "0         1.283126e+09    13.734072    10.612692           58.0   \n",
       "1         1.284509e+09    13.734072    10.612692          137.0   \n",
       "2         1.283731e+09    17.167590    12.485520          360.0   \n",
       "3         1.285718e+09    15.606900    10.924830          198.0   \n",
       "4         1.283731e+09    16.543314    11.861244          142.0   \n",
       "\n",
       "   ORIGNAL_TENOR  DUEDAY  ...  POSITION_POSITION  POSITION_PROP  \\\n",
       "0          120.0     1.0  ...                0.0            0.0   \n",
       "1          180.0     1.0  ...                0.0            0.0   \n",
       "2          180.0     5.0  ...                0.0            0.0   \n",
       "3          180.0     5.0  ...                0.0            0.0   \n",
       "4          180.0     5.0  ...                0.0            0.0   \n",
       "\n",
       "   POSITION_PRSD  POSITION_SGM  POSITION_SM  POSITION_SRMGMT  POSITION_SROF  \\\n",
       "0            0.0           0.0          0.0              0.0            0.0   \n",
       "1            0.0           0.0          0.0              0.0            0.0   \n",
       "2            0.0           0.0          0.0              0.0            0.0   \n",
       "3            0.0           0.0          0.0              0.0            0.0   \n",
       "4            0.0           0.0          0.0              0.0            0.0   \n",
       "\n",
       "   POSITION_TL  POSITION_TRST1  POSITION_VP  \n",
       "0          0.0             0.0          0.0  \n",
       "1          0.0             0.0          0.0  \n",
       "2          0.0             0.0          0.0  \n",
       "3          0.0             0.0          0.0  \n",
       "4          0.0             0.0          0.0  \n",
       "\n",
       "[5 rows x 413 columns]"
      ]
     },
     "execution_count": 16,
     "metadata": {},
     "output_type": "execute_result"
    }
   ],
   "source": [
    "result.head()"
   ]
  },
  {
   "cell_type": "code",
   "execution_count": 17,
   "metadata": {},
   "outputs": [
    {
     "data": {
      "text/plain": [
       "(20012, 414)"
      ]
     },
     "execution_count": 17,
     "metadata": {},
     "output_type": "execute_result"
    }
   ],
   "source": [
    "dataToTrain = pd.merge(train,result,how='inner',on='AGREEMENTID')\n",
    "dataToTrain.head(10)\n",
    "dataToTrain = dataToTrain.drop_duplicates(subset=['AGREEMENTID'])\n",
    "dataToTrain.shape"
   ]
  },
  {
   "cell_type": "code",
   "execution_count": 18,
   "metadata": {},
   "outputs": [
    {
     "data": {
      "text/plain": [
       "(20012, 411)"
      ]
     },
     "execution_count": 18,
     "metadata": {},
     "output_type": "execute_result"
    }
   ],
   "source": [
    "tags = dataToTrain['FORECLOSURE']\n",
    "dataToTrain = dataToTrain.drop(['FORECLOSURE'],axis=1)\n",
    "dataToTrain = dataToTrain.drop(['AGREEMENTID'],axis=1)\n",
    "dataToTrain = dataToTrain.drop(['CUSTOMERID'],axis=1)\n",
    "dataToTrain = min_max_scaler.fit_transform(dataToTrain)\n",
    "dataToTrain.shape"
   ]
  },
  {
   "cell_type": "code",
   "execution_count": 19,
   "metadata": {},
   "outputs": [
    {
     "data": {
      "text/plain": [
       "pandas.core.series.Series"
      ]
     },
     "execution_count": 19,
     "metadata": {},
     "output_type": "execute_result"
    }
   ],
   "source": [
    "type(tags)"
   ]
  },
  {
   "cell_type": "code",
   "execution_count": 20,
   "metadata": {},
   "outputs": [],
   "source": [
    "# 1. Split the training data for validation\n",
    "# 2. Hot encoding for string variables"
   ]
  },
  {
   "cell_type": "markdown",
   "metadata": {},
   "source": [
    "rbf_svc = svm.SVC(kernel='rbf',gamma='scale',probability=True)"
   ]
  },
  {
   "cell_type": "markdown",
   "metadata": {},
   "source": [
    "rbf_svc.fit(dataToTrain,tags)"
   ]
  },
  {
   "cell_type": "code",
   "execution_count": 23,
   "metadata": {},
   "outputs": [],
   "source": [
    "test = pd.read_csv('/home/aniket/Music/data/test_foreclosure.csv') \n",
    "test.reset_index(drop=True)\n",
    "dataToTest = pd.merge(test,result,how='inner',on='AGREEMENTID')\n",
    "dataToTest = pd.merge(test,result,how='inner',on='AGREEMENTID')\n",
    "dataToTest = dataToTest.drop_duplicates(subset=['AGREEMENTID'])\n",
    "AgreementId = dataToTest['AGREEMENTID']\n",
    "dataToTest = dataToTest.drop(['FORECLOSURE'],axis=1)\n",
    "dataToTest = dataToTest.drop(['AGREEMENTID'],axis=1)\n",
    "dataToTest = dataToTest.drop(['CUSTOMERID'],axis=1)\n",
    "dataToTest = min_max_scaler.transform(dataToTest)"
   ]
  },
  {
   "cell_type": "markdown",
   "metadata": {},
   "source": [
    "y_pred = rbf_svc.predict_proba(dataToTest)"
   ]
  },
  {
   "cell_type": "markdown",
   "metadata": {},
   "source": [
    "FORECLOSURE = y_pred[:,1]"
   ]
  },
  {
   "cell_type": "markdown",
   "metadata": {},
   "source": [
    "AGREEMENTID = AgreementId"
   ]
  },
  {
   "cell_type": "markdown",
   "metadata": {},
   "source": [
    "df=pd.DataFrame({'AGREEMENTID':AGREEMENTID, 'FORECLOSURE':FORECLOSURE})"
   ]
  },
  {
   "cell_type": "markdown",
   "metadata": {},
   "source": [
    "df.to_csv('ans.csv', header='AGREEMENTID,FORECLOSURE', index=None, mode='a')"
   ]
  },
  {
   "cell_type": "markdown",
   "metadata": {},
   "source": [
    "Data Analysis"
   ]
  },
  {
   "cell_type": "markdown",
   "metadata": {},
   "source": [
    "pca = PCA(n_components=200)"
   ]
  },
  {
   "cell_type": "markdown",
   "metadata": {},
   "source": [
    "pca.fit(dataToTrain)"
   ]
  },
  {
   "cell_type": "markdown",
   "metadata": {},
   "source": [
    "dimRedDataToTrain=pca.transform(dataToTrain)"
   ]
  },
  {
   "cell_type": "markdown",
   "metadata": {},
   "source": [
    "rbf_svc = svm.SVC(kernel='rbf',gamma='scale',probability=True)"
   ]
  },
  {
   "cell_type": "markdown",
   "metadata": {},
   "source": [
    "rbf_svc.fit(dimRedDataToTrain,tags)"
   ]
  },
  {
   "cell_type": "markdown",
   "metadata": {},
   "source": [
    "dimRedDataToTest=pca.transform(dataToTest)"
   ]
  },
  {
   "cell_type": "markdown",
   "metadata": {},
   "source": [
    "y_pred = rbf_svc.predict_proba(dimRedDataToTest)"
   ]
  },
  {
   "cell_type": "markdown",
   "metadata": {},
   "source": [
    "FORECLOSURE = y_pred[:,1]\n",
    "df=pd.DataFrame({'AGREEMENTID':AGREEMENTID, 'FORECLOSURE':FORECLOSURE})\n",
    "df.to_csv('ans2.csv', header='AGREEMENTID,FORECLOSURE', index=None, mode='a')"
   ]
  },
  {
   "cell_type": "markdown",
   "metadata": {},
   "source": [
    "\n",
    "# NLP approach to use the email data"
   ]
  },
  {
   "cell_type": "code",
   "execution_count": 88,
   "metadata": {},
   "outputs": [
    {
     "data": {
      "text/plain": [
       "(7511, 9)"
      ]
     },
     "execution_count": 88,
     "metadata": {},
     "output_type": "execute_result"
    }
   ],
   "source": [
    "dataFile2.columns"
   ]
  },
  {
   "cell_type": "code",
   "execution_count": 52,
   "metadata": {},
   "outputs": [],
   "source": [
    "dataFile2 = dataFile2.fillna(' ')"
   ]
  },
  {
   "cell_type": "code",
   "execution_count": 53,
   "metadata": {},
   "outputs": [],
   "source": [
    "tfidfv = TfidfVectorizer()"
   ]
  },
  {
   "cell_type": "code",
   "execution_count": 54,
   "metadata": {},
   "outputs": [],
   "source": [
    "vectorizedText = tfidfv.fit_transform(dataFile2['Preprocessed_EmailBody'])"
   ]
  },
  {
   "cell_type": "code",
   "execution_count": 60,
   "metadata": {},
   "outputs": [],
   "source": [
    "vectorizedTextSubject = tfidfv.fit_transform(dataFile2['Preprocessed_Subject'])"
   ]
  },
  {
   "cell_type": "code",
   "execution_count": 74,
   "metadata": {},
   "outputs": [],
   "source": [
    "emailData = dataFile2.drop(['Preprocessed_EmailBody','Preprocessed_Subject','Masked_AgreementID','TicketId','Date'],axis=1)"
   ]
  },
  {
   "cell_type": "code",
   "execution_count": 87,
   "metadata": {},
   "outputs": [
    {
     "name": "stdout",
     "output_type": "stream",
     "text": [
      "  (0, 1222)\t0.35019468738070364\n",
      "  (0, 67)\t0.6107981979573082\n",
      "  (0, 1456)\t0.6029213265774327\n",
      "  (0, 1226)\t0.3752001016265119\n",
      "  (1, 1222)\t0.17347341047891904\n",
      "  (1, 1226)\t0.1858601617517698\n",
      "  (1, 343)\t0.33609877961556167\n",
      "  (1, 1464)\t0.23517076098333817\n",
      "  (1, 992)\t0.32307934505981634\n",
      "  (1, 147)\t0.3597705391700084\n",
      "  (1, 1639)\t0.5698752803023549\n",
      "  (1, 766)\t0.250189673303011\n",
      "  (1, 926)\t0.3820045652394127\n",
      "  (2, 1222)\t0.2611645912380863\n",
      "  (2, 1456)\t0.44964046422880244\n",
      "  (2, 1226)\t0.27981287182478193\n",
      "  (2, 1736)\t0.30250246496708005\n",
      "  (2, 1829)\t0.7482068729045188\n",
      "  (3, 1222)\t0.2219441417639756\n",
      "  (3, 1456)\t0.3821156094037291\n",
      "  (3, 1226)\t0.23779191274459388\n",
      "  (3, 1736)\t0.2570740912859809\n",
      "  (3, 746)\t0.8258912620977555\n",
      "  (4, 1222)\t0.22982281151473205\n",
      "  (4, 1456)\t0.39568011563116795\n",
      "  :\t:\n",
      "  (7508, 1783)\t0.18888561772005819\n",
      "  (7508, 1688)\t0.5168061098014343\n",
      "  (7508, 0)\t0.1669480618676\n",
      "  (7508, 533)\t0.2785348078621988\n",
      "  (7508, 1474)\t0.18141224503818063\n",
      "  (7508, 2)\t0.1631278678560516\n",
      "  (7508, 2225)\t0.3412343260132823\n",
      "  (7508, 816)\t0.21264522073405723\n",
      "  (7508, 1227)\t0.25720293082549994\n",
      "  (7508, 829)\t0.2538036248135256\n",
      "  (7508, 1516)\t0.23370481013406613\n",
      "  (7508, 2213)\t0.3548012527045939\n",
      "  (7509, 1222)\t0.24650541751371968\n",
      "  (7509, 67)\t0.42994674171173697\n",
      "  (7509, 1226)\t0.264106969738484\n",
      "  (7509, 766)\t0.35551909485675637\n",
      "  (7509, 1437)\t0.3638548752752327\n",
      "  (7509, 784)\t0.46010375948587723\n",
      "  (7509, 1163)\t0.46276205592187725\n",
      "  (7510, 1222)\t0.1485457928368616\n",
      "  (7510, 1464)\t0.20137741597328698\n",
      "  (7510, 926)\t0.3271116354611879\n",
      "  (7510, 1788)\t0.37878537036815585\n",
      "  (7510, 372)\t0.5199641766040313\n",
      "  (7510, 1508)\t0.6453976758215416\n"
     ]
    }
   ],
   "source": [
    "print (vectorizedTextSubject)"
   ]
  },
  {
   "cell_type": "code",
   "execution_count": 76,
   "metadata": {},
   "outputs": [
    {
     "data": {
      "text/plain": [
       "Index(['Type', 'SubType', 'Status', 'Masked_CustomerID'], dtype='object')"
      ]
     },
     "execution_count": 76,
     "metadata": {},
     "output_type": "execute_result"
    }
   ],
   "source": [
    "emailData.columns"
   ]
  },
  {
   "cell_type": "code",
   "execution_count": 78,
   "metadata": {},
   "outputs": [],
   "source": [
    "emailData = pd.get_dummies(emailData,columns=['Type','SubType','Status'],drop_first=True);"
   ]
  },
  {
   "cell_type": "code",
   "execution_count": 79,
   "metadata": {},
   "outputs": [],
   "source": [
    "dataToTrain = pd.merge(train,result,how='inner',on='AGREEMENTID')"
   ]
  },
  {
   "cell_type": "code",
   "execution_count": null,
   "metadata": {},
   "outputs": [],
   "source": []
  }
 ],
 "metadata": {
  "celltoolbar": "Raw Cell Format",
  "kernelspec": {
   "display_name": "Python 3",
   "language": "python",
   "name": "python3"
  },
  "language_info": {
   "codemirror_mode": {
    "name": "ipython",
    "version": 3
   },
   "file_extension": ".py",
   "mimetype": "text/x-python",
   "name": "python",
   "nbconvert_exporter": "python",
   "pygments_lexer": "ipython3",
   "version": "3.5.2"
  }
 },
 "nbformat": 4,
 "nbformat_minor": 2
}
