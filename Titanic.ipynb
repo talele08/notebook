{
 "cells": [
  {
   "cell_type": "code",
   "execution_count": 1,
   "metadata": {},
   "outputs": [],
   "source": [
    "import pandas as pd\n",
    "import numpy as np\n",
    "from collections import defaultdict\n",
    "from pathlib import Path\n",
    "from sklearn.preprocessing import OneHotEncoder\n",
    "from sklearn.compose import ColumnTransformer \n",
    "from sklearn.impute import SimpleImputer\n",
    "from sklearn.metrics import accuracy_score\n",
    "from sklearn.preprocessing import MinMaxScaler\n",
    "from sklearn.model_selection import cross_val_score\n",
    "\n",
    "from sklearn.decomposition import PCA\n",
    "from sklearn.decomposition import TruncatedSVD\n",
    "from sklearn import svm\n",
    "from sklearn.model_selection import train_test_split\n",
    "from sklearn.metrics import confusion_matrix\n",
    "from sklearn.ensemble import RandomForestClassifier\n",
    "from sklearn.ensemble import AdaBoostClassifier\n",
    "from sklearn.neighbors import KNeighborsClassifier\n",
    "\n",
    "# visualization\n",
    "import seaborn as sns\n",
    "import matplotlib.pyplot as plt\n",
    "from scipy.stats import norm\n",
    "%matplotlib inline"
   ]
  },
  {
   "cell_type": "code",
   "execution_count": 2,
   "metadata": {},
   "outputs": [],
   "source": [
    "data_folder = Path(\"/home/aniket/Music/notebooks/data/titanic\")"
   ]
  },
  {
   "cell_type": "code",
   "execution_count": 3,
   "metadata": {},
   "outputs": [],
   "source": [
    "train_data = pd.read_csv(data_folder/\"train.csv\")\n",
    "test_data = pd.read_csv(data_folder/\"test.csv\")\n",
    "\n",
    "#test_label = pd.read_csv(data_folder/\"gender_submission.csv\")"
   ]
  },
  {
   "cell_type": "code",
   "execution_count": 4,
   "metadata": {},
   "outputs": [],
   "source": [
    "#test_data = test_data.set_index('PassengerId').join(test_label.set_index('PassengerId'))\n",
    "#test_data.reset_index(inplace=True)"
   ]
  },
  {
   "cell_type": "markdown",
   "metadata": {},
   "source": [
    "test_data.head()"
   ]
  },
  {
   "cell_type": "code",
   "execution_count": 5,
   "metadata": {
    "scrolled": false
   },
   "outputs": [
    {
     "name": "stdout",
     "output_type": "stream",
     "text": [
      "<class 'pandas.core.frame.DataFrame'>\n",
      "RangeIndex: 891 entries, 0 to 890\n",
      "Data columns (total 12 columns):\n",
      "PassengerId    891 non-null int64\n",
      "Survived       891 non-null int64\n",
      "Pclass         891 non-null int64\n",
      "Name           891 non-null object\n",
      "Sex            891 non-null object\n",
      "Age            714 non-null float64\n",
      "SibSp          891 non-null int64\n",
      "Parch          891 non-null int64\n",
      "Ticket         891 non-null object\n",
      "Fare           891 non-null float64\n",
      "Cabin          204 non-null object\n",
      "Embarked       889 non-null object\n",
      "dtypes: float64(2), int64(5), object(5)\n",
      "memory usage: 83.7+ KB\n"
     ]
    }
   ],
   "source": [
    "train_data.info()"
   ]
  },
  {
   "cell_type": "code",
   "execution_count": 6,
   "metadata": {},
   "outputs": [],
   "source": [
    "pat = '\\s([A-Za-z]+)\\.'"
   ]
  },
  {
   "cell_type": "code",
   "execution_count": 7,
   "metadata": {},
   "outputs": [],
   "source": [
    "train_data['title'] = train_data['Name'].str.extract(pat = pat)\n",
    "test_data['title'] = test_data['Name'].str.extract(pat = pat)"
   ]
  },
  {
   "cell_type": "code",
   "execution_count": 8,
   "metadata": {},
   "outputs": [],
   "source": [
    "train_data['title'] = train_data.title.map(defaultdict(lambda: 3,Mr= 0, Mrs= 1, Miss= 2),na_action='ignore')\n",
    "test_data['title'] = test_data.title.map(defaultdict(lambda: 3,Mr= 0, Mrs= 1, Miss= 2),na_action='ignore')"
   ]
  },
  {
   "cell_type": "code",
   "execution_count": 9,
   "metadata": {
    "scrolled": true
   },
   "outputs": [
    {
     "data": {
      "text/html": [
       "<div>\n",
       "<style scoped>\n",
       "    .dataframe tbody tr th:only-of-type {\n",
       "        vertical-align: middle;\n",
       "    }\n",
       "\n",
       "    .dataframe tbody tr th {\n",
       "        vertical-align: top;\n",
       "    }\n",
       "\n",
       "    .dataframe thead th {\n",
       "        text-align: right;\n",
       "    }\n",
       "</style>\n",
       "<table border=\"1\" class=\"dataframe\">\n",
       "  <thead>\n",
       "    <tr style=\"text-align: right;\">\n",
       "      <th></th>\n",
       "      <th>Pclass</th>\n",
       "      <th>Fare</th>\n",
       "    </tr>\n",
       "  </thead>\n",
       "  <tbody>\n",
       "    <tr>\n",
       "      <td>0</td>\n",
       "      <td>1</td>\n",
       "      <td>84.154687</td>\n",
       "    </tr>\n",
       "    <tr>\n",
       "      <td>1</td>\n",
       "      <td>2</td>\n",
       "      <td>20.662183</td>\n",
       "    </tr>\n",
       "    <tr>\n",
       "      <td>2</td>\n",
       "      <td>3</td>\n",
       "      <td>13.675550</td>\n",
       "    </tr>\n",
       "  </tbody>\n",
       "</table>\n",
       "</div>"
      ],
      "text/plain": [
       "   Pclass       Fare\n",
       "0       1  84.154687\n",
       "1       2  20.662183\n",
       "2       3  13.675550"
      ]
     },
     "execution_count": 9,
     "metadata": {},
     "output_type": "execute_result"
    }
   ],
   "source": [
    "train_data[['Pclass','Fare']].groupby(['Pclass'],as_index=False).mean()"
   ]
  },
  {
   "cell_type": "code",
   "execution_count": 10,
   "metadata": {},
   "outputs": [],
   "source": [
    "train_data['FamilyMembers'] = train_data['SibSp'] + train_data['Parch'] \n",
    "test_data['FamilyMembers'] = test_data['SibSp'] + test_data['Parch'] \n"
   ]
  },
  {
   "cell_type": "code",
   "execution_count": 11,
   "metadata": {},
   "outputs": [
    {
     "data": {
      "text/plain": [
       "SibSp\n",
       "0    608\n",
       "1    209\n",
       "2     28\n",
       "3     16\n",
       "4     18\n",
       "5      5\n",
       "8      7\n",
       "dtype: int64"
      ]
     },
     "execution_count": 11,
     "metadata": {},
     "output_type": "execute_result"
    }
   ],
   "source": [
    "train_data.groupby('SibSp').size()"
   ]
  },
  {
   "cell_type": "code",
   "execution_count": 12,
   "metadata": {},
   "outputs": [],
   "source": [
    "train_data.loc[train_data['FamilyMembers'] == 0, 'solo'] = 1\n",
    "train_data.loc[train_data['FamilyMembers'] > 0, 'solo'] = 0\n",
    "\n",
    "test_data.loc[train_data['FamilyMembers'] == 0, 'solo'] = 1\n",
    "test_data.loc[train_data['FamilyMembers'] > 0, 'solo'] = 0"
   ]
  },
  {
   "cell_type": "code",
   "execution_count": 13,
   "metadata": {},
   "outputs": [
    {
     "data": {
      "text/plain": [
       "SibSp\n",
       "0    608\n",
       "1    209\n",
       "2     28\n",
       "3     16\n",
       "4     18\n",
       "5      5\n",
       "8      7\n",
       "dtype: int64"
      ]
     },
     "execution_count": 13,
     "metadata": {},
     "output_type": "execute_result"
    }
   ],
   "source": [
    "train_data.groupby('SibSp').size()"
   ]
  },
  {
   "cell_type": "code",
   "execution_count": 14,
   "metadata": {
    "scrolled": false
   },
   "outputs": [],
   "source": [
    "age_labels=['A1','A2','A3','A4','A5']\n",
    "age_bins=[0,15,30,45,65,99]\n",
    "category = pd.cut(train_data.Age,bins=age_bins,labels=age_labels)\n",
    "train_data.insert(5,'AgeGroup',category)\n",
    "\n",
    "\n",
    "fare_bins=[0,25,50,1000]\n",
    "fare_labels=['Low','Mid','High']\n",
    "category = pd.cut(train_data.Fare,bins=fare_bins,labels=fare_labels)\n",
    "train_data.insert(6,'FareGroup',category)\n",
    "\n",
    "familyMembers_bins=[-1,0,1,2,100]\n",
    "familyMembers_labels=['F1','F2','F3','F4']\n",
    "category = pd.cut(train_data.FamilyMembers,bins=familyMembers_bins,labels=familyMembers_labels)\n",
    "train_data.insert(6,'FamilyMembersGroup',category)\n",
    "\n",
    "parch_bins=[-1,0,1,2,100]\n",
    "parch_labels=['1','2','3','4']\n",
    "category = pd.cut(train_data.Parch,bins=parch_bins,labels=parch_labels)\n",
    "train_data.insert(6,'ParchGroup',category)\n",
    "\n",
    "sibSp_bins=[-1,0,1,2,100]\n",
    "sibSp_labels=['1','2','3','4']\n",
    "category = pd.cut(train_data.SibSp,bins=sibSp_bins,labels=sibSp_labels)\n",
    "train_data.insert(6,'SibSpGroup',category)"
   ]
  },
  {
   "cell_type": "code",
   "execution_count": 15,
   "metadata": {},
   "outputs": [],
   "source": [
    "category = pd.cut(test_data.Age,bins=age_bins,labels=age_labels)\n",
    "test_data.insert(5,'AgeGroup',category)\n",
    "\n",
    "category = pd.cut(test_data.Fare,bins=fare_bins,labels=fare_labels)\n",
    "test_data.insert(6,'FareGroup',category)\n",
    "\n",
    "category = pd.cut(test_data.FamilyMembers,bins=familyMembers_bins,labels=familyMembers_labels)\n",
    "test_data.insert(7,'FamilyMembersGroup',category)\n",
    "\n",
    "category = pd.cut(test_data.Parch,bins=parch_bins,labels=parch_labels)\n",
    "test_data.insert(6,'ParchGroup',category)\n",
    "\n",
    "category = pd.cut(test_data.SibSp,bins=sibSp_bins,labels=sibSp_labels)\n",
    "test_data.insert(6,'SibSpGroup',category)"
   ]
  },
  {
   "cell_type": "code",
   "execution_count": 16,
   "metadata": {},
   "outputs": [
    {
     "data": {
      "text/html": [
       "<div>\n",
       "<style scoped>\n",
       "    .dataframe tbody tr th:only-of-type {\n",
       "        vertical-align: middle;\n",
       "    }\n",
       "\n",
       "    .dataframe tbody tr th {\n",
       "        vertical-align: top;\n",
       "    }\n",
       "\n",
       "    .dataframe thead th {\n",
       "        text-align: right;\n",
       "    }\n",
       "</style>\n",
       "<table border=\"1\" class=\"dataframe\">\n",
       "  <thead>\n",
       "    <tr style=\"text-align: right;\">\n",
       "      <th></th>\n",
       "      <th>PassengerId</th>\n",
       "      <th>Survived</th>\n",
       "      <th>Pclass</th>\n",
       "      <th>Name</th>\n",
       "      <th>Sex</th>\n",
       "      <th>AgeGroup</th>\n",
       "      <th>SibSpGroup</th>\n",
       "      <th>ParchGroup</th>\n",
       "      <th>FamilyMembersGroup</th>\n",
       "      <th>FareGroup</th>\n",
       "      <th>Age</th>\n",
       "      <th>SibSp</th>\n",
       "      <th>Parch</th>\n",
       "      <th>Ticket</th>\n",
       "      <th>Fare</th>\n",
       "      <th>Cabin</th>\n",
       "      <th>Embarked</th>\n",
       "      <th>title</th>\n",
       "      <th>FamilyMembers</th>\n",
       "      <th>solo</th>\n",
       "    </tr>\n",
       "  </thead>\n",
       "  <tbody>\n",
       "    <tr>\n",
       "      <td>886</td>\n",
       "      <td>887</td>\n",
       "      <td>0</td>\n",
       "      <td>2</td>\n",
       "      <td>Montvila, Rev. Juozas</td>\n",
       "      <td>male</td>\n",
       "      <td>A2</td>\n",
       "      <td>1</td>\n",
       "      <td>1</td>\n",
       "      <td>F1</td>\n",
       "      <td>Low</td>\n",
       "      <td>27.0</td>\n",
       "      <td>0</td>\n",
       "      <td>0</td>\n",
       "      <td>211536</td>\n",
       "      <td>13.00</td>\n",
       "      <td>NaN</td>\n",
       "      <td>S</td>\n",
       "      <td>3</td>\n",
       "      <td>0</td>\n",
       "      <td>1.0</td>\n",
       "    </tr>\n",
       "    <tr>\n",
       "      <td>887</td>\n",
       "      <td>888</td>\n",
       "      <td>1</td>\n",
       "      <td>1</td>\n",
       "      <td>Graham, Miss. Margaret Edith</td>\n",
       "      <td>female</td>\n",
       "      <td>A2</td>\n",
       "      <td>1</td>\n",
       "      <td>1</td>\n",
       "      <td>F1</td>\n",
       "      <td>Mid</td>\n",
       "      <td>19.0</td>\n",
       "      <td>0</td>\n",
       "      <td>0</td>\n",
       "      <td>112053</td>\n",
       "      <td>30.00</td>\n",
       "      <td>B42</td>\n",
       "      <td>S</td>\n",
       "      <td>2</td>\n",
       "      <td>0</td>\n",
       "      <td>1.0</td>\n",
       "    </tr>\n",
       "    <tr>\n",
       "      <td>888</td>\n",
       "      <td>889</td>\n",
       "      <td>0</td>\n",
       "      <td>3</td>\n",
       "      <td>Johnston, Miss. Catherine Helen \"Carrie\"</td>\n",
       "      <td>female</td>\n",
       "      <td>NaN</td>\n",
       "      <td>2</td>\n",
       "      <td>3</td>\n",
       "      <td>F4</td>\n",
       "      <td>Low</td>\n",
       "      <td>NaN</td>\n",
       "      <td>1</td>\n",
       "      <td>2</td>\n",
       "      <td>W./C. 6607</td>\n",
       "      <td>23.45</td>\n",
       "      <td>NaN</td>\n",
       "      <td>S</td>\n",
       "      <td>2</td>\n",
       "      <td>3</td>\n",
       "      <td>0.0</td>\n",
       "    </tr>\n",
       "    <tr>\n",
       "      <td>889</td>\n",
       "      <td>890</td>\n",
       "      <td>1</td>\n",
       "      <td>1</td>\n",
       "      <td>Behr, Mr. Karl Howell</td>\n",
       "      <td>male</td>\n",
       "      <td>A2</td>\n",
       "      <td>1</td>\n",
       "      <td>1</td>\n",
       "      <td>F1</td>\n",
       "      <td>Mid</td>\n",
       "      <td>26.0</td>\n",
       "      <td>0</td>\n",
       "      <td>0</td>\n",
       "      <td>111369</td>\n",
       "      <td>30.00</td>\n",
       "      <td>C148</td>\n",
       "      <td>C</td>\n",
       "      <td>0</td>\n",
       "      <td>0</td>\n",
       "      <td>1.0</td>\n",
       "    </tr>\n",
       "    <tr>\n",
       "      <td>890</td>\n",
       "      <td>891</td>\n",
       "      <td>0</td>\n",
       "      <td>3</td>\n",
       "      <td>Dooley, Mr. Patrick</td>\n",
       "      <td>male</td>\n",
       "      <td>A3</td>\n",
       "      <td>1</td>\n",
       "      <td>1</td>\n",
       "      <td>F1</td>\n",
       "      <td>Low</td>\n",
       "      <td>32.0</td>\n",
       "      <td>0</td>\n",
       "      <td>0</td>\n",
       "      <td>370376</td>\n",
       "      <td>7.75</td>\n",
       "      <td>NaN</td>\n",
       "      <td>Q</td>\n",
       "      <td>0</td>\n",
       "      <td>0</td>\n",
       "      <td>1.0</td>\n",
       "    </tr>\n",
       "  </tbody>\n",
       "</table>\n",
       "</div>"
      ],
      "text/plain": [
       "     PassengerId  Survived  Pclass                                      Name  \\\n",
       "886          887         0       2                     Montvila, Rev. Juozas   \n",
       "887          888         1       1              Graham, Miss. Margaret Edith   \n",
       "888          889         0       3  Johnston, Miss. Catherine Helen \"Carrie\"   \n",
       "889          890         1       1                     Behr, Mr. Karl Howell   \n",
       "890          891         0       3                       Dooley, Mr. Patrick   \n",
       "\n",
       "        Sex AgeGroup SibSpGroup ParchGroup FamilyMembersGroup FareGroup   Age  \\\n",
       "886    male       A2          1          1                 F1       Low  27.0   \n",
       "887  female       A2          1          1                 F1       Mid  19.0   \n",
       "888  female      NaN          2          3                 F4       Low   NaN   \n",
       "889    male       A2          1          1                 F1       Mid  26.0   \n",
       "890    male       A3          1          1                 F1       Low  32.0   \n",
       "\n",
       "     SibSp  Parch      Ticket   Fare Cabin Embarked  title  FamilyMembers  \\\n",
       "886      0      0      211536  13.00   NaN        S      3              0   \n",
       "887      0      0      112053  30.00   B42        S      2              0   \n",
       "888      1      2  W./C. 6607  23.45   NaN        S      2              3   \n",
       "889      0      0      111369  30.00  C148        C      0              0   \n",
       "890      0      0      370376   7.75   NaN        Q      0              0   \n",
       "\n",
       "     solo  \n",
       "886   1.0  \n",
       "887   1.0  \n",
       "888   0.0  \n",
       "889   1.0  \n",
       "890   1.0  "
      ]
     },
     "execution_count": 16,
     "metadata": {},
     "output_type": "execute_result"
    }
   ],
   "source": [
    "train_data.tail()"
   ]
  },
  {
   "cell_type": "code",
   "execution_count": 17,
   "metadata": {
    "scrolled": false
   },
   "outputs": [
    {
     "data": {
      "text/html": [
       "<div>\n",
       "<style scoped>\n",
       "    .dataframe tbody tr th:only-of-type {\n",
       "        vertical-align: middle;\n",
       "    }\n",
       "\n",
       "    .dataframe tbody tr th {\n",
       "        vertical-align: top;\n",
       "    }\n",
       "\n",
       "    .dataframe thead th {\n",
       "        text-align: right;\n",
       "    }\n",
       "</style>\n",
       "<table border=\"1\" class=\"dataframe\">\n",
       "  <thead>\n",
       "    <tr style=\"text-align: right;\">\n",
       "      <th></th>\n",
       "      <th>Fare</th>\n",
       "    </tr>\n",
       "    <tr>\n",
       "      <th>Pclass</th>\n",
       "      <th></th>\n",
       "    </tr>\n",
       "  </thead>\n",
       "  <tbody>\n",
       "    <tr>\n",
       "      <td>1</td>\n",
       "      <td>78.380373</td>\n",
       "    </tr>\n",
       "    <tr>\n",
       "      <td>2</td>\n",
       "      <td>13.417399</td>\n",
       "    </tr>\n",
       "    <tr>\n",
       "      <td>3</td>\n",
       "      <td>11.778142</td>\n",
       "    </tr>\n",
       "  </tbody>\n",
       "</table>\n",
       "</div>"
      ],
      "text/plain": [
       "             Fare\n",
       "Pclass           \n",
       "1       78.380373\n",
       "2       13.417399\n",
       "3       11.778142"
      ]
     },
     "execution_count": 17,
     "metadata": {},
     "output_type": "execute_result"
    }
   ],
   "source": [
    "train_data[['Fare','Pclass']].groupby('Pclass').std()"
   ]
  },
  {
   "cell_type": "code",
   "execution_count": 18,
   "metadata": {},
   "outputs": [
    {
     "data": {
      "text/plain": [
       "[<matplotlib.lines.Line2D at 0x7f4a16818950>]"
      ]
     },
     "execution_count": 18,
     "metadata": {},
     "output_type": "execute_result"
    },
    {
     "data": {
      "image/png": "[encoded data removed]",
      "text/plain": [
       "<Figure size 432x288 with 1 Axes>"
      ]
     },
     "metadata": {
      "needs_background": "light"
     },
     "output_type": "display_data"
    }
   ],
   "source": [
    "x_axis = np.arange(0, 50, 1)\n",
    "plt.plot(norm.pdf(x_axis,20.662183,13.417399),label = 'Pclass2')\n",
    "plt.plot(norm.pdf(x_axis,13.675550,11.778142),label = 'Pclass3')"
   ]
  },
  {
   "cell_type": "code",
   "execution_count": null,
   "metadata": {},
   "outputs": [],
   "source": []
  },
  {
   "cell_type": "code",
   "execution_count": 19,
   "metadata": {},
   "outputs": [
    {
     "data": {
      "text/plain": [
       "Index(['PassengerId', 'Survived', 'Pclass', 'Name', 'Sex', 'AgeGroup',\n",
       "       'SibSpGroup', 'ParchGroup', 'FamilyMembersGroup', 'FareGroup', 'Age',\n",
       "       'SibSp', 'Parch', 'Ticket', 'Fare', 'Cabin', 'Embarked', 'title',\n",
       "       'FamilyMembers', 'solo'],\n",
       "      dtype='object')"
      ]
     },
     "execution_count": 19,
     "metadata": {},
     "output_type": "execute_result"
    }
   ],
   "source": [
    "train_data.columns"
   ]
  },
  {
   "cell_type": "code",
   "execution_count": 20,
   "metadata": {},
   "outputs": [],
   "source": [
    "train_data.replace([np.inf, -np.inf], np.nan,inplace=True)\n",
    "test_data.replace([np.inf, -np.inf], np.nan,inplace=True)"
   ]
  },
  {
   "cell_type": "code",
   "execution_count": 21,
   "metadata": {},
   "outputs": [],
   "source": [
    "features_used_to_train = ['Pclass','Sex','Embarked', 'AgeGroup','FareGroup','ParchGroup','SibSpGroup']"
   ]
  },
  {
   "cell_type": "code",
   "execution_count": 22,
   "metadata": {},
   "outputs": [],
   "source": [
    "X = train_data[features_used_to_train]\n",
    "X_pred = test_data[features_used_to_train]"
   ]
  },
  {
   "cell_type": "code",
   "execution_count": 23,
   "metadata": {},
   "outputs": [],
   "source": [
    "y = train_data['Survived']\n",
    "#Y_test = test_data['Survived']"
   ]
  },
  {
   "cell_type": "code",
   "execution_count": 24,
   "metadata": {
    "scrolled": true
   },
   "outputs": [
    {
     "data": {
      "text/html": [
       "<div>\n",
       "<style scoped>\n",
       "    .dataframe tbody tr th:only-of-type {\n",
       "        vertical-align: middle;\n",
       "    }\n",
       "\n",
       "    .dataframe tbody tr th {\n",
       "        vertical-align: top;\n",
       "    }\n",
       "\n",
       "    .dataframe thead th {\n",
       "        text-align: right;\n",
       "    }\n",
       "</style>\n",
       "<table border=\"1\" class=\"dataframe\">\n",
       "  <thead>\n",
       "    <tr style=\"text-align: right;\">\n",
       "      <th></th>\n",
       "      <th>Pclass</th>\n",
       "      <th>Sex</th>\n",
       "      <th>Embarked</th>\n",
       "      <th>AgeGroup</th>\n",
       "      <th>FareGroup</th>\n",
       "      <th>ParchGroup</th>\n",
       "      <th>SibSpGroup</th>\n",
       "    </tr>\n",
       "  </thead>\n",
       "  <tbody>\n",
       "    <tr>\n",
       "      <td>0</td>\n",
       "      <td>3</td>\n",
       "      <td>male</td>\n",
       "      <td>S</td>\n",
       "      <td>A2</td>\n",
       "      <td>Low</td>\n",
       "      <td>1</td>\n",
       "      <td>2</td>\n",
       "    </tr>\n",
       "    <tr>\n",
       "      <td>1</td>\n",
       "      <td>1</td>\n",
       "      <td>female</td>\n",
       "      <td>C</td>\n",
       "      <td>A3</td>\n",
       "      <td>High</td>\n",
       "      <td>1</td>\n",
       "      <td>2</td>\n",
       "    </tr>\n",
       "    <tr>\n",
       "      <td>2</td>\n",
       "      <td>3</td>\n",
       "      <td>female</td>\n",
       "      <td>S</td>\n",
       "      <td>A2</td>\n",
       "      <td>Low</td>\n",
       "      <td>1</td>\n",
       "      <td>1</td>\n",
       "    </tr>\n",
       "    <tr>\n",
       "      <td>3</td>\n",
       "      <td>1</td>\n",
       "      <td>female</td>\n",
       "      <td>S</td>\n",
       "      <td>A3</td>\n",
       "      <td>High</td>\n",
       "      <td>1</td>\n",
       "      <td>2</td>\n",
       "    </tr>\n",
       "    <tr>\n",
       "      <td>4</td>\n",
       "      <td>3</td>\n",
       "      <td>male</td>\n",
       "      <td>S</td>\n",
       "      <td>A3</td>\n",
       "      <td>Low</td>\n",
       "      <td>1</td>\n",
       "      <td>1</td>\n",
       "    </tr>\n",
       "  </tbody>\n",
       "</table>\n",
       "</div>"
      ],
      "text/plain": [
       "   Pclass     Sex Embarked AgeGroup FareGroup ParchGroup SibSpGroup\n",
       "0       3    male        S       A2       Low          1          2\n",
       "1       1  female        C       A3      High          1          2\n",
       "2       3  female        S       A2       Low          1          1\n",
       "3       1  female        S       A3      High          1          2\n",
       "4       3    male        S       A3       Low          1          1"
      ]
     },
     "execution_count": 24,
     "metadata": {},
     "output_type": "execute_result"
    }
   ],
   "source": [
    "X.head()"
   ]
  },
  {
   "cell_type": "code",
   "execution_count": 25,
   "metadata": {},
   "outputs": [],
   "source": [
    "numericalColumns = [\n",
    "    \n",
    "]\n",
    "\n",
    "categoricalColumns = [\n",
    "    \"Pclass\",\n",
    "    \"Sex\",\n",
    "    \"Embarked\",\n",
    "    'AgeGroup',\n",
    "    'FareGroup',\n",
    "    'ParchGroup',\n",
    "    'SibSpGroup'\n",
    "]"
   ]
  },
  {
   "cell_type": "code",
   "execution_count": 26,
   "metadata": {
    "scrolled": true
   },
   "outputs": [],
   "source": [
    "#imp_mean = SimpleImputer(missing_values=np.nan, strategy='median')\n",
    "#imp_most_frequent = SimpleImputer(missing_values=np.nan, ,strategy='most_frequent')\n",
    "ctImputer = ColumnTransformer([\n",
    "                        (\"Imputer1\", SimpleImputer(missing_values=np.nan, strategy='most_frequent'),categoricalColumns )\n",
    "                 #       ,(\"Imputer2\", SimpleImputer(missing_values=np.nan, strategy='median'), numericalColumns)\n",
    "                        ],\n",
    "                       remainder=\"passthrough\")\n",
    "\n",
    "ctEncoder = ColumnTransformer([\n",
    "                        (\"Encoding\", OneHotEncoder(),[0,1,2,3,4,5,6])\n",
    "                        ],\n",
    "                       remainder=\"passthrough\")\n",
    "\n",
    "ctNormalization = ColumnTransformer([\n",
    "                        (\"Normalization\", MinMaxScaler(),[])\n",
    "                        ],\n",
    "                       remainder=\"passthrough\")\n",
    "\n"
   ]
  },
  {
   "cell_type": "code",
   "execution_count": 27,
   "metadata": {
    "scrolled": false
   },
   "outputs": [
    {
     "data": {
      "text/plain": [
       "Pclass        False\n",
       "Sex           False\n",
       "Embarked       True\n",
       "AgeGroup       True\n",
       "FareGroup      True\n",
       "ParchGroup    False\n",
       "SibSpGroup    False\n",
       "dtype: bool"
      ]
     },
     "execution_count": 27,
     "metadata": {},
     "output_type": "execute_result"
    }
   ],
   "source": [
    "X.isna().any()"
   ]
  },
  {
   "cell_type": "code",
   "execution_count": 28,
   "metadata": {},
   "outputs": [],
   "source": [
    "X= ctImputer.fit_transform(X)"
   ]
  },
  {
   "cell_type": "code",
   "execution_count": 29,
   "metadata": {
    "scrolled": true
   },
   "outputs": [
    {
     "data": {
      "text/plain": [
       "array([3, 'male', 'S', 'A2', 'Low', '1', '2'], dtype=object)"
      ]
     },
     "execution_count": 29,
     "metadata": {},
     "output_type": "execute_result"
    }
   ],
   "source": [
    "X[0]"
   ]
  },
  {
   "cell_type": "code",
   "execution_count": 30,
   "metadata": {
    "scrolled": true
   },
   "outputs": [],
   "source": [
    "X = ctEncoder.fit_transform(X)\n",
    "X= ctNormalization.fit_transform(X)"
   ]
  },
  {
   "cell_type": "code",
   "execution_count": 31,
   "metadata": {},
   "outputs": [
    {
     "data": {
      "text/plain": [
       "(891, 24)"
      ]
     },
     "execution_count": 31,
     "metadata": {},
     "output_type": "execute_result"
    }
   ],
   "source": [
    "X.shape"
   ]
  },
  {
   "cell_type": "code",
   "execution_count": 32,
   "metadata": {},
   "outputs": [],
   "source": [
    "#pca = PCA(n_components=10)\n",
    "pca = TruncatedSVD(15)"
   ]
  },
  {
   "cell_type": "code",
   "execution_count": 33,
   "metadata": {},
   "outputs": [],
   "source": [
    "X = pca.fit_transform(X)"
   ]
  },
  {
   "cell_type": "code",
   "execution_count": 34,
   "metadata": {},
   "outputs": [],
   "source": [
    "X_train, X_test, y_train, y_test = train_test_split(X, y, test_size=0.2, random_state=42)"
   ]
  },
  {
   "cell_type": "markdown",
   "metadata": {},
   "source": [
    "X_train = X\n",
    "y_train = y"
   ]
  },
  {
   "cell_type": "code",
   "execution_count": 35,
   "metadata": {},
   "outputs": [],
   "source": [
    "X_pred = ctImputer.transform(X_pred)\n",
    "X_pred = ctEncoder.transform(X_pred)\n",
    "X_pred = ctNormalization.transform(X_pred)\n",
    "X_pred  = pca.transform(X_pred)"
   ]
  },
  {
   "cell_type": "code",
   "execution_count": 36,
   "metadata": {},
   "outputs": [],
   "source": [
    "#np.where(pd.isnull(X_pred))"
   ]
  },
  {
   "cell_type": "code",
   "execution_count": 37,
   "metadata": {},
   "outputs": [],
   "source": [
    "#clf = RandomForestClassifier(max_depth=20, random_state=0)\n",
    "clf = svm.SVC(C=10000,kernel='rbf',gamma=0.001)\n",
    "#clf = AdaBoostClassifier(n_estimators=20, random_state=0)\n",
    "#clf = KNeighborsClassifier(n_neighbors=3)"
   ]
  },
  {
   "cell_type": "code",
   "execution_count": 38,
   "metadata": {
    "scrolled": true
   },
   "outputs": [
    {
     "data": {
      "text/plain": [
       "SVC(C=10000, cache_size=200, class_weight=None, coef0=0.0,\n",
       "    decision_function_shape='ovr', degree=3, gamma=0.001, kernel='rbf',\n",
       "    max_iter=-1, probability=False, random_state=None, shrinking=True,\n",
       "    tol=0.001, verbose=False)"
      ]
     },
     "execution_count": 38,
     "metadata": {},
     "output_type": "execute_result"
    }
   ],
   "source": [
    "#clf.fit(X_train,y_train)\n",
    "clf.fit(X_train,y_train)"
   ]
  },
  {
   "cell_type": "code",
   "execution_count": 39,
   "metadata": {},
   "outputs": [
    {
     "data": {
      "text/plain": [
       "0.8156424581005587"
      ]
     },
     "execution_count": 39,
     "metadata": {},
     "output_type": "execute_result"
    }
   ],
   "source": [
    "y_test_pred= clf.predict(X_test)\n",
    "accuracy_score(y_test,y_test_pred)"
   ]
  },
  {
   "cell_type": "code",
   "execution_count": 40,
   "metadata": {
    "scrolled": true
   },
   "outputs": [
    {
     "name": "stdout",
     "output_type": "stream",
     "text": [
      "Accuracy: 0.82 (+/- 0.04)\n"
     ]
    }
   ],
   "source": [
    "scores = cross_val_score(clf,X,y,cv = 5)\n",
    "print(\"Accuracy: %0.2f (+/- %0.2f)\" % (scores.mean(), scores.std() * 2))"
   ]
  },
  {
   "cell_type": "markdown",
   "metadata": {},
   "source": [
    "\n",
    "y_pred= clf.predict(X_pred)\n",
    "\n",
    "res = pd.DataFrame({'PassengerId' : test_data['PassengerId'].values,'Survived' : y_pred}\n",
    "                   ,columns=['PassengerId','Survived'])\n",
    "\n",
    "res.to_csv(data_folder/\"output.csv\" , index=False)"
   ]
  },
  {
   "cell_type": "code",
   "execution_count": 41,
   "metadata": {},
   "outputs": [],
   "source": [
    "mask = ((y_test != y_test_pred) & (y_test == 0))\n",
    "falsePositive = y_test[mask].index"
   ]
  },
  {
   "cell_type": "code",
   "execution_count": 42,
   "metadata": {
    "scrolled": true
   },
   "outputs": [],
   "source": [
    "mask = ((y_test != y_test_pred) & (y_test == 1))\n",
    "falseNegative = y_test[mask].index"
   ]
  },
  {
   "cell_type": "code",
   "execution_count": 43,
   "metadata": {},
   "outputs": [],
   "source": [
    "fn_df = train_data.iloc[falseNegative]"
   ]
  },
  {
   "cell_type": "code",
   "execution_count": 44,
   "metadata": {},
   "outputs": [
    {
     "data": {
      "text/plain": [
       "Index(['PassengerId', 'Survived', 'Pclass', 'Name', 'Sex', 'AgeGroup',\n",
       "       'SibSpGroup', 'ParchGroup', 'FamilyMembersGroup', 'FareGroup', 'Age',\n",
       "       'SibSp', 'Parch', 'Ticket', 'Fare', 'Cabin', 'Embarked', 'title',\n",
       "       'FamilyMembers', 'solo'],\n",
       "      dtype='object')"
      ]
     },
     "execution_count": 44,
     "metadata": {},
     "output_type": "execute_result"
    }
   ],
   "source": [
    "fn_df.columns"
   ]
  },
  {
   "cell_type": "code",
   "execution_count": 45,
   "metadata": {
    "scrolled": true
   },
   "outputs": [
    {
     "data": {
      "text/plain": [
       "Pclass  Sex   \n",
       "1       male      12\n",
       "2       male       1\n",
       "3       female     1\n",
       "        male       6\n",
       "dtype: int64"
      ]
     },
     "execution_count": 45,
     "metadata": {},
     "output_type": "execute_result"
    }
   ],
   "source": [
    "fn_df.groupby(['Pclass','Sex']).size()"
   ]
  },
  {
   "cell_type": "code",
   "execution_count": 46,
   "metadata": {},
   "outputs": [
    {
     "data": {
      "text/html": [
       "<div>\n",
       "<style scoped>\n",
       "    .dataframe tbody tr th:only-of-type {\n",
       "        vertical-align: middle;\n",
       "    }\n",
       "\n",
       "    .dataframe tbody tr th {\n",
       "        vertical-align: top;\n",
       "    }\n",
       "\n",
       "    .dataframe thead th {\n",
       "        text-align: right;\n",
       "    }\n",
       "</style>\n",
       "<table border=\"1\" class=\"dataframe\">\n",
       "  <thead>\n",
       "    <tr style=\"text-align: right;\">\n",
       "      <th></th>\n",
       "      <th>Pclass</th>\n",
       "      <th>Sex</th>\n",
       "      <th>AgeGroup</th>\n",
       "      <th>FareGroup</th>\n",
       "    </tr>\n",
       "  </thead>\n",
       "  <tbody>\n",
       "    <tr>\n",
       "      <td>23</td>\n",
       "      <td>1</td>\n",
       "      <td>male</td>\n",
       "      <td>A2</td>\n",
       "      <td>Mid</td>\n",
       "    </tr>\n",
       "    <tr>\n",
       "      <td>889</td>\n",
       "      <td>1</td>\n",
       "      <td>male</td>\n",
       "      <td>A2</td>\n",
       "      <td>Mid</td>\n",
       "    </tr>\n",
       "    <tr>\n",
       "      <td>97</td>\n",
       "      <td>1</td>\n",
       "      <td>male</td>\n",
       "      <td>A2</td>\n",
       "      <td>High</td>\n",
       "    </tr>\n",
       "    <tr>\n",
       "      <td>447</td>\n",
       "      <td>1</td>\n",
       "      <td>male</td>\n",
       "      <td>A3</td>\n",
       "      <td>Mid</td>\n",
       "    </tr>\n",
       "    <tr>\n",
       "      <td>209</td>\n",
       "      <td>1</td>\n",
       "      <td>male</td>\n",
       "      <td>A3</td>\n",
       "      <td>Mid</td>\n",
       "    </tr>\n",
       "    <tr>\n",
       "      <td>512</td>\n",
       "      <td>1</td>\n",
       "      <td>male</td>\n",
       "      <td>A3</td>\n",
       "      <td>Mid</td>\n",
       "    </tr>\n",
       "    <tr>\n",
       "      <td>604</td>\n",
       "      <td>1</td>\n",
       "      <td>male</td>\n",
       "      <td>A3</td>\n",
       "      <td>Mid</td>\n",
       "    </tr>\n",
       "    <tr>\n",
       "      <td>572</td>\n",
       "      <td>1</td>\n",
       "      <td>male</td>\n",
       "      <td>A3</td>\n",
       "      <td>Mid</td>\n",
       "    </tr>\n",
       "    <tr>\n",
       "      <td>621</td>\n",
       "      <td>1</td>\n",
       "      <td>male</td>\n",
       "      <td>A3</td>\n",
       "      <td>High</td>\n",
       "    </tr>\n",
       "    <tr>\n",
       "      <td>712</td>\n",
       "      <td>1</td>\n",
       "      <td>male</td>\n",
       "      <td>A4</td>\n",
       "      <td>High</td>\n",
       "    </tr>\n",
       "    <tr>\n",
       "      <td>599</td>\n",
       "      <td>1</td>\n",
       "      <td>male</td>\n",
       "      <td>A4</td>\n",
       "      <td>High</td>\n",
       "    </tr>\n",
       "    <tr>\n",
       "      <td>507</td>\n",
       "      <td>1</td>\n",
       "      <td>male</td>\n",
       "      <td>NaN</td>\n",
       "      <td>Mid</td>\n",
       "    </tr>\n",
       "    <tr>\n",
       "      <td>673</td>\n",
       "      <td>2</td>\n",
       "      <td>male</td>\n",
       "      <td>A3</td>\n",
       "      <td>Low</td>\n",
       "    </tr>\n",
       "    <tr>\n",
       "      <td>25</td>\n",
       "      <td>3</td>\n",
       "      <td>female</td>\n",
       "      <td>A3</td>\n",
       "      <td>Mid</td>\n",
       "    </tr>\n",
       "    <tr>\n",
       "      <td>204</td>\n",
       "      <td>3</td>\n",
       "      <td>male</td>\n",
       "      <td>A2</td>\n",
       "      <td>Low</td>\n",
       "    </tr>\n",
       "    <tr>\n",
       "      <td>286</td>\n",
       "      <td>3</td>\n",
       "      <td>male</td>\n",
       "      <td>A2</td>\n",
       "      <td>Low</td>\n",
       "    </tr>\n",
       "    <tr>\n",
       "      <td>338</td>\n",
       "      <td>3</td>\n",
       "      <td>male</td>\n",
       "      <td>A3</td>\n",
       "      <td>Low</td>\n",
       "    </tr>\n",
       "    <tr>\n",
       "      <td>709</td>\n",
       "      <td>3</td>\n",
       "      <td>male</td>\n",
       "      <td>NaN</td>\n",
       "      <td>Low</td>\n",
       "    </tr>\n",
       "    <tr>\n",
       "      <td>65</td>\n",
       "      <td>3</td>\n",
       "      <td>male</td>\n",
       "      <td>NaN</td>\n",
       "      <td>Low</td>\n",
       "    </tr>\n",
       "    <tr>\n",
       "      <td>643</td>\n",
       "      <td>3</td>\n",
       "      <td>male</td>\n",
       "      <td>NaN</td>\n",
       "      <td>High</td>\n",
       "    </tr>\n",
       "  </tbody>\n",
       "</table>\n",
       "</div>"
      ],
      "text/plain": [
       "     Pclass     Sex AgeGroup FareGroup\n",
       "23        1    male       A2       Mid\n",
       "889       1    male       A2       Mid\n",
       "97        1    male       A2      High\n",
       "447       1    male       A3       Mid\n",
       "209       1    male       A3       Mid\n",
       "512       1    male       A3       Mid\n",
       "604       1    male       A3       Mid\n",
       "572       1    male       A3       Mid\n",
       "621       1    male       A3      High\n",
       "712       1    male       A4      High\n",
       "599       1    male       A4      High\n",
       "507       1    male      NaN       Mid\n",
       "673       2    male       A3       Low\n",
       "25        3  female       A3       Mid\n",
       "204       3    male       A2       Low\n",
       "286       3    male       A2       Low\n",
       "338       3    male       A3       Low\n",
       "709       3    male      NaN       Low\n",
       "65        3    male      NaN       Low\n",
       "643       3    male      NaN      High"
      ]
     },
     "execution_count": 46,
     "metadata": {},
     "output_type": "execute_result"
    }
   ],
   "source": [
    "fn_df[['Pclass','Sex','AgeGroup','FareGroup']].sort_values(['Pclass','Sex','AgeGroup','FareGroup'])"
   ]
  },
  {
   "cell_type": "code",
   "execution_count": 47,
   "metadata": {
    "scrolled": true
   },
   "outputs": [
    {
     "data": {
      "text/html": [
       "<div>\n",
       "<style scoped>\n",
       "    .dataframe tbody tr th:only-of-type {\n",
       "        vertical-align: middle;\n",
       "    }\n",
       "\n",
       "    .dataframe tbody tr th {\n",
       "        vertical-align: top;\n",
       "    }\n",
       "\n",
       "    .dataframe thead th {\n",
       "        text-align: right;\n",
       "    }\n",
       "</style>\n",
       "<table border=\"1\" class=\"dataframe\">\n",
       "  <thead>\n",
       "    <tr style=\"text-align: right;\">\n",
       "      <th></th>\n",
       "      <th>Survived</th>\n",
       "    </tr>\n",
       "    <tr>\n",
       "      <th>FamilyMembersGroup</th>\n",
       "      <th></th>\n",
       "    </tr>\n",
       "  </thead>\n",
       "  <tbody>\n",
       "    <tr>\n",
       "      <td>F1</td>\n",
       "      <td>0.303538</td>\n",
       "    </tr>\n",
       "    <tr>\n",
       "      <td>F2</td>\n",
       "      <td>0.552795</td>\n",
       "    </tr>\n",
       "    <tr>\n",
       "      <td>F3</td>\n",
       "      <td>0.578431</td>\n",
       "    </tr>\n",
       "    <tr>\n",
       "      <td>F4</td>\n",
       "      <td>0.340659</td>\n",
       "    </tr>\n",
       "  </tbody>\n",
       "</table>\n",
       "</div>"
      ],
      "text/plain": [
       "                    Survived\n",
       "FamilyMembersGroup          \n",
       "F1                  0.303538\n",
       "F2                  0.552795\n",
       "F3                  0.578431\n",
       "F4                  0.340659"
      ]
     },
     "execution_count": 47,
     "metadata": {},
     "output_type": "execute_result"
    }
   ],
   "source": [
    "var = 'FamilyMembersGroup'\n",
    "train_data[[var,'Survived']].groupby(var).mean()"
   ]
  },
  {
   "cell_type": "code",
   "execution_count": 48,
   "metadata": {},
   "outputs": [
    {
     "data": {
      "text/plain": [
       "Survived    0.383838\n",
       "dtype: float64"
      ]
     },
     "execution_count": 48,
     "metadata": {},
     "output_type": "execute_result"
    }
   ],
   "source": [
    "train_data[['Survived']].mean()"
   ]
  },
  {
   "cell_type": "code",
   "execution_count": 49,
   "metadata": {},
   "outputs": [
    {
     "data": {
      "text/plain": [
       "array([[92, 13],\n",
       "       [20, 54]])"
      ]
     },
     "execution_count": 49,
     "metadata": {},
     "output_type": "execute_result"
    }
   ],
   "source": [
    "confusion_matrix(y_test, y_test_pred)"
   ]
  },
  {
   "cell_type": "code",
   "execution_count": 50,
   "metadata": {},
   "outputs": [
    {
     "data": {
      "text/plain": [
       "15"
      ]
     },
     "execution_count": 50,
     "metadata": {},
     "output_type": "execute_result"
    }
   ],
   "source": [
    "len(X_train[0,:])"
   ]
  },
  {
   "cell_type": "code",
   "execution_count": 51,
   "metadata": {},
   "outputs": [
    {
     "data": {
      "text/html": [
       "<div>\n",
       "<style scoped>\n",
       "    .dataframe tbody tr th:only-of-type {\n",
       "        vertical-align: middle;\n",
       "    }\n",
       "\n",
       "    .dataframe tbody tr th {\n",
       "        vertical-align: top;\n",
       "    }\n",
       "\n",
       "    .dataframe thead th {\n",
       "        text-align: right;\n",
       "    }\n",
       "</style>\n",
       "<table border=\"1\" class=\"dataframe\">\n",
       "  <thead>\n",
       "    <tr style=\"text-align: right;\">\n",
       "      <th></th>\n",
       "      <th>PassengerId</th>\n",
       "      <th>Survived</th>\n",
       "      <th>Pclass</th>\n",
       "      <th>Age</th>\n",
       "      <th>SibSp</th>\n",
       "      <th>Parch</th>\n",
       "      <th>Fare</th>\n",
       "      <th>title</th>\n",
       "      <th>FamilyMembers</th>\n",
       "      <th>solo</th>\n",
       "    </tr>\n",
       "    <tr>\n",
       "      <th>Embarked</th>\n",
       "      <th></th>\n",
       "      <th></th>\n",
       "      <th></th>\n",
       "      <th></th>\n",
       "      <th></th>\n",
       "      <th></th>\n",
       "      <th></th>\n",
       "      <th></th>\n",
       "      <th></th>\n",
       "      <th></th>\n",
       "    </tr>\n",
       "  </thead>\n",
       "  <tbody>\n",
       "    <tr>\n",
       "      <td>C</td>\n",
       "      <td>445.357143</td>\n",
       "      <td>0.553571</td>\n",
       "      <td>1.886905</td>\n",
       "      <td>30.814769</td>\n",
       "      <td>0.386905</td>\n",
       "      <td>0.363095</td>\n",
       "      <td>59.954144</td>\n",
       "      <td>0.886905</td>\n",
       "      <td>0.750000</td>\n",
       "      <td>0.505952</td>\n",
       "    </tr>\n",
       "    <tr>\n",
       "      <td>Q</td>\n",
       "      <td>417.896104</td>\n",
       "      <td>0.389610</td>\n",
       "      <td>2.909091</td>\n",
       "      <td>28.089286</td>\n",
       "      <td>0.428571</td>\n",
       "      <td>0.168831</td>\n",
       "      <td>13.276030</td>\n",
       "      <td>1.129870</td>\n",
       "      <td>0.597403</td>\n",
       "      <td>0.740260</td>\n",
       "    </tr>\n",
       "    <tr>\n",
       "      <td>S</td>\n",
       "      <td>449.527950</td>\n",
       "      <td>0.336957</td>\n",
       "      <td>2.350932</td>\n",
       "      <td>29.445397</td>\n",
       "      <td>0.571429</td>\n",
       "      <td>0.413043</td>\n",
       "      <td>27.079812</td>\n",
       "      <td>0.700311</td>\n",
       "      <td>0.984472</td>\n",
       "      <td>0.610248</td>\n",
       "    </tr>\n",
       "  </tbody>\n",
       "</table>\n",
       "</div>"
      ],
      "text/plain": [
       "          PassengerId  Survived    Pclass        Age     SibSp     Parch  \\\n",
       "Embarked                                                                   \n",
       "C          445.357143  0.553571  1.886905  30.814769  0.386905  0.363095   \n",
       "Q          417.896104  0.389610  2.909091  28.089286  0.428571  0.168831   \n",
       "S          449.527950  0.336957  2.350932  29.445397  0.571429  0.413043   \n",
       "\n",
       "               Fare     title  FamilyMembers      solo  \n",
       "Embarked                                                \n",
       "C         59.954144  0.886905       0.750000  0.505952  \n",
       "Q         13.276030  1.129870       0.597403  0.740260  \n",
       "S         27.079812  0.700311       0.984472  0.610248  "
      ]
     },
     "execution_count": 51,
     "metadata": {},
     "output_type": "execute_result"
    }
   ],
   "source": [
    "train_data.groupby('Embarked').mean()"
   ]
  },
  {
   "cell_type": "code",
   "execution_count": null,
   "metadata": {},
   "outputs": [],
   "source": []
  }
 ],
 "metadata": {
  "kernelspec": {
   "display_name": "Python 3",
   "language": "python",
   "name": "python3"
  },
  "language_info": {
   "codemirror_mode": {
    "name": "ipython",
    "version": 3
   },
   "file_extension": ".py",
   "mimetype": "text/x-python",
   "name": "python",
   "nbconvert_exporter": "python",
   "pygments_lexer": "ipython3",
   "version": "3.7.4"
  }
 },
 "nbformat": 4,
 "nbformat_minor": 2
}
