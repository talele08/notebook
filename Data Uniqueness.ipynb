{
 "cells": [
  {
   "cell_type": "code",
   "execution_count": 1,
   "metadata": {},
   "outputs": [],
   "source": [
    "import pandas as pd"
   ]
  },
  {
   "cell_type": "code",
   "execution_count": 2,
   "metadata": {},
   "outputs": [],
   "source": [
    "PTData = pd.read_excel('/home/aniket/Downloads/PROPERTY_TAX.xlsx')"
   ]
  },
  {
   "cell_type": "code",
   "execution_count": 3,
   "metadata": {},
   "outputs": [],
   "source": [
    "TLData = pd.read_excel('/home/aniket/Downloads/TRADE_LIC.xlsx')"
   ]
  },
  {
   "cell_type": "code",
   "execution_count": 4,
   "metadata": {},
   "outputs": [
    {
     "data": {
      "text/plain": [
       "Index(['ZONEID', 'ZONE', 'WARDID', 'WARD', 'AREAID', 'AREA', 'LOCALITYID',\n",
       "       'LOCALITY', 'STREETID', 'STREET', 'OWNER_NAME', 'MOBILENO',\n",
       "       'PROPERTYID', 'OLD_PROPERTYID', 'LOCATION', 'BLOCK', 'CITYTOWNVILLAGE',\n",
       "       'PROPERTY_USAGE', 'PROPERTY_TYPE', 'IS_ACTIVE', 'IS_COLLECTABLE'],\n",
       "      dtype='object')"
      ]
     },
     "execution_count": 4,
     "metadata": {},
     "output_type": "execute_result"
    }
   ],
   "source": [
    "PTData.columns"
   ]
  },
  {
   "cell_type": "code",
   "execution_count": 5,
   "metadata": {},
   "outputs": [
    {
     "data": {
      "text/plain": [
       "Index(['ZONE', 'ZONE_ID', 'WARD', 'DIVISION_ID', 'AREA', 'AREA_ID', 'LOCATION',\n",
       "       'LOCATION_ID', 'STREET', 'STREET_ID', 'LICENSE_NUMBER',\n",
       "       'APPLICANT_NAME', 'BUILDING_TYPE', 'ESTABLISHMENT_NAME', 'PTNAN',\n",
       "       'TRADE_NAME', 'TRADE_NATURE', 'TRADE_CATEGORY', 'DEPT_NAME', 'EMAIL',\n",
       "       'MOB_NUMBER', 'APPLICANT_ADDRESS', 'ACTIVE'],\n",
       "      dtype='object')"
      ]
     },
     "execution_count": 5,
     "metadata": {},
     "output_type": "execute_result"
    }
   ],
   "source": [
    "TLData.columns"
   ]
  },
  {
   "cell_type": "code",
   "execution_count": 6,
   "metadata": {},
   "outputs": [
    {
     "data": {
      "text/plain": [
       "array(['Non-Residential', 'MIXED-USE', 'Residential', 'OTHERS'],\n",
       "      dtype=object)"
      ]
     },
     "execution_count": 6,
     "metadata": {},
     "output_type": "execute_result"
    }
   ],
   "source": [
    "PTData['PROPERTY_USAGE'].unique()"
   ]
  },
  {
   "cell_type": "code",
   "execution_count": 7,
   "metadata": {},
   "outputs": [],
   "source": [
    "PT_NONRESIDENTIAL = PTData[PTData.PROPERTY_USAGE!='Residential']"
   ]
  },
  {
   "cell_type": "code",
   "execution_count": 8,
   "metadata": {},
   "outputs": [
    {
     "data": {
      "text/plain": [
       "array(['Non-Residential', 'MIXED-USE', 'OTHERS'], dtype=object)"
      ]
     },
     "execution_count": 8,
     "metadata": {},
     "output_type": "execute_result"
    }
   ],
   "source": [
    "PT_NONRESIDENTIAL['PROPERTY_USAGE'].unique()"
   ]
  },
  {
   "cell_type": "code",
   "execution_count": 9,
   "metadata": {},
   "outputs": [],
   "source": [
    "TLData = TLData[(TLData.AREA_ID!=42909) & (TLData.LOCATION_ID!=49210)]"
   ]
  },
  {
   "cell_type": "code",
   "execution_count": 10,
   "metadata": {},
   "outputs": [
    {
     "data": {
      "text/plain": [
       "array(['Kothaval Chavadi', 'KOTHAVAL CHAVADI', 'GEORGE TOWN', 'SOWCARPET',\n",
       "       'Voc Nagar', 'Edapalayam', 'George Town', 'ELEPHANT GATE',\n",
       "       'VOC NAGAR', 'Park Town', 'PARK TOWN', 'PERUMAL KOIL GARDEN',\n",
       "       'EDAPALAYAM'], dtype=object)"
      ]
     },
     "execution_count": 10,
     "metadata": {},
     "output_type": "execute_result"
    }
   ],
   "source": [
    "PT_NONRESIDENTIAL.LOCATION.unique()"
   ]
  },
  {
   "cell_type": "code",
   "execution_count": 11,
   "metadata": {},
   "outputs": [
    {
     "data": {
      "text/plain": [
       "array(['George Town', 'Kothaval Chavadi', 'Sowcarpet', 'Voc Nagar',\n",
       "       'Park Town', 'Edapalayam', 'Perumal Koil Garden', 'Elephant Gate',\n",
       "       'Kalyanapuram'], dtype=object)"
      ]
     },
     "execution_count": 11,
     "metadata": {},
     "output_type": "execute_result"
    }
   ],
   "source": [
    "TLData.LOCATION.unique()"
   ]
  },
  {
   "cell_type": "code",
   "execution_count": 12,
   "metadata": {},
   "outputs": [],
   "source": [
    "TLData.LOCATION = TLData.LOCATION.str.upper()"
   ]
  },
  {
   "cell_type": "code",
   "execution_count": 13,
   "metadata": {},
   "outputs": [
    {
     "name": "stderr",
     "output_type": "stream",
     "text": [
      "/home/aniket/.local/lib/python3.5/site-packages/pandas/core/generic.py:5096: SettingWithCopyWarning: \n",
      "A value is trying to be set on a copy of a slice from a DataFrame.\n",
      "Try using .loc[row_indexer,col_indexer] = value instead\n",
      "\n",
      "See the caveats in the documentation: http://pandas.pydata.org/pandas-docs/stable/indexing.html#indexing-view-versus-copy\n",
      "  self[name] = value\n"
     ]
    }
   ],
   "source": [
    "PT_NONRESIDENTIAL.LOCATION = PT_NONRESIDENTIAL.LOCATION.str.upper()"
   ]
  },
  {
   "cell_type": "code",
   "execution_count": 14,
   "metadata": {},
   "outputs": [
    {
     "data": {
      "text/plain": [
       "array(['KOTHAVAL CHAVADI', 'GEORGE TOWN', 'SOWCARPET', 'VOC NAGAR',\n",
       "       'EDAPALAYAM', 'ELEPHANT GATE', 'PARK TOWN', 'PERUMAL KOIL GARDEN'],\n",
       "      dtype=object)"
      ]
     },
     "execution_count": 14,
     "metadata": {},
     "output_type": "execute_result"
    }
   ],
   "source": [
    "PT_NONRESIDENTIAL.LOCATION.unique()"
   ]
  },
  {
   "cell_type": "code",
   "execution_count": 15,
   "metadata": {},
   "outputs": [
    {
     "data": {
      "text/plain": [
       "array(['GEORGE TOWN', 'KOTHAVAL CHAVADI', 'SOWCARPET', 'VOC NAGAR',\n",
       "       'PARK TOWN', 'EDAPALAYAM', 'PERUMAL KOIL GARDEN', 'ELEPHANT GATE',\n",
       "       'KALYANAPURAM'], dtype=object)"
      ]
     },
     "execution_count": 15,
     "metadata": {},
     "output_type": "execute_result"
    }
   ],
   "source": [
    "TLData.LOCATION.unique()"
   ]
  },
  {
   "cell_type": "code",
   "execution_count": 16,
   "metadata": {},
   "outputs": [],
   "source": [
    "TLDataByLocality = TLData.groupby('LOCATION')"
   ]
  },
  {
   "cell_type": "code",
   "execution_count": 17,
   "metadata": {},
   "outputs": [],
   "source": [
    "PTBYLOCALITY = PT_NONRESIDENTIAL.groupby('LOCATION')"
   ]
  },
  {
   "cell_type": "code",
   "execution_count": 18,
   "metadata": {},
   "outputs": [],
   "source": [
    "TL_COUNT = TLDataByLocality.size()"
   ]
  },
  {
   "cell_type": "code",
   "execution_count": 19,
   "metadata": {},
   "outputs": [
    {
     "data": {
      "text/plain": [
       "87"
      ]
     },
     "execution_count": 19,
     "metadata": {},
     "output_type": "execute_result"
    }
   ],
   "source": [
    "TLData.STREET_ID.unique().size"
   ]
  },
  {
   "cell_type": "code",
   "execution_count": 20,
   "metadata": {},
   "outputs": [
    {
     "data": {
      "text/plain": [
       "89"
      ]
     },
     "execution_count": 20,
     "metadata": {},
     "output_type": "execute_result"
    }
   ],
   "source": [
    "PT_NONRESIDENTIAL.STREETID.unique().size"
   ]
  },
  {
   "cell_type": "code",
   "execution_count": 21,
   "metadata": {},
   "outputs": [],
   "source": [
    "TLDataByStreet = TLData.groupby('STREET')\n",
    "PTByStreet = PT_NONRESIDENTIAL.groupby('STREET')"
   ]
  },
  {
   "cell_type": "code",
   "execution_count": 22,
   "metadata": {},
   "outputs": [],
   "source": [
    "TL_STREET_COUNT = TLDataByStreet.size()\n",
    "PT_STREET_COUNT = PTByStreet.size()"
   ]
  },
  {
   "cell_type": "code",
   "execution_count": 23,
   "metadata": {},
   "outputs": [],
   "source": [
    "TL_STREET_COUNT = pd.DataFrame({'STREET': TLDataByStreet.size().index.to_series(),'TLCOUNT':TL_STREET_COUNT})"
   ]
  },
  {
   "cell_type": "code",
   "execution_count": 24,
   "metadata": {},
   "outputs": [],
   "source": [
    "PT_STREET_COUNT = pd.DataFrame({'STREET':PTByStreet.size().index.to_series(),'PTCOUNT':PT_STREET_COUNT})"
   ]
  },
  {
   "cell_type": "code",
   "execution_count": 25,
   "metadata": {},
   "outputs": [],
   "source": [
    "TL_STREET_COUNT.index.name = None"
   ]
  },
  {
   "cell_type": "code",
   "execution_count": 26,
   "metadata": {},
   "outputs": [],
   "source": [
    "PT_STREET_COUNT.index.name = None"
   ]
  },
  {
   "cell_type": "code",
   "execution_count": 27,
   "metadata": {},
   "outputs": [],
   "source": [
    "RES = pd.merge(PT_STREET_COUNT,TL_STREET_COUNT, how = 'outer', on = 'STREET')"
   ]
  },
  {
   "cell_type": "markdown",
   "metadata": {},
   "source": [
    "RES.to_csv('/home/aniket/Downloads/STREET.xlsx',index=False,na_rep=\"N/A\")"
   ]
  },
  {
   "cell_type": "markdown",
   "metadata": {},
   "source": [
    "PT_COUNT.to_csv('/home/aniket/Downloads/COUNT1.xlsx')"
   ]
  },
  {
   "cell_type": "markdown",
   "metadata": {},
   "source": [
    "TL_COUNT.to_csv('/home/aniket/Downloads/COUNT2.xlsx')"
   ]
  },
  {
   "cell_type": "code",
   "execution_count": null,
   "metadata": {},
   "outputs": [],
   "source": []
  },
  {
   "cell_type": "code",
   "execution_count": null,
   "metadata": {},
   "outputs": [],
   "source": []
  },
  {
   "cell_type": "code",
   "execution_count": null,
   "metadata": {},
   "outputs": [],
   "source": []
  },
  {
   "cell_type": "code",
   "execution_count": null,
   "metadata": {},
   "outputs": [],
   "source": []
  },
  {
   "cell_type": "code",
   "execution_count": null,
   "metadata": {},
   "outputs": [],
   "source": []
  }
 ],
 "metadata": {
  "kernelspec": {
   "display_name": "Python 3",
   "language": "python",
   "name": "python3"
  },
  "language_info": {
   "codemirror_mode": {
    "name": "ipython",
    "version": 3
   },
   "file_extension": ".py",
   "mimetype": "text/x-python",
   "name": "python",
   "nbconvert_exporter": "python",
   "pygments_lexer": "ipython3",
   "version": "3.6.6"
  }
 },
 "nbformat": 4,
 "nbformat_minor": 2
}
