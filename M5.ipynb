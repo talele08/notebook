{
 "cells": [
  {
   "cell_type": "code",
   "execution_count": 49,
   "metadata": {
    "scrolled": false
   },
   "outputs": [
    {
     "data": {
      "text/plain": [
       "<Figure size 2400x1600 with 0 Axes>"
      ]
     },
     "metadata": {},
     "output_type": "display_data"
    }
   ],
   "source": [
    "import numpy as np\n",
    "import pandas as pd\n",
    "from pathlib import Path\n",
    "import matplotlib.pyplot as plt\n",
    "from matplotlib.pyplot import figure\n",
    "figure(num=None, figsize=(30, 20), dpi=80, facecolor='w', edgecolor='k')\n",
    "import seaborn as sns \n",
    "import tensorflow as tf\n",
    "from sklearn.svm import SVC\n",
    "from sklearn.ensemble import RandomForestClassifier\n",
    "from tensorflow import keras\n",
    "import keras.backend as K\n",
    "\n",
    "\n",
    "from sklearn.preprocessing import Normalizer\n",
    "from sklearn.preprocessing import OneHotEncoder\n",
    "from sklearn.compose import ColumnTransformer \n",
    "from sklearn.impute import SimpleImputer\n",
    "from sklearn.pipeline import Pipeline\n",
    "from sklearn.metrics import accuracy_score\n",
    "from sklearn.preprocessing import MinMaxScaler\n",
    "from sklearn.model_selection import cross_val_score\n",
    "from sklearn.model_selection import train_test_split\n",
    "from sklearn.linear_model import LinearRegression\n",
    "\n",
    "from statsmodels.tsa.arima_model import ARIMA\n",
    "from statsmodels.tsa.stattools import acf\n",
    "from statsmodels.graphics.tsaplots import plot_pacf\n",
    "from statsmodels.graphics.tsaplots import plot_acf\n",
    "from statsmodels.tsa.statespace.sarimax import SARIMAX\n",
    "\n"
   ]
  },
  {
   "cell_type": "code",
   "execution_count": 3,
   "metadata": {},
   "outputs": [
    {
     "name": "stdout",
     "output_type": "stream",
     "text": [
      "Populating the interactive namespace from numpy and matplotlib\n"
     ]
    }
   ],
   "source": [
    "%pylab inline\n",
    "pylab.rcParams['figure.figsize'] = (10, 6)"
   ]
  },
  {
   "cell_type": "code",
   "execution_count": 4,
   "metadata": {},
   "outputs": [],
   "source": [
    "dir_name=\"/home/aniket/Music/notebooks/data/m5-forecasting-uncertainty\"\n",
    "data_folder = Path(dir_name)"
   ]
  },
  {
   "cell_type": "code",
   "execution_count": 5,
   "metadata": {},
   "outputs": [],
   "source": [
    "calender_data = pd.read_csv(data_folder/\"calendar.csv\")"
   ]
  },
  {
   "cell_type": "code",
   "execution_count": 6,
   "metadata": {},
   "outputs": [],
   "source": [
    "sales_data = pd.read_csv(data_folder/\"sales_train_validation.csv\")\n",
    "sell_prices_data = pd.read_csv(data_folder/\"sell_prices.csv\")"
   ]
  },
  {
   "cell_type": "code",
   "execution_count": 7,
   "metadata": {},
   "outputs": [
    {
     "data": {
      "text/html": [
       "<div>\n",
       "<style scoped>\n",
       "    .dataframe tbody tr th:only-of-type {\n",
       "        vertical-align: middle;\n",
       "    }\n",
       "\n",
       "    .dataframe tbody tr th {\n",
       "        vertical-align: top;\n",
       "    }\n",
       "\n",
       "    .dataframe thead th {\n",
       "        text-align: right;\n",
       "    }\n",
       "</style>\n",
       "<table border=\"1\" class=\"dataframe\">\n",
       "  <thead>\n",
       "    <tr style=\"text-align: right;\">\n",
       "      <th></th>\n",
       "      <th>date</th>\n",
       "      <th>wm_yr_wk</th>\n",
       "      <th>weekday</th>\n",
       "      <th>wday</th>\n",
       "      <th>month</th>\n",
       "      <th>year</th>\n",
       "      <th>d</th>\n",
       "      <th>event_name_1</th>\n",
       "      <th>event_type_1</th>\n",
       "      <th>event_name_2</th>\n",
       "      <th>event_type_2</th>\n",
       "      <th>snap_CA</th>\n",
       "      <th>snap_TX</th>\n",
       "      <th>snap_WI</th>\n",
       "    </tr>\n",
       "  </thead>\n",
       "  <tbody>\n",
       "    <tr>\n",
       "      <td>0</td>\n",
       "      <td>2011-01-29</td>\n",
       "      <td>11101</td>\n",
       "      <td>Saturday</td>\n",
       "      <td>1</td>\n",
       "      <td>1</td>\n",
       "      <td>2011</td>\n",
       "      <td>d_1</td>\n",
       "      <td>NaN</td>\n",
       "      <td>NaN</td>\n",
       "      <td>NaN</td>\n",
       "      <td>NaN</td>\n",
       "      <td>0</td>\n",
       "      <td>0</td>\n",
       "      <td>0</td>\n",
       "    </tr>\n",
       "    <tr>\n",
       "      <td>1</td>\n",
       "      <td>2011-01-30</td>\n",
       "      <td>11101</td>\n",
       "      <td>Sunday</td>\n",
       "      <td>2</td>\n",
       "      <td>1</td>\n",
       "      <td>2011</td>\n",
       "      <td>d_2</td>\n",
       "      <td>NaN</td>\n",
       "      <td>NaN</td>\n",
       "      <td>NaN</td>\n",
       "      <td>NaN</td>\n",
       "      <td>0</td>\n",
       "      <td>0</td>\n",
       "      <td>0</td>\n",
       "    </tr>\n",
       "    <tr>\n",
       "      <td>2</td>\n",
       "      <td>2011-01-31</td>\n",
       "      <td>11101</td>\n",
       "      <td>Monday</td>\n",
       "      <td>3</td>\n",
       "      <td>1</td>\n",
       "      <td>2011</td>\n",
       "      <td>d_3</td>\n",
       "      <td>NaN</td>\n",
       "      <td>NaN</td>\n",
       "      <td>NaN</td>\n",
       "      <td>NaN</td>\n",
       "      <td>0</td>\n",
       "      <td>0</td>\n",
       "      <td>0</td>\n",
       "    </tr>\n",
       "    <tr>\n",
       "      <td>3</td>\n",
       "      <td>2011-02-01</td>\n",
       "      <td>11101</td>\n",
       "      <td>Tuesday</td>\n",
       "      <td>4</td>\n",
       "      <td>2</td>\n",
       "      <td>2011</td>\n",
       "      <td>d_4</td>\n",
       "      <td>NaN</td>\n",
       "      <td>NaN</td>\n",
       "      <td>NaN</td>\n",
       "      <td>NaN</td>\n",
       "      <td>1</td>\n",
       "      <td>1</td>\n",
       "      <td>0</td>\n",
       "    </tr>\n",
       "    <tr>\n",
       "      <td>4</td>\n",
       "      <td>2011-02-02</td>\n",
       "      <td>11101</td>\n",
       "      <td>Wednesday</td>\n",
       "      <td>5</td>\n",
       "      <td>2</td>\n",
       "      <td>2011</td>\n",
       "      <td>d_5</td>\n",
       "      <td>NaN</td>\n",
       "      <td>NaN</td>\n",
       "      <td>NaN</td>\n",
       "      <td>NaN</td>\n",
       "      <td>1</td>\n",
       "      <td>0</td>\n",
       "      <td>1</td>\n",
       "    </tr>\n",
       "  </tbody>\n",
       "</table>\n",
       "</div>"
      ],
      "text/plain": [
       "         date  wm_yr_wk    weekday  wday  month  year    d event_name_1  \\\n",
       "0  2011-01-29     11101   Saturday     1      1  2011  d_1          NaN   \n",
       "1  2011-01-30     11101     Sunday     2      1  2011  d_2          NaN   \n",
       "2  2011-01-31     11101     Monday     3      1  2011  d_3          NaN   \n",
       "3  2011-02-01     11101    Tuesday     4      2  2011  d_4          NaN   \n",
       "4  2011-02-02     11101  Wednesday     5      2  2011  d_5          NaN   \n",
       "\n",
       "  event_type_1 event_name_2 event_type_2  snap_CA  snap_TX  snap_WI  \n",
       "0          NaN          NaN          NaN        0        0        0  \n",
       "1          NaN          NaN          NaN        0        0        0  \n",
       "2          NaN          NaN          NaN        0        0        0  \n",
       "3          NaN          NaN          NaN        1        1        0  \n",
       "4          NaN          NaN          NaN        1        0        1  "
      ]
     },
     "execution_count": 7,
     "metadata": {},
     "output_type": "execute_result"
    }
   ],
   "source": [
    "calender_data.head()"
   ]
  },
  {
   "cell_type": "code",
   "execution_count": 8,
   "metadata": {},
   "outputs": [
    {
     "data": {
      "text/html": [
       "<div>\n",
       "<style scoped>\n",
       "    .dataframe tbody tr th:only-of-type {\n",
       "        vertical-align: middle;\n",
       "    }\n",
       "\n",
       "    .dataframe tbody tr th {\n",
       "        vertical-align: top;\n",
       "    }\n",
       "\n",
       "    .dataframe thead th {\n",
       "        text-align: right;\n",
       "    }\n",
       "</style>\n",
       "<table border=\"1\" class=\"dataframe\">\n",
       "  <thead>\n",
       "    <tr style=\"text-align: right;\">\n",
       "      <th></th>\n",
       "      <th>id</th>\n",
       "      <th>item_id</th>\n",
       "      <th>dept_id</th>\n",
       "      <th>cat_id</th>\n",
       "      <th>store_id</th>\n",
       "      <th>state_id</th>\n",
       "      <th>d_1</th>\n",
       "      <th>d_2</th>\n",
       "      <th>d_3</th>\n",
       "      <th>d_4</th>\n",
       "      <th>...</th>\n",
       "      <th>d_1904</th>\n",
       "      <th>d_1905</th>\n",
       "      <th>d_1906</th>\n",
       "      <th>d_1907</th>\n",
       "      <th>d_1908</th>\n",
       "      <th>d_1909</th>\n",
       "      <th>d_1910</th>\n",
       "      <th>d_1911</th>\n",
       "      <th>d_1912</th>\n",
       "      <th>d_1913</th>\n",
       "    </tr>\n",
       "  </thead>\n",
       "  <tbody>\n",
       "    <tr>\n",
       "      <td>0</td>\n",
       "      <td>HOBBIES_1_001_CA_1_validation</td>\n",
       "      <td>HOBBIES_1_001</td>\n",
       "      <td>HOBBIES_1</td>\n",
       "      <td>HOBBIES</td>\n",
       "      <td>CA_1</td>\n",
       "      <td>CA</td>\n",
       "      <td>0</td>\n",
       "      <td>0</td>\n",
       "      <td>0</td>\n",
       "      <td>0</td>\n",
       "      <td>...</td>\n",
       "      <td>1</td>\n",
       "      <td>3</td>\n",
       "      <td>0</td>\n",
       "      <td>1</td>\n",
       "      <td>1</td>\n",
       "      <td>1</td>\n",
       "      <td>3</td>\n",
       "      <td>0</td>\n",
       "      <td>1</td>\n",
       "      <td>1</td>\n",
       "    </tr>\n",
       "    <tr>\n",
       "      <td>1</td>\n",
       "      <td>HOBBIES_1_002_CA_1_validation</td>\n",
       "      <td>HOBBIES_1_002</td>\n",
       "      <td>HOBBIES_1</td>\n",
       "      <td>HOBBIES</td>\n",
       "      <td>CA_1</td>\n",
       "      <td>CA</td>\n",
       "      <td>0</td>\n",
       "      <td>0</td>\n",
       "      <td>0</td>\n",
       "      <td>0</td>\n",
       "      <td>...</td>\n",
       "      <td>0</td>\n",
       "      <td>0</td>\n",
       "      <td>0</td>\n",
       "      <td>0</td>\n",
       "      <td>0</td>\n",
       "      <td>1</td>\n",
       "      <td>0</td>\n",
       "      <td>0</td>\n",
       "      <td>0</td>\n",
       "      <td>0</td>\n",
       "    </tr>\n",
       "    <tr>\n",
       "      <td>2</td>\n",
       "      <td>HOBBIES_1_003_CA_1_validation</td>\n",
       "      <td>HOBBIES_1_003</td>\n",
       "      <td>HOBBIES_1</td>\n",
       "      <td>HOBBIES</td>\n",
       "      <td>CA_1</td>\n",
       "      <td>CA</td>\n",
       "      <td>0</td>\n",
       "      <td>0</td>\n",
       "      <td>0</td>\n",
       "      <td>0</td>\n",
       "      <td>...</td>\n",
       "      <td>2</td>\n",
       "      <td>1</td>\n",
       "      <td>2</td>\n",
       "      <td>1</td>\n",
       "      <td>1</td>\n",
       "      <td>1</td>\n",
       "      <td>0</td>\n",
       "      <td>1</td>\n",
       "      <td>1</td>\n",
       "      <td>1</td>\n",
       "    </tr>\n",
       "    <tr>\n",
       "      <td>3</td>\n",
       "      <td>HOBBIES_1_004_CA_1_validation</td>\n",
       "      <td>HOBBIES_1_004</td>\n",
       "      <td>HOBBIES_1</td>\n",
       "      <td>HOBBIES</td>\n",
       "      <td>CA_1</td>\n",
       "      <td>CA</td>\n",
       "      <td>0</td>\n",
       "      <td>0</td>\n",
       "      <td>0</td>\n",
       "      <td>0</td>\n",
       "      <td>...</td>\n",
       "      <td>1</td>\n",
       "      <td>0</td>\n",
       "      <td>5</td>\n",
       "      <td>4</td>\n",
       "      <td>1</td>\n",
       "      <td>0</td>\n",
       "      <td>1</td>\n",
       "      <td>3</td>\n",
       "      <td>7</td>\n",
       "      <td>2</td>\n",
       "    </tr>\n",
       "    <tr>\n",
       "      <td>4</td>\n",
       "      <td>HOBBIES_1_005_CA_1_validation</td>\n",
       "      <td>HOBBIES_1_005</td>\n",
       "      <td>HOBBIES_1</td>\n",
       "      <td>HOBBIES</td>\n",
       "      <td>CA_1</td>\n",
       "      <td>CA</td>\n",
       "      <td>0</td>\n",
       "      <td>0</td>\n",
       "      <td>0</td>\n",
       "      <td>0</td>\n",
       "      <td>...</td>\n",
       "      <td>2</td>\n",
       "      <td>1</td>\n",
       "      <td>1</td>\n",
       "      <td>0</td>\n",
       "      <td>1</td>\n",
       "      <td>1</td>\n",
       "      <td>2</td>\n",
       "      <td>2</td>\n",
       "      <td>2</td>\n",
       "      <td>4</td>\n",
       "    </tr>\n",
       "  </tbody>\n",
       "</table>\n",
       "<p>5 rows × 1919 columns</p>\n",
       "</div>"
      ],
      "text/plain": [
       "                              id        item_id    dept_id   cat_id store_id  \\\n",
       "0  HOBBIES_1_001_CA_1_validation  HOBBIES_1_001  HOBBIES_1  HOBBIES     CA_1   \n",
       "1  HOBBIES_1_002_CA_1_validation  HOBBIES_1_002  HOBBIES_1  HOBBIES     CA_1   \n",
       "2  HOBBIES_1_003_CA_1_validation  HOBBIES_1_003  HOBBIES_1  HOBBIES     CA_1   \n",
       "3  HOBBIES_1_004_CA_1_validation  HOBBIES_1_004  HOBBIES_1  HOBBIES     CA_1   \n",
       "4  HOBBIES_1_005_CA_1_validation  HOBBIES_1_005  HOBBIES_1  HOBBIES     CA_1   \n",
       "\n",
       "  state_id  d_1  d_2  d_3  d_4  ...  d_1904  d_1905  d_1906  d_1907  d_1908  \\\n",
       "0       CA    0    0    0    0  ...       1       3       0       1       1   \n",
       "1       CA    0    0    0    0  ...       0       0       0       0       0   \n",
       "2       CA    0    0    0    0  ...       2       1       2       1       1   \n",
       "3       CA    0    0    0    0  ...       1       0       5       4       1   \n",
       "4       CA    0    0    0    0  ...       2       1       1       0       1   \n",
       "\n",
       "   d_1909  d_1910  d_1911  d_1912  d_1913  \n",
       "0       1       3       0       1       1  \n",
       "1       1       0       0       0       0  \n",
       "2       1       0       1       1       1  \n",
       "3       0       1       3       7       2  \n",
       "4       1       2       2       2       4  \n",
       "\n",
       "[5 rows x 1919 columns]"
      ]
     },
     "execution_count": 8,
     "metadata": {},
     "output_type": "execute_result"
    }
   ],
   "source": [
    "sales_data.head()"
   ]
  },
  {
   "cell_type": "code",
   "execution_count": 9,
   "metadata": {
    "scrolled": true
   },
   "outputs": [
    {
     "data": {
      "text/html": [
       "<div>\n",
       "<style scoped>\n",
       "    .dataframe tbody tr th:only-of-type {\n",
       "        vertical-align: middle;\n",
       "    }\n",
       "\n",
       "    .dataframe tbody tr th {\n",
       "        vertical-align: top;\n",
       "    }\n",
       "\n",
       "    .dataframe thead th {\n",
       "        text-align: right;\n",
       "    }\n",
       "</style>\n",
       "<table border=\"1\" class=\"dataframe\">\n",
       "  <thead>\n",
       "    <tr style=\"text-align: right;\">\n",
       "      <th></th>\n",
       "      <th>store_id</th>\n",
       "      <th>item_id</th>\n",
       "      <th>wm_yr_wk</th>\n",
       "      <th>sell_price</th>\n",
       "    </tr>\n",
       "  </thead>\n",
       "  <tbody>\n",
       "    <tr>\n",
       "      <td>0</td>\n",
       "      <td>CA_1</td>\n",
       "      <td>HOBBIES_1_001</td>\n",
       "      <td>11325</td>\n",
       "      <td>9.58</td>\n",
       "    </tr>\n",
       "    <tr>\n",
       "      <td>1</td>\n",
       "      <td>CA_1</td>\n",
       "      <td>HOBBIES_1_001</td>\n",
       "      <td>11326</td>\n",
       "      <td>9.58</td>\n",
       "    </tr>\n",
       "    <tr>\n",
       "      <td>2</td>\n",
       "      <td>CA_1</td>\n",
       "      <td>HOBBIES_1_001</td>\n",
       "      <td>11327</td>\n",
       "      <td>8.26</td>\n",
       "    </tr>\n",
       "    <tr>\n",
       "      <td>3</td>\n",
       "      <td>CA_1</td>\n",
       "      <td>HOBBIES_1_001</td>\n",
       "      <td>11328</td>\n",
       "      <td>8.26</td>\n",
       "    </tr>\n",
       "    <tr>\n",
       "      <td>4</td>\n",
       "      <td>CA_1</td>\n",
       "      <td>HOBBIES_1_001</td>\n",
       "      <td>11329</td>\n",
       "      <td>8.26</td>\n",
       "    </tr>\n",
       "    <tr>\n",
       "      <td>...</td>\n",
       "      <td>...</td>\n",
       "      <td>...</td>\n",
       "      <td>...</td>\n",
       "      <td>...</td>\n",
       "    </tr>\n",
       "    <tr>\n",
       "      <td>6841116</td>\n",
       "      <td>WI_3</td>\n",
       "      <td>FOODS_3_827</td>\n",
       "      <td>11617</td>\n",
       "      <td>1.00</td>\n",
       "    </tr>\n",
       "    <tr>\n",
       "      <td>6841117</td>\n",
       "      <td>WI_3</td>\n",
       "      <td>FOODS_3_827</td>\n",
       "      <td>11618</td>\n",
       "      <td>1.00</td>\n",
       "    </tr>\n",
       "    <tr>\n",
       "      <td>6841118</td>\n",
       "      <td>WI_3</td>\n",
       "      <td>FOODS_3_827</td>\n",
       "      <td>11619</td>\n",
       "      <td>1.00</td>\n",
       "    </tr>\n",
       "    <tr>\n",
       "      <td>6841119</td>\n",
       "      <td>WI_3</td>\n",
       "      <td>FOODS_3_827</td>\n",
       "      <td>11620</td>\n",
       "      <td>1.00</td>\n",
       "    </tr>\n",
       "    <tr>\n",
       "      <td>6841120</td>\n",
       "      <td>WI_3</td>\n",
       "      <td>FOODS_3_827</td>\n",
       "      <td>11621</td>\n",
       "      <td>1.00</td>\n",
       "    </tr>\n",
       "  </tbody>\n",
       "</table>\n",
       "<p>6841121 rows × 4 columns</p>\n",
       "</div>"
      ],
      "text/plain": [
       "        store_id        item_id  wm_yr_wk  sell_price\n",
       "0           CA_1  HOBBIES_1_001     11325        9.58\n",
       "1           CA_1  HOBBIES_1_001     11326        9.58\n",
       "2           CA_1  HOBBIES_1_001     11327        8.26\n",
       "3           CA_1  HOBBIES_1_001     11328        8.26\n",
       "4           CA_1  HOBBIES_1_001     11329        8.26\n",
       "...          ...            ...       ...         ...\n",
       "6841116     WI_3    FOODS_3_827     11617        1.00\n",
       "6841117     WI_3    FOODS_3_827     11618        1.00\n",
       "6841118     WI_3    FOODS_3_827     11619        1.00\n",
       "6841119     WI_3    FOODS_3_827     11620        1.00\n",
       "6841120     WI_3    FOODS_3_827     11621        1.00\n",
       "\n",
       "[6841121 rows x 4 columns]"
      ]
     },
     "execution_count": 9,
     "metadata": {},
     "output_type": "execute_result"
    }
   ],
   "source": [
    "sell_prices_data"
   ]
  },
  {
   "cell_type": "code",
   "execution_count": 10,
   "metadata": {},
   "outputs": [],
   "source": [
    "prediction_columns = [col for col in sales_data.columns if 'd_' in col]"
   ]
  },
  {
   "cell_type": "code",
   "execution_count": 11,
   "metadata": {},
   "outputs": [],
   "source": [
    "sales_data_hobbies = sales_data[sales_data['cat_id']=='HOBBIES'][prediction_columns]"
   ]
  },
  {
   "cell_type": "code",
   "execution_count": 12,
   "metadata": {},
   "outputs": [
    {
     "data": {
      "text/plain": [
       "d_1       0\n",
       "d_2       0\n",
       "d_3       0\n",
       "d_4       0\n",
       "d_5       0\n",
       "         ..\n",
       "d_1909    1\n",
       "d_1910    0\n",
       "d_1911    0\n",
       "d_1912    0\n",
       "d_1913    0\n",
       "Name: 1, Length: 1913, dtype: int64"
      ]
     },
     "execution_count": 12,
     "metadata": {},
     "output_type": "execute_result"
    }
   ],
   "source": [
    "sales_data_hobbies.iloc[1]"
   ]
  },
  {
   "cell_type": "code",
   "execution_count": 13,
   "metadata": {},
   "outputs": [],
   "source": [
    "sales_data_hobbies_std = sales_data_hobbies.sub(sales_data_hobbies.mean(0),axis=1).div(sales_data_hobbies.std(0), axis=1)"
   ]
  },
  {
   "cell_type": "code",
   "execution_count": 14,
   "metadata": {
    "scrolled": true
   },
   "outputs": [
    {
     "data": {
      "text/html": [
       "<div>\n",
       "<style scoped>\n",
       "    .dataframe tbody tr th:only-of-type {\n",
       "        vertical-align: middle;\n",
       "    }\n",
       "\n",
       "    .dataframe tbody tr th {\n",
       "        vertical-align: top;\n",
       "    }\n",
       "\n",
       "    .dataframe thead th {\n",
       "        text-align: right;\n",
       "    }\n",
       "</style>\n",
       "<table border=\"1\" class=\"dataframe\">\n",
       "  <thead>\n",
       "    <tr style=\"text-align: right;\">\n",
       "      <th></th>\n",
       "      <th>d_1</th>\n",
       "      <th>d_2</th>\n",
       "      <th>d_3</th>\n",
       "      <th>d_4</th>\n",
       "      <th>d_5</th>\n",
       "      <th>d_6</th>\n",
       "      <th>d_7</th>\n",
       "      <th>d_8</th>\n",
       "      <th>d_9</th>\n",
       "      <th>d_10</th>\n",
       "      <th>...</th>\n",
       "      <th>d_1904</th>\n",
       "      <th>d_1905</th>\n",
       "      <th>d_1906</th>\n",
       "      <th>d_1907</th>\n",
       "      <th>d_1908</th>\n",
       "      <th>d_1909</th>\n",
       "      <th>d_1910</th>\n",
       "      <th>d_1911</th>\n",
       "      <th>d_1912</th>\n",
       "      <th>d_1913</th>\n",
       "    </tr>\n",
       "  </thead>\n",
       "  <tbody>\n",
       "    <tr>\n",
       "      <td>0</td>\n",
       "      <td>-0.23891</td>\n",
       "      <td>-0.245991</td>\n",
       "      <td>-0.204825</td>\n",
       "      <td>-0.226332</td>\n",
       "      <td>-0.193577</td>\n",
       "      <td>-0.209458</td>\n",
       "      <td>-0.206058</td>\n",
       "      <td>-0.233463</td>\n",
       "      <td>-0.247985</td>\n",
       "      <td>-0.197495</td>\n",
       "      <td>...</td>\n",
       "      <td>0.183634</td>\n",
       "      <td>0.993519</td>\n",
       "      <td>-0.332950</td>\n",
       "      <td>0.210300</td>\n",
       "      <td>0.167724</td>\n",
       "      <td>0.213695</td>\n",
       "      <td>1.280742</td>\n",
       "      <td>-0.354442</td>\n",
       "      <td>0.070831</td>\n",
       "      <td>0.079421</td>\n",
       "    </tr>\n",
       "    <tr>\n",
       "      <td>1</td>\n",
       "      <td>-0.23891</td>\n",
       "      <td>-0.245991</td>\n",
       "      <td>-0.204825</td>\n",
       "      <td>-0.226332</td>\n",
       "      <td>-0.193577</td>\n",
       "      <td>-0.209458</td>\n",
       "      <td>-0.206058</td>\n",
       "      <td>-0.233463</td>\n",
       "      <td>-0.247985</td>\n",
       "      <td>-0.197495</td>\n",
       "      <td>...</td>\n",
       "      <td>-0.372982</td>\n",
       "      <td>-0.373820</td>\n",
       "      <td>-0.332950</td>\n",
       "      <td>-0.300312</td>\n",
       "      <td>-0.340941</td>\n",
       "      <td>0.213695</td>\n",
       "      <td>-0.315829</td>\n",
       "      <td>-0.354442</td>\n",
       "      <td>-0.392896</td>\n",
       "      <td>-0.384621</td>\n",
       "    </tr>\n",
       "    <tr>\n",
       "      <td>2</td>\n",
       "      <td>-0.23891</td>\n",
       "      <td>-0.245991</td>\n",
       "      <td>-0.204825</td>\n",
       "      <td>-0.226332</td>\n",
       "      <td>-0.193577</td>\n",
       "      <td>-0.209458</td>\n",
       "      <td>-0.206058</td>\n",
       "      <td>-0.233463</td>\n",
       "      <td>-0.247985</td>\n",
       "      <td>-0.197495</td>\n",
       "      <td>...</td>\n",
       "      <td>0.740251</td>\n",
       "      <td>0.081960</td>\n",
       "      <td>0.447617</td>\n",
       "      <td>0.210300</td>\n",
       "      <td>0.167724</td>\n",
       "      <td>0.213695</td>\n",
       "      <td>-0.315829</td>\n",
       "      <td>0.135790</td>\n",
       "      <td>0.070831</td>\n",
       "      <td>0.079421</td>\n",
       "    </tr>\n",
       "    <tr>\n",
       "      <td>3</td>\n",
       "      <td>-0.23891</td>\n",
       "      <td>-0.245991</td>\n",
       "      <td>-0.204825</td>\n",
       "      <td>-0.226332</td>\n",
       "      <td>-0.193577</td>\n",
       "      <td>-0.209458</td>\n",
       "      <td>-0.206058</td>\n",
       "      <td>-0.233463</td>\n",
       "      <td>-0.247985</td>\n",
       "      <td>-0.197495</td>\n",
       "      <td>...</td>\n",
       "      <td>0.183634</td>\n",
       "      <td>-0.373820</td>\n",
       "      <td>1.618468</td>\n",
       "      <td>1.742133</td>\n",
       "      <td>0.167724</td>\n",
       "      <td>-0.340656</td>\n",
       "      <td>0.216361</td>\n",
       "      <td>1.116252</td>\n",
       "      <td>2.853194</td>\n",
       "      <td>0.543463</td>\n",
       "    </tr>\n",
       "    <tr>\n",
       "      <td>4</td>\n",
       "      <td>-0.23891</td>\n",
       "      <td>-0.245991</td>\n",
       "      <td>-0.204825</td>\n",
       "      <td>-0.226332</td>\n",
       "      <td>-0.193577</td>\n",
       "      <td>-0.209458</td>\n",
       "      <td>-0.206058</td>\n",
       "      <td>-0.233463</td>\n",
       "      <td>-0.247985</td>\n",
       "      <td>-0.197495</td>\n",
       "      <td>...</td>\n",
       "      <td>0.740251</td>\n",
       "      <td>0.081960</td>\n",
       "      <td>0.057334</td>\n",
       "      <td>-0.300312</td>\n",
       "      <td>0.167724</td>\n",
       "      <td>0.213695</td>\n",
       "      <td>0.748552</td>\n",
       "      <td>0.626021</td>\n",
       "      <td>0.534558</td>\n",
       "      <td>1.471548</td>\n",
       "    </tr>\n",
       "    <tr>\n",
       "      <td>...</td>\n",
       "      <td>...</td>\n",
       "      <td>...</td>\n",
       "      <td>...</td>\n",
       "      <td>...</td>\n",
       "      <td>...</td>\n",
       "      <td>...</td>\n",
       "      <td>...</td>\n",
       "      <td>...</td>\n",
       "      <td>...</td>\n",
       "      <td>...</td>\n",
       "      <td>...</td>\n",
       "      <td>...</td>\n",
       "      <td>...</td>\n",
       "      <td>...</td>\n",
       "      <td>...</td>\n",
       "      <td>...</td>\n",
       "      <td>...</td>\n",
       "      <td>...</td>\n",
       "      <td>...</td>\n",
       "      <td>...</td>\n",
       "      <td>...</td>\n",
       "    </tr>\n",
       "    <tr>\n",
       "      <td>28001</td>\n",
       "      <td>-0.23891</td>\n",
       "      <td>-0.245991</td>\n",
       "      <td>-0.204825</td>\n",
       "      <td>-0.226332</td>\n",
       "      <td>-0.193577</td>\n",
       "      <td>-0.209458</td>\n",
       "      <td>-0.206058</td>\n",
       "      <td>-0.233463</td>\n",
       "      <td>-0.247985</td>\n",
       "      <td>-0.197495</td>\n",
       "      <td>...</td>\n",
       "      <td>-0.372982</td>\n",
       "      <td>-0.373820</td>\n",
       "      <td>-0.332950</td>\n",
       "      <td>-0.300312</td>\n",
       "      <td>-0.340941</td>\n",
       "      <td>-0.340656</td>\n",
       "      <td>1.812933</td>\n",
       "      <td>-0.354442</td>\n",
       "      <td>-0.392896</td>\n",
       "      <td>-0.384621</td>\n",
       "    </tr>\n",
       "    <tr>\n",
       "      <td>28002</td>\n",
       "      <td>-0.23891</td>\n",
       "      <td>0.582039</td>\n",
       "      <td>-0.204825</td>\n",
       "      <td>-0.226332</td>\n",
       "      <td>-0.193577</td>\n",
       "      <td>-0.209458</td>\n",
       "      <td>-0.206058</td>\n",
       "      <td>-0.233463</td>\n",
       "      <td>-0.247985</td>\n",
       "      <td>-0.197495</td>\n",
       "      <td>...</td>\n",
       "      <td>-0.372982</td>\n",
       "      <td>-0.373820</td>\n",
       "      <td>-0.332950</td>\n",
       "      <td>-0.300312</td>\n",
       "      <td>-0.340941</td>\n",
       "      <td>-0.340656</td>\n",
       "      <td>-0.315829</td>\n",
       "      <td>-0.354442</td>\n",
       "      <td>-0.392896</td>\n",
       "      <td>-0.384621</td>\n",
       "    </tr>\n",
       "    <tr>\n",
       "      <td>28003</td>\n",
       "      <td>-0.23891</td>\n",
       "      <td>-0.245991</td>\n",
       "      <td>-0.204825</td>\n",
       "      <td>-0.226332</td>\n",
       "      <td>-0.193577</td>\n",
       "      <td>-0.209458</td>\n",
       "      <td>-0.206058</td>\n",
       "      <td>-0.233463</td>\n",
       "      <td>-0.247985</td>\n",
       "      <td>-0.197495</td>\n",
       "      <td>...</td>\n",
       "      <td>0.183634</td>\n",
       "      <td>-0.373820</td>\n",
       "      <td>-0.332950</td>\n",
       "      <td>-0.300312</td>\n",
       "      <td>-0.340941</td>\n",
       "      <td>0.768045</td>\n",
       "      <td>-0.315829</td>\n",
       "      <td>0.135790</td>\n",
       "      <td>0.534558</td>\n",
       "      <td>-0.384621</td>\n",
       "    </tr>\n",
       "    <tr>\n",
       "      <td>28004</td>\n",
       "      <td>-0.23891</td>\n",
       "      <td>-0.245991</td>\n",
       "      <td>-0.204825</td>\n",
       "      <td>0.252790</td>\n",
       "      <td>-0.193577</td>\n",
       "      <td>-0.209458</td>\n",
       "      <td>-0.206058</td>\n",
       "      <td>0.097462</td>\n",
       "      <td>-0.247985</td>\n",
       "      <td>-0.197495</td>\n",
       "      <td>...</td>\n",
       "      <td>-0.372982</td>\n",
       "      <td>-0.373820</td>\n",
       "      <td>-0.332950</td>\n",
       "      <td>-0.300312</td>\n",
       "      <td>-0.340941</td>\n",
       "      <td>-0.340656</td>\n",
       "      <td>-0.315829</td>\n",
       "      <td>-0.354442</td>\n",
       "      <td>-0.392896</td>\n",
       "      <td>-0.384621</td>\n",
       "    </tr>\n",
       "    <tr>\n",
       "      <td>28005</td>\n",
       "      <td>-0.23891</td>\n",
       "      <td>-0.245991</td>\n",
       "      <td>-0.204825</td>\n",
       "      <td>-0.226332</td>\n",
       "      <td>-0.193577</td>\n",
       "      <td>-0.209458</td>\n",
       "      <td>-0.206058</td>\n",
       "      <td>-0.233463</td>\n",
       "      <td>-0.247985</td>\n",
       "      <td>-0.197495</td>\n",
       "      <td>...</td>\n",
       "      <td>-0.372982</td>\n",
       "      <td>-0.373820</td>\n",
       "      <td>-0.332950</td>\n",
       "      <td>-0.300312</td>\n",
       "      <td>-0.340941</td>\n",
       "      <td>0.768045</td>\n",
       "      <td>-0.315829</td>\n",
       "      <td>-0.354442</td>\n",
       "      <td>-0.392896</td>\n",
       "      <td>-0.384621</td>\n",
       "    </tr>\n",
       "  </tbody>\n",
       "</table>\n",
       "<p>5650 rows × 1913 columns</p>\n",
       "</div>"
      ],
      "text/plain": [
       "           d_1       d_2       d_3       d_4       d_5       d_6       d_7  \\\n",
       "0     -0.23891 -0.245991 -0.204825 -0.226332 -0.193577 -0.209458 -0.206058   \n",
       "1     -0.23891 -0.245991 -0.204825 -0.226332 -0.193577 -0.209458 -0.206058   \n",
       "2     -0.23891 -0.245991 -0.204825 -0.226332 -0.193577 -0.209458 -0.206058   \n",
       "3     -0.23891 -0.245991 -0.204825 -0.226332 -0.193577 -0.209458 -0.206058   \n",
       "4     -0.23891 -0.245991 -0.204825 -0.226332 -0.193577 -0.209458 -0.206058   \n",
       "...        ...       ...       ...       ...       ...       ...       ...   \n",
       "28001 -0.23891 -0.245991 -0.204825 -0.226332 -0.193577 -0.209458 -0.206058   \n",
       "28002 -0.23891  0.582039 -0.204825 -0.226332 -0.193577 -0.209458 -0.206058   \n",
       "28003 -0.23891 -0.245991 -0.204825 -0.226332 -0.193577 -0.209458 -0.206058   \n",
       "28004 -0.23891 -0.245991 -0.204825  0.252790 -0.193577 -0.209458 -0.206058   \n",
       "28005 -0.23891 -0.245991 -0.204825 -0.226332 -0.193577 -0.209458 -0.206058   \n",
       "\n",
       "            d_8       d_9      d_10  ...    d_1904    d_1905    d_1906  \\\n",
       "0     -0.233463 -0.247985 -0.197495  ...  0.183634  0.993519 -0.332950   \n",
       "1     -0.233463 -0.247985 -0.197495  ... -0.372982 -0.373820 -0.332950   \n",
       "2     -0.233463 -0.247985 -0.197495  ...  0.740251  0.081960  0.447617   \n",
       "3     -0.233463 -0.247985 -0.197495  ...  0.183634 -0.373820  1.618468   \n",
       "4     -0.233463 -0.247985 -0.197495  ...  0.740251  0.081960  0.057334   \n",
       "...         ...       ...       ...  ...       ...       ...       ...   \n",
       "28001 -0.233463 -0.247985 -0.197495  ... -0.372982 -0.373820 -0.332950   \n",
       "28002 -0.233463 -0.247985 -0.197495  ... -0.372982 -0.373820 -0.332950   \n",
       "28003 -0.233463 -0.247985 -0.197495  ...  0.183634 -0.373820 -0.332950   \n",
       "28004  0.097462 -0.247985 -0.197495  ... -0.372982 -0.373820 -0.332950   \n",
       "28005 -0.233463 -0.247985 -0.197495  ... -0.372982 -0.373820 -0.332950   \n",
       "\n",
       "         d_1907    d_1908    d_1909    d_1910    d_1911    d_1912    d_1913  \n",
       "0      0.210300  0.167724  0.213695  1.280742 -0.354442  0.070831  0.079421  \n",
       "1     -0.300312 -0.340941  0.213695 -0.315829 -0.354442 -0.392896 -0.384621  \n",
       "2      0.210300  0.167724  0.213695 -0.315829  0.135790  0.070831  0.079421  \n",
       "3      1.742133  0.167724 -0.340656  0.216361  1.116252  2.853194  0.543463  \n",
       "4     -0.300312  0.167724  0.213695  0.748552  0.626021  0.534558  1.471548  \n",
       "...         ...       ...       ...       ...       ...       ...       ...  \n",
       "28001 -0.300312 -0.340941 -0.340656  1.812933 -0.354442 -0.392896 -0.384621  \n",
       "28002 -0.300312 -0.340941 -0.340656 -0.315829 -0.354442 -0.392896 -0.384621  \n",
       "28003 -0.300312 -0.340941  0.768045 -0.315829  0.135790  0.534558 -0.384621  \n",
       "28004 -0.300312 -0.340941 -0.340656 -0.315829 -0.354442 -0.392896 -0.384621  \n",
       "28005 -0.300312 -0.340941  0.768045 -0.315829 -0.354442 -0.392896 -0.384621  \n",
       "\n",
       "[5650 rows x 1913 columns]"
      ]
     },
     "execution_count": 14,
     "metadata": {},
     "output_type": "execute_result"
    }
   ],
   "source": [
    "sales_data_hobbies_std"
   ]
  },
  {
   "cell_type": "code",
   "execution_count": 15,
   "metadata": {},
   "outputs": [],
   "source": [
    "x_axis_range  = np.tile(range(0,sales_data_hobbies.shape[1]),(sales_data_hobbies.shape[1],1))"
   ]
  },
  {
   "cell_type": "code",
   "execution_count": 16,
   "metadata": {},
   "outputs": [
    {
     "data": {
      "text/plain": [
       "d_1       0\n",
       "d_2       0\n",
       "d_3       0\n",
       "d_4       0\n",
       "d_5       0\n",
       "         ..\n",
       "d_1909    1\n",
       "d_1910    3\n",
       "d_1911    0\n",
       "d_1912    1\n",
       "d_1913    1\n",
       "Name: 0, Length: 1913, dtype: int64"
      ]
     },
     "execution_count": 16,
     "metadata": {},
     "output_type": "execute_result"
    }
   ],
   "source": [
    "sales_data_hobbies.iloc[0]"
   ]
  },
  {
   "cell_type": "markdown",
   "metadata": {
    "scrolled": true
   },
   "source": [
    "for i in range(0,sales_data_hobbies_std.shape[0]):\n",
    "    plt.plot(range(0,sales_data_hobbies_std.shape[1]),sales_data_hobbies_std.iloc[i])"
   ]
  },
  {
   "cell_type": "code",
   "execution_count": 17,
   "metadata": {},
   "outputs": [
    {
     "data": {
      "text/plain": [
       "[<matplotlib.lines.Line2D at 0x7fa2523d7250>]"
      ]
     },
     "execution_count": 17,
     "metadata": {},
     "output_type": "execute_result"
    },
    {
     "data": {
      "image/png": "[encoded data removed]",
      "text/plain": [
       "<Figure size 720x432 with 1 Axes>"
      ]
     },
     "metadata": {
      "needs_background": "light"
     },
     "output_type": "display_data"
    }
   ],
   "source": [
    "plt.plot(range(0,sales_data_hobbies.shape[1]),sales_data_hobbies_std.iloc[14])"
   ]
  },
  {
   "cell_type": "markdown",
   "metadata": {},
   "source": [
    "#### sales_data_hobbies_std.iloc[0]"
   ]
  },
  {
   "cell_type": "code",
   "execution_count": 18,
   "metadata": {},
   "outputs": [
    {
     "data": {
      "text/plain": [
       "<Figure size 720x432 with 0 Axes>"
      ]
     },
     "metadata": {},
     "output_type": "display_data"
    }
   ],
   "source": [
    "plt.savefig('hobbies.png')"
   ]
  },
  {
   "cell_type": "code",
   "execution_count": 19,
   "metadata": {},
   "outputs": [
    {
     "data": {
      "text/plain": [
       "id          HOBBIES_1_015_CA_1_validation\n",
       "item_id                     HOBBIES_1_015\n",
       "dept_id                         HOBBIES_1\n",
       "cat_id                            HOBBIES\n",
       "store_id                             CA_1\n",
       "                        ...              \n",
       "d_1909                                  0\n",
       "d_1910                                  0\n",
       "d_1911                                  2\n",
       "d_1912                                  5\n",
       "d_1913                                  4\n",
       "Name: 14, Length: 1919, dtype: object"
      ]
     },
     "execution_count": 19,
     "metadata": {},
     "output_type": "execute_result"
    }
   ],
   "source": [
    "sales_data.iloc[14]"
   ]
  },
  {
   "cell_type": "markdown",
   "metadata": {},
   "source": [
    "# EDA"
   ]
  },
  {
   "cell_type": "markdown",
   "metadata": {},
   "source": [
    "## Analysis for same item in different stores and states"
   ]
  },
  {
   "cell_type": "code",
   "execution_count": 20,
   "metadata": {},
   "outputs": [],
   "source": [
    "def get_prediction(sales_data,item_id,store_id):\n",
    "    prediction_columns = [col for col in sales_data.columns if 'd_' in col]\n",
    "    data = sales_data.loc[(sales_data['item_id']==item_id) & (sales_data['store_id']==store_id)]\n",
    "    return data[prediction_columns].values.flatten()"
   ]
  },
  {
   "cell_type": "code",
   "execution_count": 21,
   "metadata": {},
   "outputs": [],
   "source": [
    "HOBBIES_1_001_CA_1_validation_pred = get_prediction(sales_data,'HOBBIES_1_001','CA_1')\n",
    "HOBBIES_1_001_CA_2_validation_pred = get_prediction(sales_data,'HOBBIES_1_001','CA_2')\n",
    "HOBBIES_1_001_CA_3_validation_pred = get_prediction(sales_data,'HOBBIES_1_001','CA_3')"
   ]
  },
  {
   "cell_type": "code",
   "execution_count": 22,
   "metadata": {},
   "outputs": [],
   "source": [
    "corr = np.corrcoef(HOBBIES_1_001_CA_1_validation_pred,HOBBIES_1_001_CA_2_validation_pred)"
   ]
  },
  {
   "cell_type": "code",
   "execution_count": 23,
   "metadata": {},
   "outputs": [
    {
     "data": {
      "text/plain": [
       "array([[1.        , 0.19255759],\n",
       "       [0.19255759, 1.        ]])"
      ]
     },
     "execution_count": 23,
     "metadata": {},
     "output_type": "execute_result"
    }
   ],
   "source": [
    "corr"
   ]
  },
  {
   "cell_type": "code",
   "execution_count": null,
   "metadata": {},
   "outputs": [],
   "source": []
  },
  {
   "cell_type": "code",
   "execution_count": 24,
   "metadata": {},
   "outputs": [],
   "source": [
    "prediction_data = sales_data[prediction_columns]"
   ]
  },
  {
   "cell_type": "markdown",
   "metadata": {},
   "source": [
    "corrmat = prediction_data.corr()\n",
    "\n",
    "heat_map = sns.heatmap(corrmat)"
   ]
  },
  {
   "cell_type": "code",
   "execution_count": 25,
   "metadata": {},
   "outputs": [],
   "source": [
    "calender_data['is_event'] = calender_data[['event_name_1','event_name_2']].apply(lambda x : 0 if(pd.isna(x['event_name_1']) & pd.isna(x['event_name_2']) ) else 1,axis=1)"
   ]
  },
  {
   "cell_type": "code",
   "execution_count": 26,
   "metadata": {},
   "outputs": [
    {
     "data": {
      "text/plain": [
       "Pesach End             6\n",
       "LentStart              6\n",
       "Mother's day           6\n",
       "ValentinesDay          6\n",
       "Ramadan starts         6\n",
       "StPatricksDay          6\n",
       "NBAFinalsEnd           6\n",
       "SuperBowl              6\n",
       "Purim End              6\n",
       "NBAFinalsStart         6\n",
       "PresidentsDay          6\n",
       "LentWeek2              6\n",
       "MemorialDay            6\n",
       "Eid al-Fitr            5\n",
       "Christmas              5\n",
       "EidAlAdha              5\n",
       "MartinLutherKingDay    5\n",
       "OrthodoxEaster         5\n",
       "VeteransDay            5\n",
       "Thanksgiving           5\n",
       "LaborDay               5\n",
       "ColumbusDay            5\n",
       "OrthodoxChristmas      5\n",
       "Cinco De Mayo          5\n",
       "Chanukah End           5\n",
       "IndependenceDay        5\n",
       "NewYear                5\n",
       "Easter                 5\n",
       "Halloween              5\n",
       "Father's day           4\n",
       "Name: event_name_1, dtype: int64"
      ]
     },
     "execution_count": 26,
     "metadata": {},
     "output_type": "execute_result"
    }
   ],
   "source": [
    "calender_data.event_name_1.value_counts()"
   ]
  },
  {
   "cell_type": "code",
   "execution_count": 27,
   "metadata": {},
   "outputs": [
    {
     "data": {
      "text/plain": [
       "56.21507647565369"
      ]
     },
     "execution_count": 27,
     "metadata": {},
     "output_type": "execute_result"
    }
   ],
   "source": [
    "p1 = prediction_data.iloc[0,:]\n",
    "p2 = prediction_data.iloc[2,:]\n",
    "\n",
    "p1 = (p1-p1.mean())/p1.std()\n",
    "p2 = (p2-p2.mean())/p2.std()\n",
    "\n",
    "np.linalg.norm(p1-p2)"
   ]
  },
  {
   "cell_type": "code",
   "execution_count": 28,
   "metadata": {},
   "outputs": [],
   "source": [
    "eucledian_matrix = np.zeros([len(prediction_data),len(prediction_data)])"
   ]
  },
  {
   "cell_type": "markdown",
   "metadata": {},
   "source": [
    "for i in range(0,len(prediction_data)-1):\n",
    "    for j in range(i+1,len(prediction_data)):\n",
    "        p1 = prediction_data.iloc[i,:]\n",
    "        p2 = prediction_data.iloc[j,:]\n",
    "        p1 = (p1-p1.mean())/p1.std()\n",
    "        p2 = (p2-p2.mean())/p2.std()\n",
    "        eucledian_matrix[i][j] = np.linalg.norm(p1-p2)\n",
    "    "
   ]
  },
  {
   "cell_type": "markdown",
   "metadata": {},
   "source": [
    "eucledian_matrix.dump(dir_name/\"eucledian_matrix.dat\")"
   ]
  },
  {
   "cell_type": "markdown",
   "metadata": {},
   "source": [
    "eucledian_matrix = np.zeros([len(prediction_data)])\n",
    "for j in range(0,len(prediction_data)):\n",
    "        p1 = prediction_data.iloc[0,:]\n",
    "        p2 = prediction_data.iloc[j,:]\n",
    "        p1 = (p1-p1.mean())/p1.std()\n",
    "        p2 = (p2-p2.mean())/p2.std()\n",
    "        eucledian_matrix[j] = np.linalg.norm(p1-p2)\n",
    "\n",
    "\n",
    "\n",
    "eucledian_matrix\n",
    "\n",
    "eucledian_matrix[0] = 1000\n",
    "\n",
    "np.argmin(eucledian_matrix,axis=0)"
   ]
  },
  {
   "cell_type": "code",
   "execution_count": 29,
   "metadata": {},
   "outputs": [
    {
     "data": {
      "text/html": [
       "<div>\n",
       "<style scoped>\n",
       "    .dataframe tbody tr th:only-of-type {\n",
       "        vertical-align: middle;\n",
       "    }\n",
       "\n",
       "    .dataframe tbody tr th {\n",
       "        vertical-align: top;\n",
       "    }\n",
       "\n",
       "    .dataframe thead th {\n",
       "        text-align: right;\n",
       "    }\n",
       "</style>\n",
       "<table border=\"1\" class=\"dataframe\">\n",
       "  <thead>\n",
       "    <tr style=\"text-align: right;\">\n",
       "      <th></th>\n",
       "      <th>d_1</th>\n",
       "      <th>d_2</th>\n",
       "      <th>d_3</th>\n",
       "      <th>d_4</th>\n",
       "      <th>d_5</th>\n",
       "      <th>d_6</th>\n",
       "      <th>d_7</th>\n",
       "      <th>d_8</th>\n",
       "      <th>d_9</th>\n",
       "      <th>d_10</th>\n",
       "      <th>...</th>\n",
       "      <th>d_1904</th>\n",
       "      <th>d_1905</th>\n",
       "      <th>d_1906</th>\n",
       "      <th>d_1907</th>\n",
       "      <th>d_1908</th>\n",
       "      <th>d_1909</th>\n",
       "      <th>d_1910</th>\n",
       "      <th>d_1911</th>\n",
       "      <th>d_1912</th>\n",
       "      <th>d_1913</th>\n",
       "    </tr>\n",
       "  </thead>\n",
       "  <tbody>\n",
       "    <tr>\n",
       "      <td>0</td>\n",
       "      <td>0</td>\n",
       "      <td>0</td>\n",
       "      <td>0</td>\n",
       "      <td>0</td>\n",
       "      <td>0</td>\n",
       "      <td>0</td>\n",
       "      <td>0</td>\n",
       "      <td>0</td>\n",
       "      <td>0</td>\n",
       "      <td>0</td>\n",
       "      <td>...</td>\n",
       "      <td>1</td>\n",
       "      <td>3</td>\n",
       "      <td>0</td>\n",
       "      <td>1</td>\n",
       "      <td>1</td>\n",
       "      <td>1</td>\n",
       "      <td>3</td>\n",
       "      <td>0</td>\n",
       "      <td>1</td>\n",
       "      <td>1</td>\n",
       "    </tr>\n",
       "    <tr>\n",
       "      <td>1</td>\n",
       "      <td>0</td>\n",
       "      <td>0</td>\n",
       "      <td>0</td>\n",
       "      <td>0</td>\n",
       "      <td>0</td>\n",
       "      <td>0</td>\n",
       "      <td>0</td>\n",
       "      <td>0</td>\n",
       "      <td>0</td>\n",
       "      <td>0</td>\n",
       "      <td>...</td>\n",
       "      <td>0</td>\n",
       "      <td>0</td>\n",
       "      <td>0</td>\n",
       "      <td>0</td>\n",
       "      <td>0</td>\n",
       "      <td>1</td>\n",
       "      <td>0</td>\n",
       "      <td>0</td>\n",
       "      <td>0</td>\n",
       "      <td>0</td>\n",
       "    </tr>\n",
       "    <tr>\n",
       "      <td>2</td>\n",
       "      <td>0</td>\n",
       "      <td>0</td>\n",
       "      <td>0</td>\n",
       "      <td>0</td>\n",
       "      <td>0</td>\n",
       "      <td>0</td>\n",
       "      <td>0</td>\n",
       "      <td>0</td>\n",
       "      <td>0</td>\n",
       "      <td>0</td>\n",
       "      <td>...</td>\n",
       "      <td>2</td>\n",
       "      <td>1</td>\n",
       "      <td>2</td>\n",
       "      <td>1</td>\n",
       "      <td>1</td>\n",
       "      <td>1</td>\n",
       "      <td>0</td>\n",
       "      <td>1</td>\n",
       "      <td>1</td>\n",
       "      <td>1</td>\n",
       "    </tr>\n",
       "    <tr>\n",
       "      <td>3</td>\n",
       "      <td>0</td>\n",
       "      <td>0</td>\n",
       "      <td>0</td>\n",
       "      <td>0</td>\n",
       "      <td>0</td>\n",
       "      <td>0</td>\n",
       "      <td>0</td>\n",
       "      <td>0</td>\n",
       "      <td>0</td>\n",
       "      <td>0</td>\n",
       "      <td>...</td>\n",
       "      <td>1</td>\n",
       "      <td>0</td>\n",
       "      <td>5</td>\n",
       "      <td>4</td>\n",
       "      <td>1</td>\n",
       "      <td>0</td>\n",
       "      <td>1</td>\n",
       "      <td>3</td>\n",
       "      <td>7</td>\n",
       "      <td>2</td>\n",
       "    </tr>\n",
       "    <tr>\n",
       "      <td>4</td>\n",
       "      <td>0</td>\n",
       "      <td>0</td>\n",
       "      <td>0</td>\n",
       "      <td>0</td>\n",
       "      <td>0</td>\n",
       "      <td>0</td>\n",
       "      <td>0</td>\n",
       "      <td>0</td>\n",
       "      <td>0</td>\n",
       "      <td>0</td>\n",
       "      <td>...</td>\n",
       "      <td>2</td>\n",
       "      <td>1</td>\n",
       "      <td>1</td>\n",
       "      <td>0</td>\n",
       "      <td>1</td>\n",
       "      <td>1</td>\n",
       "      <td>2</td>\n",
       "      <td>2</td>\n",
       "      <td>2</td>\n",
       "      <td>4</td>\n",
       "    </tr>\n",
       "    <tr>\n",
       "      <td>...</td>\n",
       "      <td>...</td>\n",
       "      <td>...</td>\n",
       "      <td>...</td>\n",
       "      <td>...</td>\n",
       "      <td>...</td>\n",
       "      <td>...</td>\n",
       "      <td>...</td>\n",
       "      <td>...</td>\n",
       "      <td>...</td>\n",
       "      <td>...</td>\n",
       "      <td>...</td>\n",
       "      <td>...</td>\n",
       "      <td>...</td>\n",
       "      <td>...</td>\n",
       "      <td>...</td>\n",
       "      <td>...</td>\n",
       "      <td>...</td>\n",
       "      <td>...</td>\n",
       "      <td>...</td>\n",
       "      <td>...</td>\n",
       "      <td>...</td>\n",
       "    </tr>\n",
       "    <tr>\n",
       "      <td>30485</td>\n",
       "      <td>0</td>\n",
       "      <td>0</td>\n",
       "      <td>2</td>\n",
       "      <td>2</td>\n",
       "      <td>0</td>\n",
       "      <td>3</td>\n",
       "      <td>1</td>\n",
       "      <td>4</td>\n",
       "      <td>1</td>\n",
       "      <td>0</td>\n",
       "      <td>...</td>\n",
       "      <td>2</td>\n",
       "      <td>0</td>\n",
       "      <td>0</td>\n",
       "      <td>0</td>\n",
       "      <td>0</td>\n",
       "      <td>0</td>\n",
       "      <td>1</td>\n",
       "      <td>0</td>\n",
       "      <td>0</td>\n",
       "      <td>1</td>\n",
       "    </tr>\n",
       "    <tr>\n",
       "      <td>30486</td>\n",
       "      <td>0</td>\n",
       "      <td>0</td>\n",
       "      <td>0</td>\n",
       "      <td>0</td>\n",
       "      <td>0</td>\n",
       "      <td>5</td>\n",
       "      <td>0</td>\n",
       "      <td>1</td>\n",
       "      <td>1</td>\n",
       "      <td>3</td>\n",
       "      <td>...</td>\n",
       "      <td>0</td>\n",
       "      <td>0</td>\n",
       "      <td>0</td>\n",
       "      <td>0</td>\n",
       "      <td>0</td>\n",
       "      <td>0</td>\n",
       "      <td>0</td>\n",
       "      <td>0</td>\n",
       "      <td>1</td>\n",
       "      <td>0</td>\n",
       "    </tr>\n",
       "    <tr>\n",
       "      <td>30487</td>\n",
       "      <td>0</td>\n",
       "      <td>6</td>\n",
       "      <td>0</td>\n",
       "      <td>2</td>\n",
       "      <td>2</td>\n",
       "      <td>4</td>\n",
       "      <td>1</td>\n",
       "      <td>8</td>\n",
       "      <td>5</td>\n",
       "      <td>2</td>\n",
       "      <td>...</td>\n",
       "      <td>2</td>\n",
       "      <td>1</td>\n",
       "      <td>0</td>\n",
       "      <td>2</td>\n",
       "      <td>0</td>\n",
       "      <td>1</td>\n",
       "      <td>0</td>\n",
       "      <td>0</td>\n",
       "      <td>1</td>\n",
       "      <td>0</td>\n",
       "    </tr>\n",
       "    <tr>\n",
       "      <td>30488</td>\n",
       "      <td>0</td>\n",
       "      <td>0</td>\n",
       "      <td>0</td>\n",
       "      <td>0</td>\n",
       "      <td>0</td>\n",
       "      <td>0</td>\n",
       "      <td>0</td>\n",
       "      <td>0</td>\n",
       "      <td>0</td>\n",
       "      <td>0</td>\n",
       "      <td>...</td>\n",
       "      <td>0</td>\n",
       "      <td>0</td>\n",
       "      <td>1</td>\n",
       "      <td>0</td>\n",
       "      <td>0</td>\n",
       "      <td>1</td>\n",
       "      <td>0</td>\n",
       "      <td>3</td>\n",
       "      <td>1</td>\n",
       "      <td>3</td>\n",
       "    </tr>\n",
       "    <tr>\n",
       "      <td>30489</td>\n",
       "      <td>0</td>\n",
       "      <td>0</td>\n",
       "      <td>0</td>\n",
       "      <td>0</td>\n",
       "      <td>0</td>\n",
       "      <td>0</td>\n",
       "      <td>0</td>\n",
       "      <td>0</td>\n",
       "      <td>0</td>\n",
       "      <td>0</td>\n",
       "      <td>...</td>\n",
       "      <td>0</td>\n",
       "      <td>0</td>\n",
       "      <td>0</td>\n",
       "      <td>0</td>\n",
       "      <td>0</td>\n",
       "      <td>0</td>\n",
       "      <td>0</td>\n",
       "      <td>0</td>\n",
       "      <td>0</td>\n",
       "      <td>0</td>\n",
       "    </tr>\n",
       "  </tbody>\n",
       "</table>\n",
       "<p>30490 rows × 1913 columns</p>\n",
       "</div>"
      ],
      "text/plain": [
       "       d_1  d_2  d_3  d_4  d_5  d_6  d_7  d_8  d_9  d_10  ...  d_1904  d_1905  \\\n",
       "0        0    0    0    0    0    0    0    0    0     0  ...       1       3   \n",
       "1        0    0    0    0    0    0    0    0    0     0  ...       0       0   \n",
       "2        0    0    0    0    0    0    0    0    0     0  ...       2       1   \n",
       "3        0    0    0    0    0    0    0    0    0     0  ...       1       0   \n",
       "4        0    0    0    0    0    0    0    0    0     0  ...       2       1   \n",
       "...    ...  ...  ...  ...  ...  ...  ...  ...  ...   ...  ...     ...     ...   \n",
       "30485    0    0    2    2    0    3    1    4    1     0  ...       2       0   \n",
       "30486    0    0    0    0    0    5    0    1    1     3  ...       0       0   \n",
       "30487    0    6    0    2    2    4    1    8    5     2  ...       2       1   \n",
       "30488    0    0    0    0    0    0    0    0    0     0  ...       0       0   \n",
       "30489    0    0    0    0    0    0    0    0    0     0  ...       0       0   \n",
       "\n",
       "       d_1906  d_1907  d_1908  d_1909  d_1910  d_1911  d_1912  d_1913  \n",
       "0           0       1       1       1       3       0       1       1  \n",
       "1           0       0       0       1       0       0       0       0  \n",
       "2           2       1       1       1       0       1       1       1  \n",
       "3           5       4       1       0       1       3       7       2  \n",
       "4           1       0       1       1       2       2       2       4  \n",
       "...       ...     ...     ...     ...     ...     ...     ...     ...  \n",
       "30485       0       0       0       0       1       0       0       1  \n",
       "30486       0       0       0       0       0       0       1       0  \n",
       "30487       0       2       0       1       0       0       1       0  \n",
       "30488       1       0       0       1       0       3       1       3  \n",
       "30489       0       0       0       0       0       0       0       0  \n",
       "\n",
       "[30490 rows x 1913 columns]"
      ]
     },
     "execution_count": 29,
     "metadata": {},
     "output_type": "execute_result"
    }
   ],
   "source": [
    "prediction_data"
   ]
  },
  {
   "cell_type": "code",
   "execution_count": 30,
   "metadata": {
    "scrolled": true
   },
   "outputs": [
    {
     "data": {
      "text/plain": [
       "56.21507647565369"
      ]
     },
     "execution_count": 30,
     "metadata": {},
     "output_type": "execute_result"
    }
   ],
   "source": [
    "np.sqrt(np.sum(np.square(p1.values - p2.values)))"
   ]
  },
  {
   "cell_type": "markdown",
   "metadata": {},
   "source": [
    "## Pin Ball Loss Function"
   ]
  },
  {
   "cell_type": "code",
   "execution_count": 31,
   "metadata": {},
   "outputs": [],
   "source": [
    "def SPL(u,h,n,Q,y):\n",
    "    denominator = 0\n",
    "    for t in range(1,n):\n",
    "        denominator = denominator + abs(y[t]-y[t-1])\n",
    "    denominator = denominator/(n-1)\n",
    "    \n",
    "    numerator = 0 \n",
    "    # Check the indices start and end\n",
    "    for t in range(n+1,n+h):\n",
    "        i1 = 1 if (Q[t] <= y[t]) else 0\n",
    "        i2 = 1 if (Q[t] > y[t]) else 0\n",
    "        term1 = (y[t] - Q[t])*u\n",
    "        term2 = (Q[t] - y[t])*(1 - u)\n",
    "        numerator = numerator + term1*i1 + term2*i2\n",
    "    \n",
    "    loss = numerator/(h*denominator)\n",
    "    return loss\n",
    "        \n",
    "    "
   ]
  },
  {
   "cell_type": "markdown",
   "metadata": {},
   "source": [
    "# ARIMA"
   ]
  },
  {
   "cell_type": "code",
   "execution_count": 32,
   "metadata": {},
   "outputs": [],
   "source": [
    "series = prediction_data.iloc[14,:]\n",
    "p1_rolling_mean = series.rolling(window=20).mean()"
   ]
  },
  {
   "cell_type": "code",
   "execution_count": 33,
   "metadata": {
    "scrolled": true
   },
   "outputs": [
    {
     "data": {
      "image/png": "[encoded data removed]",
      "text/plain": [
       "<Figure size 720x432 with 1 Axes>"
      ]
     },
     "execution_count": 33,
     "metadata": {},
     "output_type": "execute_result"
    },
    {
     "data": {
      "image/png": "[encoded data removed]",
      "text/plain": [
       "<Figure size 720x432 with 1 Axes>"
      ]
     },
     "metadata": {
      "needs_background": "light"
     },
     "output_type": "display_data"
    }
   ],
   "source": [
    "plot_acf(series)"
   ]
  },
  {
   "cell_type": "code",
   "execution_count": 34,
   "metadata": {},
   "outputs": [
    {
     "name": "stderr",
     "output_type": "stream",
     "text": [
      "/home/aniket/anaconda3/lib/python3.7/site-packages/statsmodels/tsa/stattools.py:541: FutureWarning: fft=True will become the default in a future version of statsmodels. To suppress this warning, explicitly set fft=False.\n",
      "  warnings.warn(msg, FutureWarning)\n"
     ]
    }
   ],
   "source": [
    "acf_val = acf(series)"
   ]
  },
  {
   "cell_type": "code",
   "execution_count": 35,
   "metadata": {},
   "outputs": [],
   "source": [
    "acf_cutoff = 0.115"
   ]
  },
  {
   "cell_type": "code",
   "execution_count": 36,
   "metadata": {},
   "outputs": [],
   "source": [
    "T = np.where(acf_val >= acf_cutoff)"
   ]
  },
  {
   "cell_type": "code",
   "execution_count": 37,
   "metadata": {},
   "outputs": [],
   "source": [
    "T = np.delete(T,0)"
   ]
  },
  {
   "cell_type": "code",
   "execution_count": 38,
   "metadata": {},
   "outputs": [],
   "source": [
    "range_T = np.amax(T)"
   ]
  },
  {
   "cell_type": "code",
   "execution_count": 39,
   "metadata": {},
   "outputs": [],
   "source": [
    "data_acf = []\n",
    "label_acf = []"
   ]
  },
  {
   "cell_type": "code",
   "execution_count": 58,
   "metadata": {},
   "outputs": [],
   "source": [
    "for i in range(range_T,series.shape[0]):\n",
    "    temp = []\n",
    "    for t in T : \n",
    "        temp.append(series[i - t])\n",
    "    temp.append(series[i] - series[i-1])\n",
    "    data_acf.append(temp)\n",
    "    label_acf.append(series[i])"
   ]
  },
  {
   "cell_type": "code",
   "execution_count": 59,
   "metadata": {
    "scrolled": true
   },
   "outputs": [
    {
     "data": {
      "text/plain": [
       "5655"
      ]
     },
     "execution_count": 59,
     "metadata": {},
     "output_type": "execute_result"
    }
   ],
   "source": [
    "len(data_acf)"
   ]
  },
  {
   "cell_type": "code",
   "execution_count": 60,
   "metadata": {},
   "outputs": [],
   "source": [
    "X_train = data_acf[0:1500]\n",
    "X_test = data_acf[1500:1877]\n",
    "y_train = label_acf[0:1500]\n",
    "y_test = label_acf[1500:1877]"
   ]
  },
  {
   "cell_type": "code",
   "execution_count": 65,
   "metadata": {
    "scrolled": true
   },
   "outputs": [],
   "source": [
    "#clf = RandomForestClassifier(max_depth=5, random_state=0)\n",
    "#clf.fit(X_train,y_train)\n",
    "#y_pred = clf.predict(X_test)\n",
    "\n",
    "\n",
    "reg = LinearRegression().fit(X_train,y_train)\n",
    "y_pred = reg.predict(X_test)"
   ]
  },
  {
   "cell_type": "code",
   "execution_count": 66,
   "metadata": {},
   "outputs": [],
   "source": [
    "train_series = series[0:1500]\n",
    "test_series = series[1500:1800]\n",
    "history = [x for x in train_series]\n",
    "predictions = list()"
   ]
  },
  {
   "cell_type": "code",
   "execution_count": 67,
   "metadata": {},
   "outputs": [],
   "source": [
    "for t in range(len(test_series)):\n",
    "    model = ARIMA(history, order=(5,1,0))\n",
    "    model_fit = model.fit(disp=0)\n",
    "    output = model_fit.forecast()\n",
    "    yhat = output[0]\n",
    "    predictions.append(yhat)\n",
    "    obs = test_series[t]\n",
    "    history.append(obs)\n",
    "    #print('predicted=%f, expected=%f' % (yhat, obs))"
   ]
  },
  {
   "cell_type": "code",
   "execution_count": 68,
   "metadata": {},
   "outputs": [],
   "source": [
    "model_without_loop = ARIMA(history, order=(5,1,0))\n",
    "model_without_loop_fit = model_without_loop.fit(disp=0)\n",
    "\n",
    "output = model_without_loop_fit.predict(start=1500, end=1800)"
   ]
  },
  {
   "cell_type": "code",
   "execution_count": 69,
   "metadata": {},
   "outputs": [],
   "source": [
    "# define model configuration\n",
    "my_order = (5,1,0)\n",
    "my_seasonal_order = (5,1,0,12)\n",
    "# define model\n",
    "model = SARIMAX(history, order=my_order, seasonal_order=my_seasonal_order)\n",
    "model_fit = model.fit()\n",
    "output_sarima = model_fit.predict(start=1500, end=1800)"
   ]
  },
  {
   "cell_type": "code",
   "execution_count": 70,
   "metadata": {
    "scrolled": true
   },
   "outputs": [
    {
     "data": {
      "text/plain": [
       "[<matplotlib.lines.Line2D at 0x7fa24e5c7410>]"
      ]
     },
     "execution_count": 70,
     "metadata": {},
     "output_type": "execute_result"
    },
    {
     "data": {
      "image/png": "[encoded data removed]",
      "text/plain": [
       "<Figure size 720x432 with 1 Axes>"
      ]
     },
     "metadata": {
      "needs_background": "light"
     },
     "output_type": "display_data"
    }
   ],
   "source": [
    "pyplot.plot(test_series)\n",
    "pyplot.plot(predictions, color='red')\n",
    "#pyplot.plot(output, color='green')\n",
    "#pyplot.plot(output_sarima, color='orange')\n",
    "pyplot.plot(y_pred, color='yellow')"
   ]
  },
  {
   "cell_type": "code",
   "execution_count": 75,
   "metadata": {
    "scrolled": true
   },
   "outputs": [
    {
     "data": {
      "text/plain": [
       "([<matplotlib.axis.XTick at 0x7f033426cb90>,\n",
       "  <matplotlib.axis.XTick at 0x7f0336e7c0d0>,\n",
       "  <matplotlib.axis.XTick at 0x7f0336e7cd50>,\n",
       "  <matplotlib.axis.XTick at 0x7f0336800ed0>,\n",
       "  <matplotlib.axis.XTick at 0x7f033680c590>,\n",
       "  <matplotlib.axis.XTick at 0x7f033680cb10>,\n",
       "  <matplotlib.axis.XTick at 0x7f03367fa050>,\n",
       "  <matplotlib.axis.XTick at 0x7f03367fa690>,\n",
       "  <matplotlib.axis.XTick at 0x7f03367fac10>,\n",
       "  <matplotlib.axis.XTick at 0x7f03367faa10>],\n",
       " <a list of 10 Text xticklabel objects>)"
      ]
     },
     "execution_count": 75,
     "metadata": {},
     "output_type": "execute_result"
    },
    {
     "data": {
      "image/png": "[encoded data removed]",
      "text/plain": [
       "<Figure size 720x432 with 1 Axes>"
      ]
     },
     "metadata": {
      "needs_background": "light"
     },
     "output_type": "display_data"
    }
   ],
   "source": [
    "#plt.plot(range(800,1913),HOBBIES_1_001_CA_1_validation_pred[800 :])\n",
    "#plt.plot(range(800,1913),HOBBIES_1_001_CA_2_validation_pred[800 :])\n",
    "plt.plot(range(1000 ,1200),get_prediction(sales_data,'HOBBIES_1_015','CA_1')[1000 :1200])\n",
    "plt.plot(range(1000 ,1200),p1_rolling_mean[1000 :1200])\n",
    "#plt.plot(range(1000 ,1400),calender_data['is_event'][1000 : 1400])\n",
    "plt.xticks(np.arange(1000 ,1200,20))"
   ]
  },
  {
   "cell_type": "code",
   "execution_count": 76,
   "metadata": {
    "scrolled": true
   },
   "outputs": [
    {
     "data": {
      "text/plain": [
       "d_1      -0.457706\n",
       "d_2      -0.457706\n",
       "d_3      -0.457706\n",
       "d_4      -0.457706\n",
       "d_5      -0.457706\n",
       "            ...   \n",
       "d_1909    1.001614\n",
       "d_1910    3.920256\n",
       "d_1911   -0.457706\n",
       "d_1912    1.001614\n",
       "d_1913    1.001614\n",
       "Name: 0, Length: 1913, dtype: float64"
      ]
     },
     "execution_count": 76,
     "metadata": {},
     "output_type": "execute_result"
    }
   ],
   "source": [
    "p1.transpose()"
   ]
  },
  {
   "cell_type": "markdown",
   "metadata": {},
   "source": [
    "# NN as Linear Regression"
   ]
  },
  {
   "cell_type": "code",
   "execution_count": 113,
   "metadata": {},
   "outputs": [],
   "source": [
    "X_train = np.asarray(X_train)"
   ]
  },
  {
   "cell_type": "code",
   "execution_count": 99,
   "metadata": {},
   "outputs": [],
   "source": [
    "data_shape = len(X_train[0])"
   ]
  },
  {
   "cell_type": "code",
   "execution_count": 100,
   "metadata": {},
   "outputs": [],
   "source": [
    "def reg_model(data_shape):\n",
    "    model = keras.Sequential()\n",
    "    model.add(keras.layers.Dense(1, input_dim=data_shape, activation='linear'))\n",
    "    return model"
   ]
  },
  {
   "cell_type": "code",
   "execution_count": 103,
   "metadata": {},
   "outputs": [],
   "source": [
    "def tilted_loss(q,y,f):\n",
    "    e = (y-f)\n",
    "    return K.mean(K.maximum(q*e, (q-1)*e), axis=-1)"
   ]
  },
  {
   "cell_type": "code",
   "execution_count": 118,
   "metadata": {},
   "outputs": [
    {
     "data": {
      "image/png": "[encoded data removed]",
      "text/plain": [
       "<Figure size 720x432 with 1 Axes>"
      ]
     },
     "metadata": {
      "needs_background": "light"
     },
     "output_type": "display_data"
    }
   ],
   "source": [
    "qs = [0.1, 0.5, 0.9]\n",
    "plt.plot(y_test)\n",
    "for q in qs:\n",
    "    model = reg_model(data_shape)\n",
    "    model.compile(loss=lambda y,f: tilted_loss(q,y,f),  optimizer=keras.optimizers.Adam(0.001))\n",
    "    model.fit(np.asarray(X_train),np.asarray(y_train), epochs=5, batch_size=1, verbose=0)\n",
    "    \n",
    "    # Predict the quantile\n",
    "    y_pred = model.predict(np.asarray(X_test))\n",
    "    plt.plot(y_pred, label=q) # plot out this quantile\n",
    "\n",
    "plt.legend()    \n",
    "plt.savefig('quantile.png')\n",
    "plt.show()"
   ]
  },
  {
   "cell_type": "code",
   "execution_count": 102,
   "metadata": {},
   "outputs": [],
   "source": []
  },
  {
   "cell_type": "code",
   "execution_count": null,
   "metadata": {},
   "outputs": [],
   "source": []
  },
  {
   "cell_type": "code",
   "execution_count": null,
   "metadata": {},
   "outputs": [],
   "source": []
  },
  {
   "cell_type": "markdown",
   "metadata": {},
   "source": [
    "# SVM"
   ]
  },
  {
   "cell_type": "code",
   "execution_count": 94,
   "metadata": {},
   "outputs": [],
   "source": [
    "order = 5"
   ]
  },
  {
   "cell_type": "code",
   "execution_count": 116,
   "metadata": {},
   "outputs": [],
   "source": [
    "x_train_svm = []\n",
    "y_train_svm = []\n",
    "x_test_svm = []\n",
    "y_test_svm = []\n",
    "diff_train_svm = []\n",
    "diff_test_svm = []\n",
    "series_x = []\n",
    "series_y = []\n",
    "diff_svm = []\n",
    "diff_svm_agg = []\n"
   ]
  },
  {
   "cell_type": "code",
   "execution_count": 119,
   "metadata": {},
   "outputs": [],
   "source": [
    "for i in range(0,series.shape[0]-order):\n",
    "        series_x.append(series[i:i+order].values)\n",
    "        series_y.append(series.iloc[i+order])\n",
    "        if i != 0 : \n",
    "            diff_svm.append(series[i] - series[i-1])\n",
    "    \n",
    "   # print (\"i: \",i,\" x: \",series[i:i+order].values,\" y: \",series.iloc[i+order])\n",
    "    "
   ]
  },
  {
   "cell_type": "code",
   "execution_count": 122,
   "metadata": {},
   "outputs": [],
   "source": [
    "for i in range(0,len(diff_svm)-order):\n",
    "        diff_svm_agg.append(diff_svm[i:i+order])\n",
    "\n"
   ]
  },
  {
   "cell_type": "code",
   "execution_count": 123,
   "metadata": {},
   "outputs": [],
   "source": [
    "diff_train_svm = diff_svm_agg[0:1500]\n",
    "diff_test_svm = diff_svm_agg[1500:1800]\n",
    "y_train_svm = series_y[0:1500]\n",
    "y_test_svm = series_y[1500:1800]\n",
    "x_train_svm = series_x[0:1500]\n",
    "x_test_svm = series_x[1500:1800]\n"
   ]
  },
  {
   "cell_type": "code",
   "execution_count": 124,
   "metadata": {},
   "outputs": [],
   "source": [
    "def inverse_difference(i):\n",
    "    return series_x[i-1]+diff_svm[i]"
   ]
  },
  {
   "cell_type": "code",
   "execution_count": 83,
   "metadata": {},
   "outputs": [
    {
     "ename": "NameError",
     "evalue": "name 'diff_train_svm' is not defined",
     "output_type": "error",
     "traceback": [
      "\u001b[0;31m---------------------------------------------------------------------------\u001b[0m",
      "\u001b[0;31mNameError\u001b[0m                                 Traceback (most recent call last)",
      "\u001b[0;32m<ipython-input-83-2c0e8bb92b32>\u001b[0m in \u001b[0;36m<module>\u001b[0;34m\u001b[0m\n\u001b[1;32m      1\u001b[0m \u001b[0;31m#clf = SVC(gamma='auto')\u001b[0m\u001b[0;34m\u001b[0m\u001b[0;34m\u001b[0m\u001b[0;34m\u001b[0m\u001b[0m\n\u001b[1;32m      2\u001b[0m \u001b[0mclf\u001b[0m \u001b[0;34m=\u001b[0m \u001b[0mRandomForestClassifier\u001b[0m\u001b[0;34m(\u001b[0m\u001b[0mmax_depth\u001b[0m\u001b[0;34m=\u001b[0m\u001b[0;36m5\u001b[0m\u001b[0;34m,\u001b[0m \u001b[0mrandom_state\u001b[0m\u001b[0;34m=\u001b[0m\u001b[0;36m0\u001b[0m\u001b[0;34m)\u001b[0m\u001b[0;34m\u001b[0m\u001b[0;34m\u001b[0m\u001b[0m\n\u001b[0;32m----> 3\u001b[0;31m \u001b[0mclf\u001b[0m\u001b[0;34m.\u001b[0m\u001b[0mfit\u001b[0m\u001b[0;34m(\u001b[0m\u001b[0mdiff_train_svm\u001b[0m\u001b[0;34m,\u001b[0m\u001b[0my_train_svm\u001b[0m\u001b[0;34m)\u001b[0m\u001b[0;34m\u001b[0m\u001b[0;34m\u001b[0m\u001b[0m\n\u001b[0m\u001b[1;32m      4\u001b[0m \u001b[0my_pred\u001b[0m\u001b[0;34m=\u001b[0m \u001b[0mclf\u001b[0m\u001b[0;34m.\u001b[0m\u001b[0mpredict\u001b[0m\u001b[0;34m(\u001b[0m\u001b[0mdiff_test_svm\u001b[0m\u001b[0;34m)\u001b[0m\u001b[0;34m\u001b[0m\u001b[0;34m\u001b[0m\u001b[0m\n",
      "\u001b[0;31mNameError\u001b[0m: name 'diff_train_svm' is not defined"
     ]
    }
   ],
   "source": [
    "clf = SVC(gamma='auto')\n",
    "clf.fit(diff_train_svm,y_train_svm)\n",
    "y_pred= clf.predict(diff_test_svm)"
   ]
  },
  {
   "cell_type": "code",
   "execution_count": 130,
   "metadata": {},
   "outputs": [
    {
     "data": {
      "text/plain": [
       "[<matplotlib.lines.Line2D at 0x7f02f0da4d50>]"
      ]
     },
     "execution_count": 130,
     "metadata": {},
     "output_type": "execute_result"
    },
    {
     "data": {
      "image/png": "[encoded data removed]",
      "text/plain": [
       "<Figure size 720x432 with 1 Axes>"
      ]
     },
     "metadata": {
      "needs_background": "light"
     },
     "output_type": "display_data"
    }
   ],
   "source": [
    "plt.plot(y_pred,color='red')\n",
    "plt.plot(y_test_svm)"
   ]
  },
  {
   "cell_type": "code",
   "execution_count": null,
   "metadata": {},
   "outputs": [],
   "source": []
  },
  {
   "cell_type": "markdown",
   "metadata": {},
   "source": [
    "# Data Preparation"
   ]
  },
  {
   "cell_type": "code",
   "execution_count": 33,
   "metadata": {},
   "outputs": [],
   "source": [
    "history_size=3"
   ]
  },
  {
   "cell_type": "code",
   "execution_count": 34,
   "metadata": {},
   "outputs": [],
   "source": [
    "categorical_features = ['event_name_1']\n",
    "categorical_transformer = Pipeline(steps=[\n",
    "       (\"Imputer2\", SimpleImputer(missing_values=np.nan, strategy='constant')),\n",
    "                        (\"Encoding\", OneHotEncoder())\n",
    "                        ])\n",
    "\n",
    "preprocessor = ColumnTransformer(\n",
    "    transformers=[\n",
    "        ('cat', categorical_transformer, categorical_features),\n",
    "    ])"
   ]
  },
  {
   "cell_type": "code",
   "execution_count": 35,
   "metadata": {},
   "outputs": [],
   "source": [
    "calender_data_transform = preprocessor.fit_transform(calender_data[categorical_features])"
   ]
  },
  {
   "cell_type": "code",
   "execution_count": 36,
   "metadata": {},
   "outputs": [],
   "source": [
    "calender_data_transform = calender_data_transform.todense()"
   ]
  },
  {
   "cell_type": "code",
   "execution_count": 37,
   "metadata": {},
   "outputs": [
    {
     "data": {
      "text/plain": [
       "matrix([[0., 0., 0., 0., 0., 0., 0., 0., 0., 0., 0., 0., 0., 0., 0., 0.,\n",
       "         0., 0., 0., 0., 0., 0., 0., 0., 0., 0., 0., 0., 0., 0., 1.]])"
      ]
     },
     "execution_count": 37,
     "metadata": {},
     "output_type": "execute_result"
    }
   ],
   "source": [
    "calender_data_transform[1]"
   ]
  },
  {
   "cell_type": "code",
   "execution_count": 38,
   "metadata": {},
   "outputs": [],
   "source": [
    "event_one_hot_shape = calender_data_transform.shape[1]"
   ]
  },
  {
   "cell_type": "code",
   "execution_count": 39,
   "metadata": {},
   "outputs": [],
   "source": [
    "shape = (history_size+2,1)"
   ]
  },
  {
   "cell_type": "code",
   "execution_count": 40,
   "metadata": {},
   "outputs": [],
   "source": [
    "current_price = sell_prices_data[(sell_prices_data['wm_yr_wk']==11500) & (sell_prices_data['item_id']=='HOBBIES_1_015') & (sell_prices_data['store_id']=='CA_1')].sell_price"
   ]
  },
  {
   "cell_type": "code",
   "execution_count": 41,
   "metadata": {},
   "outputs": [],
   "source": [
    "price_HOBBIES_1_015 = sell_prices_data[ (sell_prices_data['item_id']=='HOBBIES_1_015') & (sell_prices_data['store_id']=='CA_1')].sell_price"
   ]
  },
  {
   "cell_type": "code",
   "execution_count": 42,
   "metadata": {},
   "outputs": [
    {
     "data": {
      "text/plain": [
       "3318    0.70\n",
       "3319    0.70\n",
       "3320    0.70\n",
       "3321    0.72\n",
       "3322    0.72\n",
       "        ... \n",
       "3595    0.70\n",
       "3596    0.70\n",
       "3597    0.70\n",
       "3598    0.70\n",
       "3599    0.70\n",
       "Name: sell_price, Length: 282, dtype: float64"
      ]
     },
     "execution_count": 42,
     "metadata": {},
     "output_type": "execute_result"
    }
   ],
   "source": [
    "price_HOBBIES_1_015"
   ]
  },
  {
   "cell_type": "code",
   "execution_count": null,
   "metadata": {},
   "outputs": [],
   "source": []
  },
  {
   "cell_type": "code",
   "execution_count": 53,
   "metadata": {},
   "outputs": [],
   "source": [
    "def get_data(dataset,history_size,shape,item_id,store_id):\n",
    "    data=[]\n",
    "    label=[]\n",
    "    dataset_size = len(dataset)\n",
    "   # dataset_normalizer = Normalizer().fit(dataset.reshape(-1, 1)) \n",
    "    #dataset = dataset_normalizer.transform(dataset.reshape(-1, 1))\n",
    "    \n",
    "    sale_data = sell_prices_data[(sell_prices_data['item_id']==item_id) & (sell_prices_data['store_id']==store_id)]\n",
    "    \n",
    "    for i in reversed(range(history_size,dataset_size-1)):\n",
    "        x = dataset[i-history_size:i]\n",
    "        x = np.append(x,calender_data[['wday','month']].iloc[i].values)\n",
    "        wm_yr_wk = calender_data['wm_yr_wk'].iloc[i]\n",
    "        #current_price = sell_prices_data[sell_prices_data['wm_yr_wk']==wm_yr_wk].sell_price.values[0]\n",
    "       # x = np.append(x,current_price)\n",
    "        y = dataset[i]\n",
    "        data.append(x.reshape(shape))\n",
    "        label.append(y)\n",
    "    return np.array(data),np.array(label)"
   ]
  },
  {
   "cell_type": "code",
   "execution_count": 54,
   "metadata": {},
   "outputs": [],
   "source": [
    "p1 = prediction_data.iloc[14,:]"
   ]
  },
  {
   "cell_type": "code",
   "execution_count": 55,
   "metadata": {},
   "outputs": [],
   "source": [
    "train_data = p1[0:1800].values"
   ]
  },
  {
   "cell_type": "code",
   "execution_count": 56,
   "metadata": {
    "scrolled": false
   },
   "outputs": [],
   "source": [
    "train_x,train_y = get_data(train_data,history_size,shape,'HOBBIES_1_015','CA_1')"
   ]
  },
  {
   "cell_type": "code",
   "execution_count": 57,
   "metadata": {},
   "outputs": [],
   "source": [
    "test_data = p1[1800:1900].values"
   ]
  },
  {
   "cell_type": "code",
   "execution_count": 58,
   "metadata": {},
   "outputs": [],
   "source": [
    "test_x,test_y = get_data(test_data,history_size,shape,'HOBBIES_1_015','CA_11')"
   ]
  },
  {
   "cell_type": "code",
   "execution_count": 59,
   "metadata": {},
   "outputs": [
    {
     "data": {
      "text/plain": [
       "[<matplotlib.lines.Line2D at 0x7fe575ff8bd0>]"
      ]
     },
     "execution_count": 59,
     "metadata": {},
     "output_type": "execute_result"
    },
    {
     "data": {
      "image/png": "[encoded data removed]",
      "text/plain": [
       "<Figure size 720x432 with 1 Axes>"
      ]
     },
     "metadata": {
      "needs_background": "light"
     },
     "output_type": "display_data"
    }
   ],
   "source": [
    "plt.plot(range(0,price_HOBBIES_1_015.shape[0]),price_HOBBIES_1_015)"
   ]
  },
  {
   "cell_type": "code",
   "execution_count": 60,
   "metadata": {},
   "outputs": [
    {
     "data": {
      "text/plain": [
       "(1913,)"
      ]
     },
     "execution_count": 60,
     "metadata": {},
     "output_type": "execute_result"
    }
   ],
   "source": [
    "p1.shape"
   ]
  },
  {
   "cell_type": "code",
   "execution_count": 61,
   "metadata": {},
   "outputs": [
    {
     "data": {
      "text/plain": [
       "(282,)"
      ]
     },
     "execution_count": 61,
     "metadata": {},
     "output_type": "execute_result"
    }
   ],
   "source": [
    "price_HOBBIES_1_015.shape"
   ]
  },
  {
   "cell_type": "markdown",
   "metadata": {},
   "source": [
    "# RNN"
   ]
  },
  {
   "cell_type": "code",
   "execution_count": 62,
   "metadata": {
    "scrolled": true
   },
   "outputs": [
    {
     "name": "stdout",
     "output_type": "stream",
     "text": [
      "Train on 1796 samples\n",
      "Epoch 1/10\n",
      "1796/1796 [==============================] - 2s 1ms/sample - loss: 63.8137\n",
      "Epoch 2/10\n",
      "1796/1796 [==============================] - 1s 790us/sample - loss: 55.8924\n",
      "Epoch 3/10\n",
      "1796/1796 [==============================] - 1s 824us/sample - loss: 55.6810\n",
      "Epoch 4/10\n",
      "1796/1796 [==============================] - 2s 875us/sample - loss: 55.5563\n",
      "Epoch 5/10\n",
      "1796/1796 [==============================] - 1s 800us/sample - loss: 55.2742\n",
      "Epoch 6/10\n",
      "1796/1796 [==============================] - 2s 1ms/sample - loss: 55.3325\n",
      "Epoch 7/10\n",
      "1796/1796 [==============================] - 2s 936us/sample - loss: 54.9339\n",
      "Epoch 8/10\n",
      "1796/1796 [==============================] - 2s 1ms/sample - loss: 54.7517\n",
      "Epoch 9/10\n",
      "1796/1796 [==============================] - 3s 2ms/sample - loss: 54.5566\n",
      "Epoch 10/10\n",
      "1796/1796 [==============================] - 2s 1ms/sample - loss: 54.4333\n"
     ]
    },
    {
     "data": {
      "text/plain": [
       "[<matplotlib.lines.Line2D at 0x7fe5782d8dd0>]"
      ]
     },
     "execution_count": 62,
     "metadata": {},
     "output_type": "execute_result"
    },
    {
     "data": {
      "image/png": "[encoded data removed]",
      "text/plain": [
       "<Figure size 720x432 with 1 Axes>"
      ]
     },
     "metadata": {
      "needs_background": "light"
     },
     "output_type": "display_data"
    }
   ],
   "source": [
    "simple_lstm_model = keras.Sequential()\n",
    "simple_lstm_model.add(keras.layers.LSTM(units=128,input_shape=shape))\n",
    "simple_lstm_model.add(keras.layers.Dense(units=1))\n",
    "simple_lstm_model.compile(\n",
    "  loss='mean_squared_error',\n",
    "  optimizer=keras.optimizers.Adam(0.001)\n",
    ")\n",
    "simple_lstm_model.fit(train_x,train_y,epochs=10)\n",
    "pred_y = simple_lstm_model.predict(test_x)\n",
    "plt.plot(range(0 ,pred_y.shape[0]),pred_y)\n",
    "plt.plot(range(0 ,test_y.shape[0]),test_y)"
   ]
  },
  {
   "cell_type": "code",
   "execution_count": null,
   "metadata": {},
   "outputs": [],
   "source": [
    "for epoch in range(epochs):\n",
    "   # Split data to batches\n",
    "   for idx in range(0, data.shape[0], batch_size):\n",
    "        batch_data = data[idx : min(idx + batch_size, data.shape[0]),:]\n",
    "        batch_labels = labels[idx : min(idx + batch_size, labels.shape[0]),:]\n",
    "        feed_dict = {x: batch_data,\n",
    "                         y: batch_labels}\n",
    "        _, c_loss = sess.run([train_step, combined_loss], feed_dict)"
   ]
  },
  {
   "cell_type": "code",
   "execution_count": null,
   "metadata": {},
   "outputs": [],
   "source": [
    "def tilted_loss(q,y,f):\n",
    "    e = (y-f)\n",
    "    return K.mean(K.maximum(q*e, (q-1)*e), axis=-1)"
   ]
  },
  {
   "cell_type": "code",
   "execution_count": null,
   "metadata": {},
   "outputs": [],
   "source": [
    "def rnn_model():\n",
    "    simple_lstm_model = keras.Sequential()\n",
    "    simple_lstm_model.add(keras.layers.LSTM(\n",
    "      units=128,\n",
    "    input_shape=shape\n",
    "    ))\n",
    "    simple_lstm_model.add(keras.layers.Dense(units=1))\n",
    "    \n",
    "    return simple_lstm_model"
   ]
  },
  {
   "cell_type": "code",
   "execution_count": null,
   "metadata": {},
   "outputs": [],
   "source": [
    "qs = [0.1, 0.5, 0.9]\n",
    "plt.plot(range(0 ,test_y.shape[0]),test_y)\n",
    "for q in qs:\n",
    "    model = rnn_model()\n",
    "    model.compile(loss=lambda y,f: tilted_loss(q,y,f),  optimizer=keras.optimizers.Adam(0.001))\n",
    "    model.fit(train_x,train_y, epochs=25, batch_size=8, verbose=0)\n",
    "    \n",
    "    # Predict the quantile\n",
    "    y_pred = model.predict(test_x)\n",
    "    plt.plot(range(0 ,test_y.shape[0]), y_pred, label=q) # plot out this quantile\n",
    "\n",
    "plt.legend()    \n",
    "plt.savefig('quantile.png')\n",
    "plt.show()"
   ]
  },
  {
   "cell_type": "code",
   "execution_count": null,
   "metadata": {},
   "outputs": [],
   "source": [
    "train_y.mean()"
   ]
  },
  {
   "cell_type": "code",
   "execution_count": null,
   "metadata": {},
   "outputs": [],
   "source": [
    "test_y.mean()"
   ]
  },
  {
   "cell_type": "code",
   "execution_count": null,
   "metadata": {},
   "outputs": [],
   "source": [
    "pred_y.mean()"
   ]
  },
  {
   "cell_type": "code",
   "execution_count": null,
   "metadata": {
    "scrolled": true
   },
   "outputs": [],
   "source": [
    "simple_lstm_model.get_config()"
   ]
  },
  {
   "cell_type": "markdown",
   "metadata": {},
   "source": [
    "# CART"
   ]
  },
  {
   "cell_type": "code",
   "execution_count": null,
   "metadata": {},
   "outputs": [],
   "source": [
    "#clf = svm.SVR() \n",
    "clf = RandomForestClassifier(max_depth=5, random_state=0)"
   ]
  },
  {
   "cell_type": "code",
   "execution_count": null,
   "metadata": {},
   "outputs": [],
   "source": [
    "train_x.shape"
   ]
  },
  {
   "cell_type": "code",
   "execution_count": null,
   "metadata": {},
   "outputs": [],
   "source": [
    "train_x_svm = np.squeeze(train_x)"
   ]
  },
  {
   "cell_type": "code",
   "execution_count": null,
   "metadata": {
    "scrolled": true
   },
   "outputs": [],
   "source": [
    "clf.fit(train_x_svm,train_y)"
   ]
  },
  {
   "cell_type": "code",
   "execution_count": null,
   "metadata": {},
   "outputs": [],
   "source": [
    "y_pred_svr = clf.predict(np.squeeze(test_x))"
   ]
  },
  {
   "cell_type": "code",
   "execution_count": null,
   "metadata": {},
   "outputs": [],
   "source": [
    "test_y.mean()"
   ]
  },
  {
   "cell_type": "code",
   "execution_count": null,
   "metadata": {
    "scrolled": true
   },
   "outputs": [],
   "source": [
    "y_pred_svr"
   ]
  },
  {
   "cell_type": "code",
   "execution_count": null,
   "metadata": {},
   "outputs": [],
   "source": [
    "plt.plot(range(0 ,y_pred_svr.shape[0]),y_pred_svr)\n",
    "plt.plot(range(0 ,test_y.shape[0]),test_y)"
   ]
  },
  {
   "cell_type": "code",
   "execution_count": null,
   "metadata": {},
   "outputs": [],
   "source": [
    "p1.value_counts"
   ]
  },
  {
   "cell_type": "code",
   "execution_count": null,
   "metadata": {},
   "outputs": [],
   "source": [
    "np.unique(train_y,return_counts=True)"
   ]
  },
  {
   "cell_type": "code",
   "execution_count": null,
   "metadata": {},
   "outputs": [],
   "source": [
    "p1.mean()"
   ]
  },
  {
   "cell_type": "code",
   "execution_count": null,
   "metadata": {},
   "outputs": [],
   "source": [
    "p1= p1.reset_index()"
   ]
  },
  {
   "cell_type": "code",
   "execution_count": null,
   "metadata": {},
   "outputs": [],
   "source": [
    "p1_is_event = p1.loc[calender_data[0:1913]['is_event']!=0]"
   ]
  },
  {
   "cell_type": "code",
   "execution_count": null,
   "metadata": {},
   "outputs": [],
   "source": [
    "c = calender_data[0:1913]['is_event']!=0"
   ]
  },
  {
   "cell_type": "code",
   "execution_count": null,
   "metadata": {},
   "outputs": [],
   "source": [
    "p1_is_event.shape"
   ]
  },
  {
   "cell_type": "code",
   "execution_count": null,
   "metadata": {},
   "outputs": [],
   "source": [
    "p1_is_event[0].mean()"
   ]
  },
  {
   "cell_type": "code",
   "execution_count": null,
   "metadata": {},
   "outputs": [],
   "source": [
    "p1_peak_days = calender_data[0:p1.shape[0]].loc[p1[0]>1]"
   ]
  },
  {
   "cell_type": "code",
   "execution_count": null,
   "metadata": {},
   "outputs": [],
   "source": [
    "p1_group_week_day = p1_peak_days.groupby('weekday')"
   ]
  },
  {
   "cell_type": "code",
   "execution_count": null,
   "metadata": {},
   "outputs": [],
   "source": [
    "p1_group_week_day.count()"
   ]
  },
  {
   "cell_type": "code",
   "execution_count": null,
   "metadata": {
    "scrolled": true
   },
   "outputs": [],
   "source": [
    "p1_peak_days"
   ]
  },
  {
   "cell_type": "code",
   "execution_count": null,
   "metadata": {},
   "outputs": [],
   "source": []
  },
  {
   "cell_type": "markdown",
   "metadata": {},
   "source": [
    "## Training model only for peak sales independent of previous values"
   ]
  },
  {
   "cell_type": "code",
   "execution_count": null,
   "metadata": {},
   "outputs": [],
   "source": [
    "p1 = prediction_data.iloc[0,:]"
   ]
  },
  {
   "cell_type": "code",
   "execution_count": null,
   "metadata": {},
   "outputs": [],
   "source": [
    "columns_for_training = ['wday', 'month','snap_CA']"
   ]
  },
  {
   "cell_type": "code",
   "execution_count": null,
   "metadata": {},
   "outputs": [],
   "source": [
    "p1 = p1.reset_index(drop=True)"
   ]
  },
  {
   "cell_type": "code",
   "execution_count": null,
   "metadata": {},
   "outputs": [],
   "source": [
    "train_range = range(0,1500)\n",
    "test_range = range(1500,1800)"
   ]
  },
  {
   "cell_type": "code",
   "execution_count": null,
   "metadata": {},
   "outputs": [],
   "source": [
    "p1_train = p1.iloc[train_range]\n",
    "p1_test = p1.iloc[test_range]"
   ]
  },
  {
   "cell_type": "code",
   "execution_count": null,
   "metadata": {},
   "outputs": [],
   "source": [
    "p1_peak_days_train = calender_data[columns_for_training][0:p1_train.shape[0]].loc[p1_train>=1]\n",
    "p1_peak_sales_train = p1_train.loc[p1_train>=1]"
   ]
  },
  {
   "cell_type": "code",
   "execution_count": null,
   "metadata": {},
   "outputs": [],
   "source": [
    "p1_peak_days_test = calender_data[columns_for_training][1500:1800].loc[p1_test>=1]\n",
    "p1_peak_sales_test = p1_test.loc[p1_test>=1]"
   ]
  },
  {
   "cell_type": "markdown",
   "metadata": {},
   "source": [
    "categorical_features = ['event_name_1']\n",
    "categorical_transformer = Pipeline(steps=[\n",
    "                        (\"Encoding\", OneHotEncoder())\n",
    "                        ])\n",
    "\n",
    "preprocessor = ColumnTransformer(\n",
    "    transformers=[\n",
    "        ('cat', categorical_transformer, categorical_features),\n",
    "    ])"
   ]
  },
  {
   "cell_type": "markdown",
   "metadata": {},
   "source": [
    "temp = preprocessor.fit_transform(p1_peak_days)"
   ]
  },
  {
   "cell_type": "code",
   "execution_count": null,
   "metadata": {},
   "outputs": [],
   "source": [
    "clf = RandomForestClassifier(max_depth=5, random_state=0)"
   ]
  },
  {
   "cell_type": "code",
   "execution_count": null,
   "metadata": {},
   "outputs": [],
   "source": [
    "clf.fit(p1_peak_days_train,p1_peak_sales_train)"
   ]
  },
  {
   "cell_type": "code",
   "execution_count": null,
   "metadata": {},
   "outputs": [],
   "source": [
    "y_pred_peak_sales = clf.predict(p1_peak_days_test)"
   ]
  },
  {
   "cell_type": "code",
   "execution_count": null,
   "metadata": {},
   "outputs": [],
   "source": [
    "plt.plot(range(0 ,y_pred_peak_sales.shape[0]),y_pred_peak_sales)\n",
    "plt.plot(range(0 ,p1_peak_sales_test.shape[0]),p1_peak_sales_test)"
   ]
  },
  {
   "cell_type": "code",
   "execution_count": null,
   "metadata": {},
   "outputs": [],
   "source": [
    "calender_data['is_event'].iloc[p1_peak_days_test.index].value_counts()"
   ]
  },
  {
   "cell_type": "code",
   "execution_count": null,
   "metadata": {},
   "outputs": [],
   "source": [
    "p1_peak_days_test.shape"
   ]
  },
  {
   "cell_type": "code",
   "execution_count": null,
   "metadata": {
    "scrolled": true
   },
   "outputs": [],
   "source": [
    "clf.feature_importances_"
   ]
  },
  {
   "cell_type": "code",
   "execution_count": null,
   "metadata": {},
   "outputs": [],
   "source": [
    "high_sales_p1_days = calender_data[0:p1.shape[0]].loc[p1>1]"
   ]
  },
  {
   "cell_type": "code",
   "execution_count": null,
   "metadata": {},
   "outputs": [],
   "source": [
    "high_sales_p1_days.groupby('weekday').count()"
   ]
  },
  {
   "cell_type": "markdown",
   "metadata": {},
   "source": [
    "Friday and Saturday has high probability of having high sales. We can use weekday with label encoder starting from \n",
    "friday"
   ]
  },
  {
   "cell_type": "code",
   "execution_count": null,
   "metadata": {},
   "outputs": [],
   "source": [
    "index_high_sales_p1_days =  high_sales_p1_days.index"
   ]
  },
  {
   "cell_type": "code",
   "execution_count": null,
   "metadata": {},
   "outputs": [],
   "source": [
    "diff = [index_high_sales_p1_days[i+1] - index_high_sales_p1_days[i] for i in range(0,len(index_high_sales_p1_days)-1)]"
   ]
  },
  {
   "cell_type": "code",
   "execution_count": null,
   "metadata": {},
   "outputs": [],
   "source": [
    "plt.plot(range(0,len(diff)),diff)\n",
    "plt.plot(range(0,len(diff)),pd.Series(diff).rolling(window = 10).mean())"
   ]
  },
  {
   "cell_type": "code",
   "execution_count": null,
   "metadata": {},
   "outputs": [],
   "source": [
    "p1.describe()"
   ]
  },
  {
   "cell_type": "code",
   "execution_count": 89,
   "metadata": {},
   "outputs": [],
   "source": []
  },
  {
   "cell_type": "code",
   "execution_count": null,
   "metadata": {},
   "outputs": [],
   "source": []
  }
 ],
 "metadata": {
  "kernelspec": {
   "display_name": "Python 3",
   "language": "python",
   "name": "python3"
  },
  "language_info": {
   "codemirror_mode": {
    "name": "ipython",
    "version": 3
   },
   "file_extension": ".py",
   "mimetype": "text/x-python",
   "name": "python",
   "nbconvert_exporter": "python",
   "pygments_lexer": "ipython3",
   "version": "3.7.4"
  }
 },
 "nbformat": 4,
 "nbformat_minor": 2
}
