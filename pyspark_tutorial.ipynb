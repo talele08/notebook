{
 "cells": [
  {
   "cell_type": "code",
   "execution_count": 16,
   "metadata": {
    "scrolled": false
   },
   "outputs": [],
   "source": [
    "from __future__ import absolute_import, division, print_function, unicode_literals\n",
    "import tensorflow as tf"
   ]
  },
  {
   "cell_type": "code",
   "execution_count": 17,
   "metadata": {},
   "outputs": [],
   "source": [
    "ACCURACY_THRESHOLD = 0.99\n",
    "\n",
    "class myclallback(tf.keras.callbacks.Callback):\n",
    "    def on_epoch_end(self,epoch,log={}):\n",
    "        if(log.get('acc') > ACCURACY_THRESHOLD):\n",
    "            print(\"\\nReached %2.2f%% accuracy, so stopping training!!\" %(ACCURACY_THRESHOLD*100))\n",
    "            self.model.stop_training = True"
   ]
  },
  {
   "cell_type": "code",
   "execution_count": 18,
   "metadata": {},
   "outputs": [],
   "source": [
    "mnist = tf.keras.datasets.mnist\n",
    "\n",
    "(x_train, y_train) , (x_test, y_test) = mnist.load_data()\n",
    "\n",
    "x_train , x_test = x_train/255.0 , x_test/255.0  \n",
    "\n",
    "callbacks = myclallback()\n"
   ]
  },
  {
   "cell_type": "code",
   "execution_count": 19,
   "metadata": {},
   "outputs": [],
   "source": [
    "model = tf.keras.models.Sequential([\n",
    "    tf.keras.layers.Flatten(input_shape=(28, 28)),\n",
    "    tf.keras.layers.Dense(512, activation = tf.nn.relu),\n",
    "    tf.keras.layers.Dense(10, activation = tf.nn.softmax)\n",
    "])"
   ]
  },
  {
   "cell_type": "code",
   "execution_count": 20,
   "metadata": {},
   "outputs": [],
   "source": [
    "model.compile(optimizer = 'adam', loss = 'sparse_categorical_crossentropy', metrics = ['accuracy'])"
   ]
  },
  {
   "cell_type": "code",
   "execution_count": 21,
   "metadata": {},
   "outputs": [
    {
     "name": "stdout",
     "output_type": "stream",
     "text": [
      "Epoch 1/20\n",
      "60000/60000 [==============================] - 3s 53us/sample - loss: 0.2007 - acc: 0.9409\n",
      "Epoch 2/20\n",
      "60000/60000 [==============================] - 3s 52us/sample - loss: 0.0801 - acc: 0.9753\n",
      "Epoch 3/20\n",
      "60000/60000 [==============================] - 3s 53us/sample - loss: 0.0526 - acc: 0.9839\n",
      "Epoch 4/20\n",
      "60000/60000 [==============================] - 3s 54us/sample - loss: 0.0379 - acc: 0.9880\n",
      "Epoch 5/20\n",
      "59776/60000 [============================>.] - ETA: 0s - loss: 0.0272 - acc: 0.9915\n",
      "Reached 99.00% accuracy, so stopping training!!\n",
      "60000/60000 [==============================] - 3s 54us/sample - loss: 0.0272 - acc: 0.9915\n"
     ]
    },
    {
     "data": {
      "text/plain": [
       "<tensorflow.python.keras.callbacks.History at 0x7f406c700048>"
      ]
     },
     "execution_count": 21,
     "metadata": {},
     "output_type": "execute_result"
    }
   ],
   "source": [
    "model.fit(x_train, y_train, epochs = 20, callbacks = [callbacks])"
   ]
  },
  {
   "cell_type": "code",
   "execution_count": null,
   "metadata": {},
   "outputs": [],
   "source": []
  },
  {
   "cell_type": "code",
   "execution_count": null,
   "metadata": {},
   "outputs": [],
   "source": []
  },
  {
   "cell_type": "code",
   "execution_count": 17,
   "metadata": {},
   "outputs": [],
   "source": [
    "x_train = x_train[...,tf.newaxis]"
   ]
  },
  {
   "cell_type": "code",
   "execution_count": 13,
   "metadata": {},
   "outputs": [],
   "source": [
    "x_test = x_test[...,tf.newaxis]"
   ]
  },
  {
   "cell_type": "code",
   "execution_count": 19,
   "metadata": {},
   "outputs": [],
   "source": [
    "train_ds = tf.data.Dataset.from_tensor_slices((x_train,y_train)).shuffle(10000).batch(32)"
   ]
  },
  {
   "cell_type": "code",
   "execution_count": 21,
   "metadata": {},
   "outputs": [],
   "source": [
    "test_ds = tf.data.Dataset.from_tensor_slices((x_test,y_test)).batch(32)"
   ]
  },
  {
   "cell_type": "code",
   "execution_count": 22,
   "metadata": {},
   "outputs": [
    {
     "data": {
      "text/plain": [
       "tensorflow.python.data.ops.dataset_ops.DatasetV1Adapter"
      ]
     },
     "execution_count": 22,
     "metadata": {},
     "output_type": "execute_result"
    }
   ],
   "source": [
    "type(train_ds)"
   ]
  },
  {
   "cell_type": "markdown",
   "metadata": {},
   "source": [
    "## AutoEncoder"
   ]
  },
  {
   "cell_type": "code",
   "execution_count": 3,
   "metadata": {},
   "outputs": [],
   "source": [
    "class Encoder(tf.keras.layers.Layer):\n",
    "  def __init__(self, intermediate_dim):\n",
    "    super(Encoder, self).__init__()\n",
    "    self.hidden_layer = tf.keras.layers.Dense(\n",
    "      units=intermediate_dim,\n",
    "      activation=tf.nn.relu,\n",
    "      kernel_initializer='he_uniform'\n",
    "    )\n",
    "    self.output_layer = tf.keras.layers.Dense(\n",
    "      units=intermediate_dim,\n",
    "      activation=tf.nn.sigmoid\n",
    "    )\n",
    "    \n",
    "  def call(self, input_features):\n",
    "    activation = self.hidden_layer(input_features)\n",
    "    return self.output_layer(activation)"
   ]
  },
  {
   "cell_type": "code",
   "execution_count": 4,
   "metadata": {},
   "outputs": [],
   "source": [
    "class Decoder(tf.keras.layers.Layer):\n",
    "  def __init__(self, intermediate_dim, original_dim):\n",
    "    super(Decoder, self).__init__()\n",
    "    self.hidden_layer = tf.keras.layers.Dense(\n",
    "      units=intermediate_dim,\n",
    "      activation=tf.nn.relu,\n",
    "      kernel_initializer='he_uniform'\n",
    "    )\n",
    "    self.output_layer = tf.keras.layers.Dense(\n",
    "      units=original_dim,\n",
    "      activation=tf.nn.sigmoid\n",
    "    )\n",
    "  \n",
    "  def call(self, code):\n",
    "    activation = self.hidden_layer(code)\n",
    "    return self.output_layer(activation)"
   ]
  },
  {
   "cell_type": "code",
   "execution_count": null,
   "metadata": {},
   "outputs": [],
   "source": []
  },
  {
   "cell_type": "code",
   "execution_count": 10,
   "metadata": {},
   "outputs": [],
   "source": [
    "class test:\n",
    "    var1 = 10\n",
    "    var2 = 30\n",
    "    \n",
    "    def __init__(self,var3):\n",
    "        self.var3 = var3\n",
    "    \n",
    "    def __call__(self, var4):\n",
    "        return self.var1*self.var2*self.var3*var4"
   ]
  },
  {
   "cell_type": "code",
   "execution_count": 11,
   "metadata": {},
   "outputs": [],
   "source": [
    "a = test(20)"
   ]
  },
  {
   "cell_type": "code",
   "execution_count": 12,
   "metadata": {},
   "outputs": [],
   "source": [
    "b = a(40)"
   ]
  },
  {
   "cell_type": "code",
   "execution_count": 13,
   "metadata": {},
   "outputs": [
    {
     "data": {
      "text/plain": [
       "240000"
      ]
     },
     "execution_count": 13,
     "metadata": {},
     "output_type": "execute_result"
    }
   ],
   "source": [
    "b"
   ]
  },
  {
   "cell_type": "markdown",
   "metadata": {},
   "source": [
    "# CronJob script"
   ]
  },
  {
   "cell_type": "code",
   "execution_count": 19,
   "metadata": {},
   "outputs": [],
   "source": [
    "import requests\n",
    "import sys\n",
    "import json\n",
    "\n",
    "# The first argument to the script is the job name\n",
    "argumentList = sys.argv \n",
    "job_name = sys.argv[1]\n",
    "\n",
    "\n",
    "# Calls MDMS service to fetch cron job API endpoints configuration\n",
    "\n",
    "url = \"http://localhost:8094/egov-mdms-service/v1/_search\"\n",
    "\n",
    "payload = \"{\\n \\\"RequestInfo\\\": {\\n   \\\"apiId\\\": \\\"asset-services\\\",\\n   \\\"ver\\\": null,\\n   \\\"ts\\\": null,\\n   \\\"action\\\": null,\\n   \\\"did\\\": null,\\n   \\\"key\\\": null,\\n   \\\"msgId\\\": \\\"search with from and to values\\\",\\n   \\\"authToken\\\": \\\"f81648a6-bfa0-4a5e-afc2-57d751f256b7\\\"\\n },\\n \\\"MdmsCriteria\\\": {\\n   \\\"tenantId\\\": \\\"pb\\\",\\n   \\\"moduleDetails\\\": [\\n     {\\n       \\\"moduleName\\\": \\\"common-masters\\\",\\n       \\\"masterDetails\\\": [\\n         {\\n           \\\"name\\\": \\\"CronJobs\\\"\\n         }\\n       ]\\n     }\\n   ]\\n }\\n}\"\n",
    "headers = {\n",
    "  'Content-Type': 'application/json'\n",
    "}\n",
    "\n",
    "response = requests.request(\"POST\", url, headers=headers, data = payload)\n",
    "\n",
    "# Convert the response to json\n",
    "mdms_data = response.json()"
   ]
  },
  {
   "cell_type": "code",
   "execution_count": 20,
   "metadata": {},
   "outputs": [],
   "source": [
    "for data in mdms_data[\"MdmsRes\"][\"common-masters\"][\"CronJobs\"]:\n",
    "    \n",
    "    params = None\n",
    "    payload = None\n",
    "    headers = None\n",
    "\n",
    "    if data['active'] :\n",
    "        method = data['method']\n",
    "        url = data['url']\n",
    "        \n",
    "        if 'header' in data.keys():\n",
    "            headers = data['header']\n",
    "            \n",
    "        if 'payload' in data.keys():    \n",
    "            payload = data['payload']\n",
    "            \n",
    "        if 'parmas' in data.keys():\n",
    "            params = data['params']\n",
    "            \n",
    "        res = requests.request(method, url, params = params, headers = headers, data = json.dumps(payload))    "
   ]
  },
  {
   "cell_type": "code",
   "execution_count": 22,
   "metadata": {},
   "outputs": [
    {
     "data": {
      "text/plain": [
       "{'ResponseInfo': None,\n",
       " 'MdmsRes': {'common-masters': {'Department': [{'name': 'Street Lights',\n",
       "     'code': 'DEPT_1',\n",
       "     'active': True},\n",
       "    {'name': 'Building & Roads', 'code': 'DEPT_2', 'active': True},\n",
       "    {'name': 'Health & Sanitation', 'code': 'DEPT_3', 'active': True},\n",
       "    {'name': 'Operation & Maintenance', 'code': 'DEPT_4', 'active': True},\n",
       "    {'name': 'Horticulture', 'code': 'DEPT_5', 'active': True},\n",
       "    {'name': 'Building Branch', 'code': 'DEPT_6', 'active': True},\n",
       "    {'name': 'Citizen service desk', 'code': 'DEPT_7', 'active': True},\n",
       "    {'name': 'Complaint Cell', 'code': 'DEPT_8', 'active': True},\n",
       "    {'name': 'Executive Branch', 'code': 'DEPT_9', 'active': True},\n",
       "    {'name': 'Others', 'code': 'DEPT_10', 'active': True},\n",
       "    {'name': 'Tax Branch', 'code': 'DEPT_13', 'active': True},\n",
       "    {'name': 'Accounts Branch', 'code': 'DEPT_25', 'active': True},\n",
       "    {'name': 'Works Branch', 'code': 'DEPT_35', 'active': True}]}}}"
      ]
     },
     "execution_count": 22,
     "metadata": {},
     "output_type": "execute_result"
    }
   ],
   "source": [
    "res.json()"
   ]
  },
  {
   "cell_type": "code",
   "execution_count": 3,
   "metadata": {},
   "outputs": [],
   "source": [
    "import requests\n",
    "\n",
    "# Call user search to fetch SYSTEM user\n",
    "user_url = \"http://egov-micro-dev.egovernments.org/user/v1/_search?tenantId=pb\"\n",
    "\n",
    "user_payload = \"{\\n\\t\\\"requestInfo\\\" :{\\n   \\\"apiId\\\": \\\"ap.public\\\",\\n    \\\"ver\\\": \\\"1\\\",\\n    \\\"ts\\\": 45646456,\\n    \\\"action\\\": \\\"POST\\\",\\n    \\\"did\\\": null,\\n    \\\"key\\\": null,\\n    \\\"msgId\\\": \\\"8c11c5ca-03bd-11e7-93ae-92361f002671\\\",\\n    \\\"userInfo\\\": {\\n    \\t\\\"id\\\" : 32\\n    },\\n    \\\"authToken\\\": \\\"f81648a6-bfa0-4a5e-afc2-57d751f256b7\\\"\\n\\t},\\n\\t\\n   \\\"tenantId\\\" : \\\"pb\\\",\\n   \\\"userType\\\":\\\"SYSTEM\\\",\\n   \\\"userName\\\" : \\\"CRONJOB\\\",\\n   \\\"pageSize\\\": \\\"1\\\",\\n   \\\"roleCodes\\\" : [\\\"ANONYMOUS\\\"]\\n\\n\\n}\\n   \\n   \\n   \\n   \\n   \\n   \\n   \\n   \\n   \\n   \\n   \\n   \\n   \\n   \\n   \\n   \\n   \\n   \\n   \\n   \\n   \\n   \\n   \\n   \\n   \\n   \\n   \\n   \\n   \\n   \\n   \\n   \\n   \\n   \\n   \\n   \\n   \\n   \\n   \\n   \\n   \\n   \\n}\\n\"\n",
    "user_headers = {\n",
    "  'Content-Type': 'application/json'\n",
    "}\n",
    "\n",
    "user_response = requests.request(\"POST\", user_url, headers=user_headers, data = user_payload)"
   ]
  },
  {
   "cell_type": "code",
   "execution_count": 5,
   "metadata": {},
   "outputs": [],
   "source": [
    "users = user_response.json()['user']"
   ]
  },
  {
   "cell_type": "code",
   "execution_count": 11,
   "metadata": {},
   "outputs": [
    {
     "ename": "Exception",
     "evalue": "System user not found",
     "output_type": "error",
     "traceback": [
      "\u001b[0;31m---------------------------------------------------------------------------\u001b[0m",
      "\u001b[0;31mException\u001b[0m                                 Traceback (most recent call last)",
      "\u001b[0;32m<ipython-input-11-7de603c47ebf>\u001b[0m in \u001b[0;36m<module>\u001b[0;34m\u001b[0m\n\u001b[1;32m      1\u001b[0m \u001b[0;32mif\u001b[0m \u001b[0mlen\u001b[0m\u001b[0;34m(\u001b[0m\u001b[0muser\u001b[0m\u001b[0;34m)\u001b[0m\u001b[0;34m==\u001b[0m\u001b[0;36m0\u001b[0m\u001b[0;34m:\u001b[0m\u001b[0;34m\u001b[0m\u001b[0;34m\u001b[0m\u001b[0m\n\u001b[0;32m----> 2\u001b[0;31m     \u001b[0;32mraise\u001b[0m \u001b[0mException\u001b[0m\u001b[0;34m(\u001b[0m\u001b[0;34m\"System user not found\"\u001b[0m\u001b[0;34m)\u001b[0m\u001b[0;34m\u001b[0m\u001b[0;34m\u001b[0m\u001b[0m\n\u001b[0m",
      "\u001b[0;31mException\u001b[0m: System user not found"
     ]
    }
   ],
   "source": [
    "if len(user)==0:\n",
    "    raise Exception(\"System user not found\")"
   ]
  },
  {
   "cell_type": "code",
   "execution_count": 33,
   "metadata": {},
   "outputs": [],
   "source": [
    "RequestInfo = \"{\\n  \\\"RequestInfo\\\": {\\n    \\\"apiId\\\": \\\"Rainmaker\\\",\\n    \\\"ver\\\": \\\".01\\\",\\n    \\\"action\\\": \\\"\\\",\\n    \\\"did\\\": \\\"1\\\",\\n    \\\"key\\\": \\\"\\\",\\n    \\\"msgId\\\": \\\"20170310130900|en_IN\\\",\\n    \\\"requesterId\\\": \\\"\\\",\\n    \\\"userInfo\\\": \\\"{SYSTEM_USER}\\\"\\n  }\\n}\""
   ]
  },
  {
   "cell_type": "code",
   "execution_count": 34,
   "metadata": {},
   "outputs": [
    {
     "data": {
      "text/plain": [
       "'\"{\\\\n  \\\\\"RequestInfo\\\\\": {\\\\n    \\\\\"apiId\\\\\": \\\\\"Rainmaker\\\\\",\\\\n    \\\\\"ver\\\\\": \\\\\".01\\\\\",\\\\n    \\\\\"action\\\\\": \\\\\"\\\\\",\\\\n    \\\\\"did\\\\\": \\\\\"1\\\\\",\\\\n    \\\\\"key\\\\\": \\\\\"\\\\\",\\\\n    \\\\\"msgId\\\\\": \\\\\"20170310130900|en_IN\\\\\",\\\\n    \\\\\"requesterId\\\\\": \\\\\"\\\\\",\\\\n    \\\\\"authToken\\\\\": \\\\\"f81648a6-bfa0-4a5e-afc2-57d751f256b7\\\\\"\\\\n  }\\\\n}\"'"
      ]
     },
     "execution_count": 34,
     "metadata": {},
     "output_type": "execute_result"
    }
   ],
   "source": [
    "json.dumps(RequestInfo)"
   ]
  },
  {
   "cell_type": "code",
   "execution_count": 4,
   "metadata": {},
   "outputs": [],
   "source": [
    "import requests\n",
    "import sys\n",
    "import json\n",
    "\n",
    "# The first argument to the script is the job name\n",
    "argumentList = sys.argv \n",
    "job_name = sys.argv[1]\n",
    "\n",
    "\n",
    "# Calls MDMS service to fetch cron job API endpoints configuration\n",
    "\n",
    "mdms_url = \"http://localhost:8094/egov-mdms-service/v1/_search\"\n",
    "mdms_payload = \"{\\n \\\"RequestInfo\\\": {\\n   \\\"apiId\\\": \\\"asset-services\\\",\\n   \\\"ver\\\": null,\\n   \\\"ts\\\": null,\\n   \\\"action\\\": null,\\n   \\\"did\\\": null,\\n   \\\"key\\\": null,\\n   \\\"msgId\\\": \\\"search with from and to values\\\",\\n   \\\"authToken\\\": \\\"f81648a6-bfa0-4a5e-afc2-57d751f256b7\\\"\\n },\\n \\\"MdmsCriteria\\\": {\\n   \\\"tenantId\\\": \\\"pb\\\",\\n   \\\"moduleDetails\\\": [\\n     {\\n       \\\"moduleName\\\": \\\"common-masters\\\",\\n       \\\"masterDetails\\\": [\\n         {\\n           \\\"name\\\": \\\"CronJobAPIConfig\\\"\\n         }\\n       ]\\n     }\\n   ]\\n }\\n}\"\n",
    "mdms_headers = {\n",
    "  'Content-Type': 'application/json'\n",
    "}\n",
    "response = requests.request(\"POST\", mdms_url, headers=mdms_headers, data = mdms_payload)\n",
    "\n",
    "# Convert the response to json\n",
    "mdms_data = response.json()\n",
    "\n",
    "\n",
    "# Call user search to fetch SYSTEM user\n",
    "user_url = \"https://egov-micro-dev.egovernments.org/user/v1/_search?tenantId=pb\"\n",
    "user_payload = \"{\\n\\t\\\"requestInfo\\\" :{\\n   \\\"apiId\\\": \\\"ap.public\\\",\\n    \\\"ver\\\": \\\"1\\\",\\n    \\\"ts\\\": 45646456,\\n    \\\"action\\\": \\\"POST\\\",\\n    \\\"did\\\": null,\\n    \\\"key\\\": null,\\n    \\\"msgId\\\": \\\"8c11c5ca-03bd-11e7-93ae-92361f002671\\\",\\n    \\\"userInfo\\\": {\\n    \\t\\\"id\\\" : 32\\n    },\\n    \\\"authToken\\\": \\\"5eb3655f-31b1-4cd5-b8c2-4f9c033510d4\\\"\\n\\t},\\n\\t\\n   \\\"tenantId\\\" : \\\"pb\\\",\\n   \\\"userType\\\":\\\"SYSTEM\\\",\\n   \\\"userName\\\" : \\\"CRONJOB\\\",\\n   \\\"pageSize\\\": \\\"1\\\",\\n   \\\"roleCodes\\\" : [\\\"ANONYMOUS\\\"]\\n\\n\\n}\\n   \\n   \\n   \\n   \\n   \\n   \\n   \\n   \\n   \\n   \\n   \\n   \\n   \\n   \\n   \\n   \\n   \\n   \\n   \\n   \\n   \\n   \\n   \\n   \\n   \\n   \\n   \\n   \\n   \\n   \\n   \\n   \\n   \\n   \\n   \\n   \\n   \\n   \\n   \\n   \\n   \\n   \\n}\\n\"\n",
    "user_headers = {\n",
    "  'Content-Type': 'application/json'\n",
    "}\n",
    "user_response = requests.request(\"POST\", user_url, headers=user_headers, data = user_payload)\n",
    "users = user_response.json()['user']\n",
    "if len(users)==0:\n",
    "    raise Exception(\"System user not found\")\n",
    "else:\n",
    "    userInfo = users[0]\n",
    "\n",
    "\n",
    "\n",
    "RequestInfo = \"{\\n    \\\"apiId\\\": \\\"Rainmaker\\\",\\n    \\\"ver\\\": \\\".01\\\",\\n    \\\"action\\\": \\\"\\\",\\n    \\\"did\\\": \\\"1\\\",\\n    \\\"key\\\": \\\"\\\",\\n    \\\"msgId\\\": \\\"20170310130900|en_IN\\\",\\n    \\\"requesterId\\\": \\\"\\\",\\n    \\\"userInfo\\\": \\\"{SYSTEM_USER}\\\"\\n  }\"\n",
    "RequestInfo = RequestInfo.replace(\"{SYSTEM_USER}\",str(userInfo))\n",
    "\n",
    "\n",
    "\n",
    "# Looping through each entry in the config, it checks if the active flag is true and jobName \n",
    "# matches the job name given as argument if both criteria fulfilled the given http request is called\n",
    "\n"
   ]
  },
  {
   "cell_type": "code",
   "execution_count": 5,
   "metadata": {},
   "outputs": [],
   "source": [
    "for data in mdms_data[\"MdmsRes\"][\"common-masters\"][\"CronJobAPIConfig\"]:\n",
    "    \n",
    "    params = None\n",
    "    payload = None\n",
    "    headers = None\n",
    "\n",
    "    if data[\"active\"] and data[\"jobName\"]==job_name:\n",
    "        method = data[\"method\"]\n",
    "        url = data[\"url\"]\n",
    "        \n",
    "        if \"header\" in data.keys():\n",
    "            headers = data[\"header\"]\n",
    "            \n",
    "        if 'payload' in data.keys():    \n",
    "            payload = data[\"payload\"]\n",
    "            if \"RequestInfo\" in payload:\n",
    "                if payload[\"RequestInfo\"]==\"{DEFAULT_REQUESTINFO}\":\n",
    "                    payload[\"RequestInfo\"] = RequestInfo\n",
    "            \n",
    "        if 'parmas' in data.keys():\n",
    "            params = data['params']\n",
    "\n",
    "        print (payload)\n",
    "            \n",
    "        res = requests.request(method, url, params = params, headers = headers, data = json.dumps(payload))"
   ]
  },
  {
   "cell_type": "code",
   "execution_count": null,
   "metadata": {},
   "outputs": [],
   "source": []
  }
 ],
 "metadata": {
  "kernelspec": {
   "display_name": "Python 3",
   "language": "python",
   "name": "python3"
  },
  "language_info": {
   "codemirror_mode": {
    "name": "ipython",
    "version": 3
   },
   "file_extension": ".py",
   "mimetype": "text/x-python",
   "name": "python",
   "nbconvert_exporter": "python",
   "pygments_lexer": "ipython3",
   "version": "3.7.4"
  }
 },
 "nbformat": 4,
 "nbformat_minor": 2
}
